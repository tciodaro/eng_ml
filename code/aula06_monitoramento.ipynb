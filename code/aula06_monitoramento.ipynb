{
 "cells": [
  {
   "cell_type": "code",
   "execution_count": 3,
   "id": "68084f4f-1a6b-41d2-9b9f-e5a4b1f599e7",
   "metadata": {
    "tags": []
   },
   "outputs": [],
   "source": [
    "import os\n",
    "import warnings\n",
    "import sys\n",
    "\n",
    "import pandas as pd\n",
    "import matplotlib.pyplot as plt\n",
    "import matplotlib as mpl\n",
    "import numpy as np\n",
    "from sklearn import linear_model, preprocessing, metrics, model_selection\n",
    "import mlflow\n",
    "import mlflow.sklearn\n",
    "from mlflow.models.signature import infer_signature\n",
    "from mlflow.tracking import MlflowClient\n",
    "\n",
    "import seaborn as sn\n",
    "\n",
    "if 'inline_rc' not in dir():\n",
    "    inline_rc = dict(mpl.rcParams)\n",
    "\n",
    "SEED = 10\n",
    "\n",
    "\n",
    "# import logging\n",
    "# logging.basicConfig(level=logging.WARN)\n",
    "# logger = logging.getLogger(__name__)\n",
    "np.random.seed(SEED)"
   ]
  },
  {
   "cell_type": "markdown",
   "id": "54b02af9-395c-48de-8ab1-b1741bf9fa3e",
   "metadata": {},
   "source": [
    "# Reset do estilo de cores do matplotlib "
   ]
  },
  {
   "cell_type": "code",
   "execution_count": 4,
   "id": "c7cfc943-790e-46af-bb10-1ffff849122c",
   "metadata": {},
   "outputs": [],
   "source": [
    "# reset matplotlib\n",
    "\n",
    "mpl.rcParams.update(inline_rc)\n",
    "font = {'size'   : 14}\n",
    "mpl.rc('font', **font)\n",
    "lines = {'linewidth' : 3}\n",
    "mpl.rc('lines', **lines)"
   ]
  },
  {
   "cell_type": "markdown",
   "id": "c7f8bdb8-1d80-4927-b825-506fa0ed86e5",
   "metadata": {},
   "source": [
    "# Sistema Recomendação Vinhos\n",
    "\n",
    "- Carregar dados de vinho e separar vinhos tinto e branco: tintos para desenvolvimento/operação e vinhos brancos para novidade \n",
    "- Treinamento de modelo com regressão logística do sklearn no pyCaret\n",
    "- Registros das etapas de processamento como runs\n",
    "- Registro do modelo com threshold de precisão mínimo de 70% em Staging\n",
    "- Aplicação Online: recomendação de vinhos\n",
    "    - Consumo da base de dados de operação\n",
    "    - Utilização do requests para fazer o POST e recuperar a predição do modelo\n",
    "    - Propor os 5 vinhos de alta qualidade de maior nível alcólico (print data frame)\n",
    "- Aplicação de Monitoramento: pipeline de monitoramento\n",
    "    - Revalidacao da base de operacao para amostras de controle (simulação especialista)\n",
    "    - Leitura da base de desenvolvimento (treino+teste)\n",
    "    - Alarme de amostra de controle\n",
    "    - Alarme com amostras de novidade\n"
   ]
  },
  {
   "cell_type": "code",
   "execution_count": 5,
   "id": "e4b6961f-a3d2-40b1-b59c-4346fba5a9b4",
   "metadata": {},
   "outputs": [],
   "source": [
    "registered_model_name = 'modelo_vinho_tinto'\n",
    "min_precision = 0.7\n",
    "model_version = -1 # recuperar a ultima versao\n",
    "nexamples = 4"
   ]
  },
  {
   "cell_type": "markdown",
   "id": "7866e821-a504-49df-98bc-3088c396c47a",
   "metadata": {},
   "source": [
    "# Experimento de Classificação de Vinhos "
   ]
  },
  {
   "cell_type": "code",
   "execution_count": 6,
   "id": "ed8b313e-8396-4313-b518-c67dc3ad2de7",
   "metadata": {},
   "outputs": [
    {
     "name": "stderr",
     "output_type": "stream",
     "text": [
      "2024/04/01 21:14:50 INFO mlflow.store.db.utils: Creating initial MLflow database tables...\n",
      "2024/04/01 21:14:50 INFO mlflow.store.db.utils: Updating database tables\n",
      "INFO  [alembic.runtime.migration] Context impl SQLiteImpl.\n",
      "INFO  [alembic.runtime.migration] Will assume non-transactional DDL.\n",
      "INFO  [alembic.runtime.migration] Running upgrade  -> 451aebb31d03, add metric step\n",
      "INFO  [alembic.runtime.migration] Running upgrade 451aebb31d03 -> 90e64c465722, migrate user column to tags\n",
      "INFO  [alembic.runtime.migration] Running upgrade 90e64c465722 -> 181f10493468, allow nulls for metric values\n",
      "INFO  [alembic.runtime.migration] Running upgrade 181f10493468 -> df50e92ffc5e, Add Experiment Tags Table\n",
      "INFO  [alembic.runtime.migration] Running upgrade df50e92ffc5e -> 7ac759974ad8, Update run tags with larger limit\n",
      "INFO  [alembic.runtime.migration] Running upgrade 7ac759974ad8 -> 89d4b8295536, create latest metrics table\n",
      "INFO  [89d4b8295536_create_latest_metrics_table_py] Migration complete!\n",
      "INFO  [alembic.runtime.migration] Running upgrade 89d4b8295536 -> 2b4d017a5e9b, add model registry tables to db\n",
      "INFO  [2b4d017a5e9b_add_model_registry_tables_to_db_py] Adding registered_models and model_versions tables to database.\n",
      "INFO  [2b4d017a5e9b_add_model_registry_tables_to_db_py] Migration complete!\n",
      "INFO  [alembic.runtime.migration] Running upgrade 2b4d017a5e9b -> cfd24bdc0731, Update run status constraint with killed\n",
      "INFO  [alembic.runtime.migration] Running upgrade cfd24bdc0731 -> 0a8213491aaa, drop_duplicate_killed_constraint\n",
      "INFO  [alembic.runtime.migration] Running upgrade 0a8213491aaa -> 728d730b5ebd, add registered model tags table\n",
      "INFO  [alembic.runtime.migration] Running upgrade 728d730b5ebd -> 27a6a02d2cf1, add model version tags table\n",
      "INFO  [alembic.runtime.migration] Running upgrade 27a6a02d2cf1 -> 84291f40a231, add run_link to model_version\n",
      "INFO  [alembic.runtime.migration] Running upgrade 84291f40a231 -> a8c4a736bde6, allow nulls for run_id\n",
      "INFO  [alembic.runtime.migration] Running upgrade a8c4a736bde6 -> 39d1c3be5f05, add_is_nan_constraint_for_metrics_tables_if_necessary\n",
      "INFO  [alembic.runtime.migration] Running upgrade 39d1c3be5f05 -> c48cb773bb87, reset_default_value_for_is_nan_in_metrics_table_for_mysql\n",
      "INFO  [alembic.runtime.migration] Running upgrade c48cb773bb87 -> bd07f7e963c5, create index on run_uuid\n",
      "INFO  [alembic.runtime.migration] Running upgrade bd07f7e963c5 -> 0c779009ac13, add deleted_time field to runs table\n",
      "INFO  [alembic.runtime.migration] Running upgrade 0c779009ac13 -> cc1f77228345, change param value length to 500\n",
      "INFO  [alembic.runtime.migration] Running upgrade cc1f77228345 -> 97727af70f4d, Add creation_time and last_update_time to experiments table\n",
      "INFO  [alembic.runtime.migration] Running upgrade 97727af70f4d -> 3500859a5d39, Add Model Aliases table\n",
      "INFO  [alembic.runtime.migration] Running upgrade 3500859a5d39 -> 7f2a7d5fae7d, add datasets inputs input_tags tables\n",
      "INFO  [alembic.runtime.migration] Running upgrade 7f2a7d5fae7d -> 2d6e25af4d3e, increase max param val length from 500 to 8000\n",
      "INFO  [alembic.runtime.migration] Running upgrade 2d6e25af4d3e -> acf3f17fdcc7, add storage location field to model versions\n",
      "INFO  [alembic.runtime.migration] Context impl SQLiteImpl.\n",
      "INFO  [alembic.runtime.migration] Will assume non-transactional DDL.\n"
     ]
    }
   ],
   "source": [
    "# Para usar o sqlite como repositorio\n",
    "mlflow.set_tracking_uri(\"sqlite:///mlruns.db\")\n",
    "\n",
    "experiment_name = 'Aula Monitoramento'\n",
    "experiment = mlflow.get_experiment_by_name(experiment_name)\n",
    "if experiment is None:\n",
    "    experiment_id = mlflow.create_experiment(experiment_name)\n",
    "    experiment = mlflow.get_experiment(experiment_id)\n",
    "experiment_id = experiment.experiment_id\n"
   ]
  },
  {
   "cell_type": "markdown",
   "id": "d4a08c9b-1dbc-4496-bc64-2434a7712faf",
   "metadata": {},
   "source": [
    "# Leitura dos Dados de Classificação de Vinhos "
   ]
  },
  {
   "cell_type": "code",
   "execution_count": 7,
   "id": "0e58e6f7-f8bb-498a-81f4-dc8175053cbd",
   "metadata": {},
   "outputs": [
    {
     "name": "stdout",
     "output_type": "stream",
     "text": [
      "== Bases de Dados ==\n",
      "data_wine (1087, 5)\n",
      "data_operation (272, 5)\n",
      "data_novelty (3961, 5)\n",
      "Columns: Index(['alcohol', 'volatile acidity', 'free sulfur dioxide', 'residual sugar',\n",
      "       'target'],\n",
      "      dtype='object')\n"
     ]
    }
   ],
   "source": [
    "# COLOCAR RUN DE LEITURA DE DADOS\n",
    "# PARAMETROS: top_features,\n",
    "# METRICS: SHAPE de cada base de dados\n",
    "# ARTIFACTS: nenhum\n",
    "\n",
    "top_features = ['alcohol','volatile acidity','free sulfur dioxide', 'residual sugar']\n",
    "\n",
    "with mlflow.start_run(experiment_id=experiment_id, run_name = 'PreparacaoDados'):\n",
    "    df_wine = pd.read_csv('../data/dataset_vinhos.csv',sep=';')\n",
    "    wine_target_col = 'target'\n",
    "    wine_label_map = df_wine[['target', 'target_label']].drop_duplicates()\n",
    "    drop_cols = ['target_label']\n",
    "    df_wine.drop(drop_cols, axis=1, inplace=True)\n",
    "    df_wine = df_wine[top_features + ['type', wine_target_col]].copy()\n",
    "\n",
    "    data_wine = df_wine[df_wine['type'] == 'red'].copy().drop('type', axis=1)\n",
    "    # Separar parte para compor a base de operacao\n",
    "    data_wine, data_operation, ytrain, ytest = model_selection.train_test_split(data_wine, \n",
    "                                                                            data_wine[wine_target_col],\n",
    "                                                                            test_size=0.2)\n",
    "    data_wine[wine_target_col]      = ytrain\n",
    "    data_operation[wine_target_col] = ytest\n",
    "\n",
    "    # Base de vinhos brancos\n",
    "    data_novelty = df_wine[df_wine['type'] == 'white'].copy().drop('type', axis=1)\n",
    "\n",
    "    data_novelty.to_parquet('modelo_vinho_novidade.parquet')\n",
    "    data_operation.to_parquet('modelo_vinho_operacao.parquet')\n",
    "    \n",
    "    # LOG DE PARAMETROS DO MODELO\n",
    "    mlflow.log_param(\"top_features\", top_features)\n",
    "\n",
    "    # LOG DE METRICAS GLOBAIS\n",
    "    mlflow.log_metric(\"data_dev\", data_wine.shape[0])\n",
    "    mlflow.log_metric(\"data_operation\", data_operation.shape[0])\n",
    "    mlflow.log_metric(\"data_novelty\", data_novelty.shape[0])\n",
    "   \n",
    "    \n",
    "mlflow.end_run()\n",
    "\n",
    "print('== Bases de Dados ==')\n",
    "print(f'data_wine {data_wine.shape}')\n",
    "print(f'data_operation {data_operation.shape}')\n",
    "print(f'data_novelty {data_novelty.shape}')\n",
    "print(f'Columns: {data_wine.columns}')"
   ]
  },
  {
   "cell_type": "code",
<<<<<<< HEAD
   "execution_count": null,
=======
   "execution_count": 22,
>>>>>>> 62dbfe30ae39f9cf7a0993c70f55a619599fde1c
   "id": "22dd5e42-518a-4407-8c17-50f8e52ca0c2",
   "metadata": {},
   "outputs": [],
   "source": [
    "# !mlflow ui --backend-store-uri sqlite:///mlruns.db"
   ]
  },
  {
   "cell_type": "markdown",
   "id": "b80922f9-7c07-463e-b97f-75f4ac3c2303",
   "metadata": {},
   "source": [
    "# Treinamento do Modelo"
   ]
  },
  {
   "cell_type": "code",
   "execution_count": 8,
   "id": "b4e1ee4b-e4bd-4ae8-b759-bdf99155ed56",
   "metadata": {},
   "outputs": [
    {
     "data": {
      "text/html": [
       "<style type=\"text/css\">\n",
<<<<<<< HEAD
       "#T_87421_row8_col1 {\n",
       "  background-color: lightgreen;\n",
       "}\n",
       "</style>\n",
       "<table id=\"T_87421\">\n",
       "  <thead>\n",
       "    <tr>\n",
       "      <th class=\"blank level0\" >&nbsp;</th>\n",
       "      <th id=\"T_87421_level0_col0\" class=\"col_heading level0 col0\" >Description</th>\n",
       "      <th id=\"T_87421_level0_col1\" class=\"col_heading level0 col1\" >Value</th>\n",
=======
       "#T_b1f0b_row8_col1 {\n",
       "  background-color: lightgreen;\n",
       "}\n",
       "</style>\n",
       "<table id=\"T_b1f0b\">\n",
       "  <thead>\n",
       "    <tr>\n",
       "      <th class=\"blank level0\" >&nbsp;</th>\n",
       "      <th id=\"T_b1f0b_level0_col0\" class=\"col_heading level0 col0\" >Description</th>\n",
       "      <th id=\"T_b1f0b_level0_col1\" class=\"col_heading level0 col1\" >Value</th>\n",
>>>>>>> 62dbfe30ae39f9cf7a0993c70f55a619599fde1c
       "    </tr>\n",
       "  </thead>\n",
       "  <tbody>\n",
       "    <tr>\n",
<<<<<<< HEAD
       "      <th id=\"T_87421_level0_row0\" class=\"row_heading level0 row0\" >0</th>\n",
       "      <td id=\"T_87421_row0_col0\" class=\"data row0 col0\" >Session id</td>\n",
       "      <td id=\"T_87421_row0_col1\" class=\"data row0 col1\" >7879</td>\n",
       "    </tr>\n",
       "    <tr>\n",
       "      <th id=\"T_87421_level0_row1\" class=\"row_heading level0 row1\" >1</th>\n",
       "      <td id=\"T_87421_row1_col0\" class=\"data row1 col0\" >Target</td>\n",
       "      <td id=\"T_87421_row1_col1\" class=\"data row1 col1\" >target</td>\n",
       "    </tr>\n",
       "    <tr>\n",
       "      <th id=\"T_87421_level0_row2\" class=\"row_heading level0 row2\" >2</th>\n",
       "      <td id=\"T_87421_row2_col0\" class=\"data row2 col0\" >Target type</td>\n",
       "      <td id=\"T_87421_row2_col1\" class=\"data row2 col1\" >Binary</td>\n",
       "    </tr>\n",
       "    <tr>\n",
       "      <th id=\"T_87421_level0_row3\" class=\"row_heading level0 row3\" >3</th>\n",
       "      <td id=\"T_87421_row3_col0\" class=\"data row3 col0\" >Original data shape</td>\n",
       "      <td id=\"T_87421_row3_col1\" class=\"data row3 col1\" >(1087, 5)</td>\n",
       "    </tr>\n",
       "    <tr>\n",
       "      <th id=\"T_87421_level0_row4\" class=\"row_heading level0 row4\" >4</th>\n",
       "      <td id=\"T_87421_row4_col0\" class=\"data row4 col0\" >Transformed data shape</td>\n",
       "      <td id=\"T_87421_row4_col1\" class=\"data row4 col1\" >(1087, 5)</td>\n",
       "    </tr>\n",
       "    <tr>\n",
       "      <th id=\"T_87421_level0_row5\" class=\"row_heading level0 row5\" >5</th>\n",
       "      <td id=\"T_87421_row5_col0\" class=\"data row5 col0\" >Transformed train set shape</td>\n",
       "      <td id=\"T_87421_row5_col1\" class=\"data row5 col1\" >(760, 5)</td>\n",
       "    </tr>\n",
       "    <tr>\n",
       "      <th id=\"T_87421_level0_row6\" class=\"row_heading level0 row6\" >6</th>\n",
       "      <td id=\"T_87421_row6_col0\" class=\"data row6 col0\" >Transformed test set shape</td>\n",
       "      <td id=\"T_87421_row6_col1\" class=\"data row6 col1\" >(327, 5)</td>\n",
       "    </tr>\n",
       "    <tr>\n",
       "      <th id=\"T_87421_level0_row7\" class=\"row_heading level0 row7\" >7</th>\n",
       "      <td id=\"T_87421_row7_col0\" class=\"data row7 col0\" >Numeric features</td>\n",
       "      <td id=\"T_87421_row7_col1\" class=\"data row7 col1\" >4</td>\n",
       "    </tr>\n",
       "    <tr>\n",
       "      <th id=\"T_87421_level0_row8\" class=\"row_heading level0 row8\" >8</th>\n",
       "      <td id=\"T_87421_row8_col0\" class=\"data row8 col0\" >Preprocess</td>\n",
       "      <td id=\"T_87421_row8_col1\" class=\"data row8 col1\" >True</td>\n",
       "    </tr>\n",
       "    <tr>\n",
       "      <th id=\"T_87421_level0_row9\" class=\"row_heading level0 row9\" >9</th>\n",
       "      <td id=\"T_87421_row9_col0\" class=\"data row9 col0\" >Imputation type</td>\n",
       "      <td id=\"T_87421_row9_col1\" class=\"data row9 col1\" >simple</td>\n",
       "    </tr>\n",
       "    <tr>\n",
       "      <th id=\"T_87421_level0_row10\" class=\"row_heading level0 row10\" >10</th>\n",
       "      <td id=\"T_87421_row10_col0\" class=\"data row10 col0\" >Numeric imputation</td>\n",
       "      <td id=\"T_87421_row10_col1\" class=\"data row10 col1\" >mean</td>\n",
       "    </tr>\n",
       "    <tr>\n",
       "      <th id=\"T_87421_level0_row11\" class=\"row_heading level0 row11\" >11</th>\n",
       "      <td id=\"T_87421_row11_col0\" class=\"data row11 col0\" >Categorical imputation</td>\n",
       "      <td id=\"T_87421_row11_col1\" class=\"data row11 col1\" >mode</td>\n",
       "    </tr>\n",
       "    <tr>\n",
       "      <th id=\"T_87421_level0_row12\" class=\"row_heading level0 row12\" >12</th>\n",
       "      <td id=\"T_87421_row12_col0\" class=\"data row12 col0\" >Fold Generator</td>\n",
       "      <td id=\"T_87421_row12_col1\" class=\"data row12 col1\" >StratifiedKFold</td>\n",
       "    </tr>\n",
       "    <tr>\n",
       "      <th id=\"T_87421_level0_row13\" class=\"row_heading level0 row13\" >13</th>\n",
       "      <td id=\"T_87421_row13_col0\" class=\"data row13 col0\" >Fold Number</td>\n",
       "      <td id=\"T_87421_row13_col1\" class=\"data row13 col1\" >10</td>\n",
       "    </tr>\n",
       "    <tr>\n",
       "      <th id=\"T_87421_level0_row14\" class=\"row_heading level0 row14\" >14</th>\n",
       "      <td id=\"T_87421_row14_col0\" class=\"data row14 col0\" >CPU Jobs</td>\n",
       "      <td id=\"T_87421_row14_col1\" class=\"data row14 col1\" >-1</td>\n",
       "    </tr>\n",
       "    <tr>\n",
       "      <th id=\"T_87421_level0_row15\" class=\"row_heading level0 row15\" >15</th>\n",
       "      <td id=\"T_87421_row15_col0\" class=\"data row15 col0\" >Use GPU</td>\n",
       "      <td id=\"T_87421_row15_col1\" class=\"data row15 col1\" >False</td>\n",
       "    </tr>\n",
       "    <tr>\n",
       "      <th id=\"T_87421_level0_row16\" class=\"row_heading level0 row16\" >16</th>\n",
       "      <td id=\"T_87421_row16_col0\" class=\"data row16 col0\" >Log Experiment</td>\n",
       "      <td id=\"T_87421_row16_col1\" class=\"data row16 col1\" >MlflowLogger</td>\n",
       "    </tr>\n",
       "    <tr>\n",
       "      <th id=\"T_87421_level0_row17\" class=\"row_heading level0 row17\" >17</th>\n",
       "      <td id=\"T_87421_row17_col0\" class=\"data row17 col0\" >Experiment Name</td>\n",
       "      <td id=\"T_87421_row17_col1\" class=\"data row17 col1\" >Aula Monitoramento</td>\n",
       "    </tr>\n",
       "    <tr>\n",
       "      <th id=\"T_87421_level0_row18\" class=\"row_heading level0 row18\" >18</th>\n",
       "      <td id=\"T_87421_row18_col0\" class=\"data row18 col0\" >USI</td>\n",
       "      <td id=\"T_87421_row18_col1\" class=\"data row18 col1\" >85e0</td>\n",
=======
       "      <th id=\"T_b1f0b_level0_row0\" class=\"row_heading level0 row0\" >0</th>\n",
       "      <td id=\"T_b1f0b_row0_col0\" class=\"data row0 col0\" >Session id</td>\n",
       "      <td id=\"T_b1f0b_row0_col1\" class=\"data row0 col1\" >2745</td>\n",
       "    </tr>\n",
       "    <tr>\n",
       "      <th id=\"T_b1f0b_level0_row1\" class=\"row_heading level0 row1\" >1</th>\n",
       "      <td id=\"T_b1f0b_row1_col0\" class=\"data row1 col0\" >Target</td>\n",
       "      <td id=\"T_b1f0b_row1_col1\" class=\"data row1 col1\" >target</td>\n",
       "    </tr>\n",
       "    <tr>\n",
       "      <th id=\"T_b1f0b_level0_row2\" class=\"row_heading level0 row2\" >2</th>\n",
       "      <td id=\"T_b1f0b_row2_col0\" class=\"data row2 col0\" >Target type</td>\n",
       "      <td id=\"T_b1f0b_row2_col1\" class=\"data row2 col1\" >Binary</td>\n",
       "    </tr>\n",
       "    <tr>\n",
       "      <th id=\"T_b1f0b_level0_row3\" class=\"row_heading level0 row3\" >3</th>\n",
       "      <td id=\"T_b1f0b_row3_col0\" class=\"data row3 col0\" >Original data shape</td>\n",
       "      <td id=\"T_b1f0b_row3_col1\" class=\"data row3 col1\" >(1087, 5)</td>\n",
       "    </tr>\n",
       "    <tr>\n",
       "      <th id=\"T_b1f0b_level0_row4\" class=\"row_heading level0 row4\" >4</th>\n",
       "      <td id=\"T_b1f0b_row4_col0\" class=\"data row4 col0\" >Transformed data shape</td>\n",
       "      <td id=\"T_b1f0b_row4_col1\" class=\"data row4 col1\" >(1087, 5)</td>\n",
       "    </tr>\n",
       "    <tr>\n",
       "      <th id=\"T_b1f0b_level0_row5\" class=\"row_heading level0 row5\" >5</th>\n",
       "      <td id=\"T_b1f0b_row5_col0\" class=\"data row5 col0\" >Transformed train set shape</td>\n",
       "      <td id=\"T_b1f0b_row5_col1\" class=\"data row5 col1\" >(760, 5)</td>\n",
       "    </tr>\n",
       "    <tr>\n",
       "      <th id=\"T_b1f0b_level0_row6\" class=\"row_heading level0 row6\" >6</th>\n",
       "      <td id=\"T_b1f0b_row6_col0\" class=\"data row6 col0\" >Transformed test set shape</td>\n",
       "      <td id=\"T_b1f0b_row6_col1\" class=\"data row6 col1\" >(327, 5)</td>\n",
       "    </tr>\n",
       "    <tr>\n",
       "      <th id=\"T_b1f0b_level0_row7\" class=\"row_heading level0 row7\" >7</th>\n",
       "      <td id=\"T_b1f0b_row7_col0\" class=\"data row7 col0\" >Numeric features</td>\n",
       "      <td id=\"T_b1f0b_row7_col1\" class=\"data row7 col1\" >4</td>\n",
       "    </tr>\n",
       "    <tr>\n",
       "      <th id=\"T_b1f0b_level0_row8\" class=\"row_heading level0 row8\" >8</th>\n",
       "      <td id=\"T_b1f0b_row8_col0\" class=\"data row8 col0\" >Preprocess</td>\n",
       "      <td id=\"T_b1f0b_row8_col1\" class=\"data row8 col1\" >True</td>\n",
       "    </tr>\n",
       "    <tr>\n",
       "      <th id=\"T_b1f0b_level0_row9\" class=\"row_heading level0 row9\" >9</th>\n",
       "      <td id=\"T_b1f0b_row9_col0\" class=\"data row9 col0\" >Imputation type</td>\n",
       "      <td id=\"T_b1f0b_row9_col1\" class=\"data row9 col1\" >simple</td>\n",
       "    </tr>\n",
       "    <tr>\n",
       "      <th id=\"T_b1f0b_level0_row10\" class=\"row_heading level0 row10\" >10</th>\n",
       "      <td id=\"T_b1f0b_row10_col0\" class=\"data row10 col0\" >Numeric imputation</td>\n",
       "      <td id=\"T_b1f0b_row10_col1\" class=\"data row10 col1\" >mean</td>\n",
       "    </tr>\n",
       "    <tr>\n",
       "      <th id=\"T_b1f0b_level0_row11\" class=\"row_heading level0 row11\" >11</th>\n",
       "      <td id=\"T_b1f0b_row11_col0\" class=\"data row11 col0\" >Categorical imputation</td>\n",
       "      <td id=\"T_b1f0b_row11_col1\" class=\"data row11 col1\" >mode</td>\n",
       "    </tr>\n",
       "    <tr>\n",
       "      <th id=\"T_b1f0b_level0_row12\" class=\"row_heading level0 row12\" >12</th>\n",
       "      <td id=\"T_b1f0b_row12_col0\" class=\"data row12 col0\" >Fold Generator</td>\n",
       "      <td id=\"T_b1f0b_row12_col1\" class=\"data row12 col1\" >StratifiedKFold</td>\n",
       "    </tr>\n",
       "    <tr>\n",
       "      <th id=\"T_b1f0b_level0_row13\" class=\"row_heading level0 row13\" >13</th>\n",
       "      <td id=\"T_b1f0b_row13_col0\" class=\"data row13 col0\" >Fold Number</td>\n",
       "      <td id=\"T_b1f0b_row13_col1\" class=\"data row13 col1\" >10</td>\n",
       "    </tr>\n",
       "    <tr>\n",
       "      <th id=\"T_b1f0b_level0_row14\" class=\"row_heading level0 row14\" >14</th>\n",
       "      <td id=\"T_b1f0b_row14_col0\" class=\"data row14 col0\" >CPU Jobs</td>\n",
       "      <td id=\"T_b1f0b_row14_col1\" class=\"data row14 col1\" >-1</td>\n",
       "    </tr>\n",
       "    <tr>\n",
       "      <th id=\"T_b1f0b_level0_row15\" class=\"row_heading level0 row15\" >15</th>\n",
       "      <td id=\"T_b1f0b_row15_col0\" class=\"data row15 col0\" >Use GPU</td>\n",
       "      <td id=\"T_b1f0b_row15_col1\" class=\"data row15 col1\" >False</td>\n",
       "    </tr>\n",
       "    <tr>\n",
       "      <th id=\"T_b1f0b_level0_row16\" class=\"row_heading level0 row16\" >16</th>\n",
       "      <td id=\"T_b1f0b_row16_col0\" class=\"data row16 col0\" >Log Experiment</td>\n",
       "      <td id=\"T_b1f0b_row16_col1\" class=\"data row16 col1\" >MlflowLogger</td>\n",
       "    </tr>\n",
       "    <tr>\n",
       "      <th id=\"T_b1f0b_level0_row17\" class=\"row_heading level0 row17\" >17</th>\n",
       "      <td id=\"T_b1f0b_row17_col0\" class=\"data row17 col0\" >Experiment Name</td>\n",
       "      <td id=\"T_b1f0b_row17_col1\" class=\"data row17 col1\" >Aula Monitoramento</td>\n",
       "    </tr>\n",
       "    <tr>\n",
       "      <th id=\"T_b1f0b_level0_row18\" class=\"row_heading level0 row18\" >18</th>\n",
       "      <td id=\"T_b1f0b_row18_col0\" class=\"data row18 col0\" >USI</td>\n",
       "      <td id=\"T_b1f0b_row18_col1\" class=\"data row18 col1\" >c5d3</td>\n",
>>>>>>> 62dbfe30ae39f9cf7a0993c70f55a619599fde1c
       "    </tr>\n",
       "  </tbody>\n",
       "</table>\n"
      ],
      "text/plain": [
<<<<<<< HEAD
       "<pandas.io.formats.style.Styler at 0x7f9552410340>"
=======
       "<pandas.io.formats.style.Styler at 0x7f1c8db42310>"
>>>>>>> 62dbfe30ae39f9cf7a0993c70f55a619599fde1c
      ]
     },
     "metadata": {},
     "output_type": "display_data"
    },
    {
     "data": {
      "text/html": [],
      "text/plain": [
       "<IPython.core.display.HTML object>"
      ]
     },
     "metadata": {},
     "output_type": "display_data"
    },
    {
     "data": {
      "text/html": [
       "<style type=\"text/css\">\n",
<<<<<<< HEAD
       "#T_2ad90_row10_col0, #T_2ad90_row10_col1, #T_2ad90_row10_col2, #T_2ad90_row10_col3, #T_2ad90_row10_col4, #T_2ad90_row10_col5, #T_2ad90_row10_col6 {\n",
       "  background: yellow;\n",
       "}\n",
       "</style>\n",
       "<table id=\"T_2ad90\">\n",
       "  <thead>\n",
       "    <tr>\n",
       "      <th class=\"blank level0\" >&nbsp;</th>\n",
       "      <th id=\"T_2ad90_level0_col0\" class=\"col_heading level0 col0\" >Accuracy</th>\n",
       "      <th id=\"T_2ad90_level0_col1\" class=\"col_heading level0 col1\" >AUC</th>\n",
       "      <th id=\"T_2ad90_level0_col2\" class=\"col_heading level0 col2\" >Recall</th>\n",
       "      <th id=\"T_2ad90_level0_col3\" class=\"col_heading level0 col3\" >Prec.</th>\n",
       "      <th id=\"T_2ad90_level0_col4\" class=\"col_heading level0 col4\" >F1</th>\n",
       "      <th id=\"T_2ad90_level0_col5\" class=\"col_heading level0 col5\" >Kappa</th>\n",
       "      <th id=\"T_2ad90_level0_col6\" class=\"col_heading level0 col6\" >MCC</th>\n",
=======
       "#T_ba746_row10_col0, #T_ba746_row10_col1, #T_ba746_row10_col2, #T_ba746_row10_col3, #T_ba746_row10_col4, #T_ba746_row10_col5, #T_ba746_row10_col6 {\n",
       "  background: yellow;\n",
       "}\n",
       "</style>\n",
       "<table id=\"T_ba746\">\n",
       "  <thead>\n",
       "    <tr>\n",
       "      <th class=\"blank level0\" >&nbsp;</th>\n",
       "      <th id=\"T_ba746_level0_col0\" class=\"col_heading level0 col0\" >Accuracy</th>\n",
       "      <th id=\"T_ba746_level0_col1\" class=\"col_heading level0 col1\" >AUC</th>\n",
       "      <th id=\"T_ba746_level0_col2\" class=\"col_heading level0 col2\" >Recall</th>\n",
       "      <th id=\"T_ba746_level0_col3\" class=\"col_heading level0 col3\" >Prec.</th>\n",
       "      <th id=\"T_ba746_level0_col4\" class=\"col_heading level0 col4\" >F1</th>\n",
       "      <th id=\"T_ba746_level0_col5\" class=\"col_heading level0 col5\" >Kappa</th>\n",
       "      <th id=\"T_ba746_level0_col6\" class=\"col_heading level0 col6\" >MCC</th>\n",
>>>>>>> 62dbfe30ae39f9cf7a0993c70f55a619599fde1c
       "    </tr>\n",
       "    <tr>\n",
       "      <th class=\"index_name level0\" >Fold</th>\n",
       "      <th class=\"blank col0\" >&nbsp;</th>\n",
       "      <th class=\"blank col1\" >&nbsp;</th>\n",
       "      <th class=\"blank col2\" >&nbsp;</th>\n",
       "      <th class=\"blank col3\" >&nbsp;</th>\n",
       "      <th class=\"blank col4\" >&nbsp;</th>\n",
       "      <th class=\"blank col5\" >&nbsp;</th>\n",
       "      <th class=\"blank col6\" >&nbsp;</th>\n",
       "    </tr>\n",
       "  </thead>\n",
       "  <tbody>\n",
       "    <tr>\n",
<<<<<<< HEAD
       "      <th id=\"T_2ad90_level0_row0\" class=\"row_heading level0 row0\" >0</th>\n",
       "      <td id=\"T_2ad90_row0_col0\" class=\"data row0 col0\" >0.7895</td>\n",
       "      <td id=\"T_2ad90_row0_col1\" class=\"data row0 col1\" >0.8739</td>\n",
       "      <td id=\"T_2ad90_row0_col2\" class=\"data row0 col2\" >0.7561</td>\n",
       "      <td id=\"T_2ad90_row0_col3\" class=\"data row0 col3\" >0.8378</td>\n",
       "      <td id=\"T_2ad90_row0_col4\" class=\"data row0 col4\" >0.7949</td>\n",
       "      <td id=\"T_2ad90_row0_col5\" class=\"data row0 col5\" >0.5798</td>\n",
       "      <td id=\"T_2ad90_row0_col6\" class=\"data row0 col6\" >0.5830</td>\n",
       "    </tr>\n",
       "    <tr>\n",
       "      <th id=\"T_2ad90_level0_row1\" class=\"row_heading level0 row1\" >1</th>\n",
       "      <td id=\"T_2ad90_row1_col0\" class=\"data row1 col0\" >0.7500</td>\n",
       "      <td id=\"T_2ad90_row1_col1\" class=\"data row1 col1\" >0.7847</td>\n",
       "      <td id=\"T_2ad90_row1_col2\" class=\"data row1 col2\" >0.7561</td>\n",
       "      <td id=\"T_2ad90_row1_col3\" class=\"data row1 col3\" >0.7750</td>\n",
       "      <td id=\"T_2ad90_row1_col4\" class=\"data row1 col4\" >0.7654</td>\n",
       "      <td id=\"T_2ad90_row1_col5\" class=\"data row1 col5\" >0.4979</td>\n",
       "      <td id=\"T_2ad90_row1_col6\" class=\"data row1 col6\" >0.4981</td>\n",
       "    </tr>\n",
       "    <tr>\n",
       "      <th id=\"T_2ad90_level0_row2\" class=\"row_heading level0 row2\" >2</th>\n",
       "      <td id=\"T_2ad90_row2_col0\" class=\"data row2 col0\" >0.6974</td>\n",
       "      <td id=\"T_2ad90_row2_col1\" class=\"data row2 col1\" >0.7282</td>\n",
       "      <td id=\"T_2ad90_row2_col2\" class=\"data row2 col2\" >0.6585</td>\n",
       "      <td id=\"T_2ad90_row2_col3\" class=\"data row2 col3\" >0.7500</td>\n",
       "      <td id=\"T_2ad90_row2_col4\" class=\"data row2 col4\" >0.7013</td>\n",
       "      <td id=\"T_2ad90_row2_col5\" class=\"data row2 col5\" >0.3972</td>\n",
       "      <td id=\"T_2ad90_row2_col6\" class=\"data row2 col6\" >0.4007</td>\n",
       "    </tr>\n",
       "    <tr>\n",
       "      <th id=\"T_2ad90_level0_row3\" class=\"row_heading level0 row3\" >3</th>\n",
       "      <td id=\"T_2ad90_row3_col0\" class=\"data row3 col0\" >0.6447</td>\n",
       "      <td id=\"T_2ad90_row3_col1\" class=\"data row3 col1\" >0.7087</td>\n",
       "      <td id=\"T_2ad90_row3_col2\" class=\"data row3 col2\" >0.5610</td>\n",
       "      <td id=\"T_2ad90_row3_col3\" class=\"data row3 col3\" >0.7188</td>\n",
       "      <td id=\"T_2ad90_row3_col4\" class=\"data row3 col4\" >0.6301</td>\n",
       "      <td id=\"T_2ad90_row3_col5\" class=\"data row3 col5\" >0.2982</td>\n",
       "      <td id=\"T_2ad90_row3_col6\" class=\"data row3 col6\" >0.3067</td>\n",
       "    </tr>\n",
       "    <tr>\n",
       "      <th id=\"T_2ad90_level0_row4\" class=\"row_heading level0 row4\" >4</th>\n",
       "      <td id=\"T_2ad90_row4_col0\" class=\"data row4 col0\" >0.8158</td>\n",
       "      <td id=\"T_2ad90_row4_col1\" class=\"data row4 col1\" >0.8955</td>\n",
       "      <td id=\"T_2ad90_row4_col2\" class=\"data row4 col2\" >0.8049</td>\n",
       "      <td id=\"T_2ad90_row4_col3\" class=\"data row4 col3\" >0.8462</td>\n",
       "      <td id=\"T_2ad90_row4_col4\" class=\"data row4 col4\" >0.8250</td>\n",
       "      <td id=\"T_2ad90_row4_col5\" class=\"data row4 col5\" >0.6308</td>\n",
       "      <td id=\"T_2ad90_row4_col6\" class=\"data row4 col6\" >0.6317</td>\n",
       "    </tr>\n",
       "    <tr>\n",
       "      <th id=\"T_2ad90_level0_row5\" class=\"row_heading level0 row5\" >5</th>\n",
       "      <td id=\"T_2ad90_row5_col0\" class=\"data row5 col0\" >0.7237</td>\n",
       "      <td id=\"T_2ad90_row5_col1\" class=\"data row5 col1\" >0.8111</td>\n",
       "      <td id=\"T_2ad90_row5_col2\" class=\"data row5 col2\" >0.7317</td>\n",
       "      <td id=\"T_2ad90_row5_col3\" class=\"data row5 col3\" >0.7500</td>\n",
       "      <td id=\"T_2ad90_row5_col4\" class=\"data row5 col4\" >0.7407</td>\n",
       "      <td id=\"T_2ad90_row5_col5\" class=\"data row5 col5\" >0.4451</td>\n",
       "      <td id=\"T_2ad90_row5_col6\" class=\"data row5 col6\" >0.4452</td>\n",
       "    </tr>\n",
       "    <tr>\n",
       "      <th id=\"T_2ad90_level0_row6\" class=\"row_heading level0 row6\" >6</th>\n",
       "      <td id=\"T_2ad90_row6_col0\" class=\"data row6 col0\" >0.6974</td>\n",
       "      <td id=\"T_2ad90_row6_col1\" class=\"data row6 col1\" >0.7436</td>\n",
       "      <td id=\"T_2ad90_row6_col2\" class=\"data row6 col2\" >0.7805</td>\n",
       "      <td id=\"T_2ad90_row6_col3\" class=\"data row6 col3\" >0.6957</td>\n",
       "      <td id=\"T_2ad90_row6_col4\" class=\"data row6 col4\" >0.7356</td>\n",
       "      <td id=\"T_2ad90_row6_col5\" class=\"data row6 col5\" >0.3845</td>\n",
       "      <td id=\"T_2ad90_row6_col6\" class=\"data row6 col6\" >0.3880</td>\n",
       "    </tr>\n",
       "    <tr>\n",
       "      <th id=\"T_2ad90_level0_row7\" class=\"row_heading level0 row7\" >7</th>\n",
       "      <td id=\"T_2ad90_row7_col0\" class=\"data row7 col0\" >0.7105</td>\n",
       "      <td id=\"T_2ad90_row7_col1\" class=\"data row7 col1\" >0.7902</td>\n",
       "      <td id=\"T_2ad90_row7_col2\" class=\"data row7 col2\" >0.7561</td>\n",
       "      <td id=\"T_2ad90_row7_col3\" class=\"data row7 col3\" >0.7209</td>\n",
       "      <td id=\"T_2ad90_row7_col4\" class=\"data row7 col4\" >0.7381</td>\n",
       "      <td id=\"T_2ad90_row7_col5\" class=\"data row7 col5\" >0.4150</td>\n",
       "      <td id=\"T_2ad90_row7_col6\" class=\"data row7 col6\" >0.4156</td>\n",
       "    </tr>\n",
       "    <tr>\n",
       "      <th id=\"T_2ad90_level0_row8\" class=\"row_heading level0 row8\" >8</th>\n",
       "      <td id=\"T_2ad90_row8_col0\" class=\"data row8 col0\" >0.7368</td>\n",
       "      <td id=\"T_2ad90_row8_col1\" class=\"data row8 col1\" >0.8321</td>\n",
       "      <td id=\"T_2ad90_row8_col2\" class=\"data row8 col2\" >0.6341</td>\n",
       "      <td id=\"T_2ad90_row8_col3\" class=\"data row8 col3\" >0.8387</td>\n",
       "      <td id=\"T_2ad90_row8_col4\" class=\"data row8 col4\" >0.7222</td>\n",
       "      <td id=\"T_2ad90_row8_col5\" class=\"data row8 col5\" >0.4812</td>\n",
       "      <td id=\"T_2ad90_row8_col6\" class=\"data row8 col6\" >0.4983</td>\n",
       "    </tr>\n",
       "    <tr>\n",
       "      <th id=\"T_2ad90_level0_row9\" class=\"row_heading level0 row9\" >9</th>\n",
       "      <td id=\"T_2ad90_row9_col0\" class=\"data row9 col0\" >0.7895</td>\n",
       "      <td id=\"T_2ad90_row9_col1\" class=\"data row9 col1\" >0.8549</td>\n",
       "      <td id=\"T_2ad90_row9_col2\" class=\"data row9 col2\" >0.7000</td>\n",
       "      <td id=\"T_2ad90_row9_col3\" class=\"data row9 col3\" >0.8750</td>\n",
       "      <td id=\"T_2ad90_row9_col4\" class=\"data row9 col4\" >0.7778</td>\n",
       "      <td id=\"T_2ad90_row9_col5\" class=\"data row9 col5\" >0.5824</td>\n",
       "      <td id=\"T_2ad90_row9_col6\" class=\"data row9 col6\" >0.5955</td>\n",
       "    </tr>\n",
       "    <tr>\n",
       "      <th id=\"T_2ad90_level0_row10\" class=\"row_heading level0 row10\" >Mean</th>\n",
       "      <td id=\"T_2ad90_row10_col0\" class=\"data row10 col0\" >0.7355</td>\n",
       "      <td id=\"T_2ad90_row10_col1\" class=\"data row10 col1\" >0.8023</td>\n",
       "      <td id=\"T_2ad90_row10_col2\" class=\"data row10 col2\" >0.7139</td>\n",
       "      <td id=\"T_2ad90_row10_col3\" class=\"data row10 col3\" >0.7808</td>\n",
       "      <td id=\"T_2ad90_row10_col4\" class=\"data row10 col4\" >0.7431</td>\n",
       "      <td id=\"T_2ad90_row10_col5\" class=\"data row10 col5\" >0.4712</td>\n",
       "      <td id=\"T_2ad90_row10_col6\" class=\"data row10 col6\" >0.4763</td>\n",
       "    </tr>\n",
       "    <tr>\n",
       "      <th id=\"T_2ad90_level0_row11\" class=\"row_heading level0 row11\" >Std</th>\n",
       "      <td id=\"T_2ad90_row11_col0\" class=\"data row11 col0\" >0.0494</td>\n",
       "      <td id=\"T_2ad90_row11_col1\" class=\"data row11 col1\" >0.0597</td>\n",
       "      <td id=\"T_2ad90_row11_col2\" class=\"data row11 col2\" >0.0717</td>\n",
       "      <td id=\"T_2ad90_row11_col3\" class=\"data row11 col3\" >0.0603</td>\n",
       "      <td id=\"T_2ad90_row11_col4\" class=\"data row11 col4\" >0.0511</td>\n",
       "      <td id=\"T_2ad90_row11_col5\" class=\"data row11 col5\" >0.0986</td>\n",
       "      <td id=\"T_2ad90_row11_col6\" class=\"data row11 col6\" >0.0988</td>\n",
=======
       "      <th id=\"T_ba746_level0_row0\" class=\"row_heading level0 row0\" >0</th>\n",
       "      <td id=\"T_ba746_row0_col0\" class=\"data row0 col0\" >0.7895</td>\n",
       "      <td id=\"T_ba746_row0_col1\" class=\"data row0 col1\" >0.8627</td>\n",
       "      <td id=\"T_ba746_row0_col2\" class=\"data row0 col2\" >0.8293</td>\n",
       "      <td id=\"T_ba746_row0_col3\" class=\"data row0 col3\" >0.7907</td>\n",
       "      <td id=\"T_ba746_row0_col4\" class=\"data row0 col4\" >0.8095</td>\n",
       "      <td id=\"T_ba746_row0_col5\" class=\"data row0 col5\" >0.5745</td>\n",
       "      <td id=\"T_ba746_row0_col6\" class=\"data row0 col6\" >0.5753</td>\n",
       "    </tr>\n",
       "    <tr>\n",
       "      <th id=\"T_ba746_level0_row1\" class=\"row_heading level0 row1\" >1</th>\n",
       "      <td id=\"T_ba746_row1_col0\" class=\"data row1 col0\" >0.6974</td>\n",
       "      <td id=\"T_ba746_row1_col1\" class=\"data row1 col1\" >0.7470</td>\n",
       "      <td id=\"T_ba746_row1_col2\" class=\"data row1 col2\" >0.7317</td>\n",
       "      <td id=\"T_ba746_row1_col3\" class=\"data row1 col3\" >0.7143</td>\n",
       "      <td id=\"T_ba746_row1_col4\" class=\"data row1 col4\" >0.7229</td>\n",
       "      <td id=\"T_ba746_row1_col5\" class=\"data row1 col5\" >0.3897</td>\n",
       "      <td id=\"T_ba746_row1_col6\" class=\"data row1 col6\" >0.3898</td>\n",
       "    </tr>\n",
       "    <tr>\n",
       "      <th id=\"T_ba746_level0_row2\" class=\"row_heading level0 row2\" >2</th>\n",
       "      <td id=\"T_ba746_row2_col0\" class=\"data row2 col0\" >0.6842</td>\n",
       "      <td id=\"T_ba746_row2_col1\" class=\"data row2 col1\" >0.7965</td>\n",
       "      <td id=\"T_ba746_row2_col2\" class=\"data row2 col2\" >0.6585</td>\n",
       "      <td id=\"T_ba746_row2_col3\" class=\"data row2 col3\" >0.7297</td>\n",
       "      <td id=\"T_ba746_row2_col4\" class=\"data row2 col4\" >0.6923</td>\n",
       "      <td id=\"T_ba746_row2_col5\" class=\"data row2 col5\" >0.3697</td>\n",
       "      <td id=\"T_ba746_row2_col6\" class=\"data row2 col6\" >0.3718</td>\n",
       "    </tr>\n",
       "    <tr>\n",
       "      <th id=\"T_ba746_level0_row3\" class=\"row_heading level0 row3\" >3</th>\n",
       "      <td id=\"T_ba746_row3_col0\" class=\"data row3 col0\" >0.6974</td>\n",
       "      <td id=\"T_ba746_row3_col1\" class=\"data row3 col1\" >0.7589</td>\n",
       "      <td id=\"T_ba746_row3_col2\" class=\"data row3 col2\" >0.6341</td>\n",
       "      <td id=\"T_ba746_row3_col3\" class=\"data row3 col3\" >0.7647</td>\n",
       "      <td id=\"T_ba746_row3_col4\" class=\"data row3 col4\" >0.6933</td>\n",
       "      <td id=\"T_ba746_row3_col5\" class=\"data row3 col5\" >0.3997</td>\n",
       "      <td id=\"T_ba746_row3_col6\" class=\"data row3 col6\" >0.4066</td>\n",
       "    </tr>\n",
       "    <tr>\n",
       "      <th id=\"T_ba746_level0_row4\" class=\"row_heading level0 row4\" >4</th>\n",
       "      <td id=\"T_ba746_row4_col0\" class=\"data row4 col0\" >0.6974</td>\n",
       "      <td id=\"T_ba746_row4_col1\" class=\"data row4 col1\" >0.8035</td>\n",
       "      <td id=\"T_ba746_row4_col2\" class=\"data row4 col2\" >0.6098</td>\n",
       "      <td id=\"T_ba746_row4_col3\" class=\"data row4 col3\" >0.7812</td>\n",
       "      <td id=\"T_ba746_row4_col4\" class=\"data row4 col4\" >0.6849</td>\n",
       "      <td id=\"T_ba746_row4_col5\" class=\"data row4 col5\" >0.4022</td>\n",
       "      <td id=\"T_ba746_row4_col6\" class=\"data row4 col6\" >0.4137</td>\n",
       "    </tr>\n",
       "    <tr>\n",
       "      <th id=\"T_ba746_level0_row5\" class=\"row_heading level0 row5\" >5</th>\n",
       "      <td id=\"T_ba746_row5_col0\" class=\"data row5 col0\" >0.6579</td>\n",
       "      <td id=\"T_ba746_row5_col1\" class=\"data row5 col1\" >0.7108</td>\n",
       "      <td id=\"T_ba746_row5_col2\" class=\"data row5 col2\" >0.5854</td>\n",
       "      <td id=\"T_ba746_row5_col3\" class=\"data row5 col3\" >0.7273</td>\n",
       "      <td id=\"T_ba746_row5_col4\" class=\"data row5 col4\" >0.6486</td>\n",
       "      <td id=\"T_ba746_row5_col5\" class=\"data row5 col5\" >0.3228</td>\n",
       "      <td id=\"T_ba746_row5_col6\" class=\"data row5 col6\" >0.3301</td>\n",
       "    </tr>\n",
       "    <tr>\n",
       "      <th id=\"T_ba746_level0_row6\" class=\"row_heading level0 row6\" >6</th>\n",
       "      <td id=\"T_ba746_row6_col0\" class=\"data row6 col0\" >0.7368</td>\n",
       "      <td id=\"T_ba746_row6_col1\" class=\"data row6 col1\" >0.8084</td>\n",
       "      <td id=\"T_ba746_row6_col2\" class=\"data row6 col2\" >0.7561</td>\n",
       "      <td id=\"T_ba746_row6_col3\" class=\"data row6 col3\" >0.7561</td>\n",
       "      <td id=\"T_ba746_row6_col4\" class=\"data row6 col4\" >0.7561</td>\n",
       "      <td id=\"T_ba746_row6_col5\" class=\"data row6 col5\" >0.4704</td>\n",
       "      <td id=\"T_ba746_row6_col6\" class=\"data row6 col6\" >0.4704</td>\n",
       "    </tr>\n",
       "    <tr>\n",
       "      <th id=\"T_ba746_level0_row7\" class=\"row_heading level0 row7\" >7</th>\n",
       "      <td id=\"T_ba746_row7_col0\" class=\"data row7 col0\" >0.7763</td>\n",
       "      <td id=\"T_ba746_row7_col1\" class=\"data row7 col1\" >0.8209</td>\n",
       "      <td id=\"T_ba746_row7_col2\" class=\"data row7 col2\" >0.7317</td>\n",
       "      <td id=\"T_ba746_row7_col3\" class=\"data row7 col3\" >0.8333</td>\n",
       "      <td id=\"T_ba746_row7_col4\" class=\"data row7 col4\" >0.7792</td>\n",
       "      <td id=\"T_ba746_row7_col5\" class=\"data row7 col5\" >0.5545</td>\n",
       "      <td id=\"T_ba746_row7_col6\" class=\"data row7 col6\" >0.5593</td>\n",
       "    </tr>\n",
       "    <tr>\n",
       "      <th id=\"T_ba746_level0_row8\" class=\"row_heading level0 row8\" >8</th>\n",
       "      <td id=\"T_ba746_row8_col0\" class=\"data row8 col0\" >0.7895</td>\n",
       "      <td id=\"T_ba746_row8_col1\" class=\"data row8 col1\" >0.8683</td>\n",
       "      <td id=\"T_ba746_row8_col2\" class=\"data row8 col2\" >0.7805</td>\n",
       "      <td id=\"T_ba746_row8_col3\" class=\"data row8 col3\" >0.8205</td>\n",
       "      <td id=\"T_ba746_row8_col4\" class=\"data row8 col4\" >0.8000</td>\n",
       "      <td id=\"T_ba746_row8_col5\" class=\"data row8 col5\" >0.5781</td>\n",
       "      <td id=\"T_ba746_row8_col6\" class=\"data row8 col6\" >0.5789</td>\n",
       "    </tr>\n",
       "    <tr>\n",
       "      <th id=\"T_ba746_level0_row9\" class=\"row_heading level0 row9\" >9</th>\n",
       "      <td id=\"T_ba746_row9_col0\" class=\"data row9 col0\" >0.7368</td>\n",
       "      <td id=\"T_ba746_row9_col1\" class=\"data row9 col1\" >0.8028</td>\n",
       "      <td id=\"T_ba746_row9_col2\" class=\"data row9 col2\" >0.7500</td>\n",
       "      <td id=\"T_ba746_row9_col3\" class=\"data row9 col3\" >0.7500</td>\n",
       "      <td id=\"T_ba746_row9_col4\" class=\"data row9 col4\" >0.7500</td>\n",
       "      <td id=\"T_ba746_row9_col5\" class=\"data row9 col5\" >0.4722</td>\n",
       "      <td id=\"T_ba746_row9_col6\" class=\"data row9 col6\" >0.4722</td>\n",
       "    </tr>\n",
       "    <tr>\n",
       "      <th id=\"T_ba746_level0_row10\" class=\"row_heading level0 row10\" >Mean</th>\n",
       "      <td id=\"T_ba746_row10_col0\" class=\"data row10 col0\" >0.7263</td>\n",
       "      <td id=\"T_ba746_row10_col1\" class=\"data row10 col1\" >0.7980</td>\n",
       "      <td id=\"T_ba746_row10_col2\" class=\"data row10 col2\" >0.7067</td>\n",
       "      <td id=\"T_ba746_row10_col3\" class=\"data row10 col3\" >0.7668</td>\n",
       "      <td id=\"T_ba746_row10_col4\" class=\"data row10 col4\" >0.7337</td>\n",
       "      <td id=\"T_ba746_row10_col5\" class=\"data row10 col5\" >0.4534</td>\n",
       "      <td id=\"T_ba746_row10_col6\" class=\"data row10 col6\" >0.4568</td>\n",
       "    </tr>\n",
       "    <tr>\n",
       "      <th id=\"T_ba746_level0_row11\" class=\"row_heading level0 row11\" >Std</th>\n",
       "      <td id=\"T_ba746_row11_col0\" class=\"data row11 col0\" >0.0443</td>\n",
       "      <td id=\"T_ba746_row11_col1\" class=\"data row11 col1\" >0.0464</td>\n",
       "      <td id=\"T_ba746_row11_col2\" class=\"data row11 col2\" >0.0760</td>\n",
       "      <td id=\"T_ba746_row11_col3\" class=\"data row11 col3\" >0.0377</td>\n",
       "      <td id=\"T_ba746_row11_col4\" class=\"data row11 col4\" >0.0510</td>\n",
       "      <td id=\"T_ba746_row11_col5\" class=\"data row11 col5\" >0.0864</td>\n",
       "      <td id=\"T_ba746_row11_col6\" class=\"data row11 col6\" >0.0849</td>\n",
>>>>>>> 62dbfe30ae39f9cf7a0993c70f55a619599fde1c
       "    </tr>\n",
       "  </tbody>\n",
       "</table>\n"
      ],
      "text/plain": [
<<<<<<< HEAD
       "<pandas.io.formats.style.Styler at 0x7f9552f6e0a0>"
=======
       "<pandas.io.formats.style.Styler at 0x7f1c8e82e1f0>"
>>>>>>> 62dbfe30ae39f9cf7a0993c70f55a619599fde1c
      ]
     },
     "metadata": {},
     "output_type": "display_data"
    },
    {
     "data": {
      "text/html": [],
      "text/plain": [
       "<IPython.core.display.HTML object>"
      ]
     },
     "metadata": {},
     "output_type": "display_data"
    },
    {
     "name": "stdout",
     "output_type": "stream",
     "text": [
      "=> Aplicando plot  auc\n"
     ]
    },
    {
     "data": {
      "text/html": [],
      "text/plain": [
       "<IPython.core.display.HTML object>"
      ]
     },
     "metadata": {},
     "output_type": "display_data"
    },
    {
     "name": "stdout",
     "output_type": "stream",
     "text": [
      "AUC.png\n",
      "=> Aplicando plot  pr\n"
     ]
    },
    {
     "data": {
      "text/html": [],
      "text/plain": [
       "<IPython.core.display.HTML object>"
      ]
     },
     "metadata": {},
     "output_type": "display_data"
    },
    {
     "name": "stdout",
     "output_type": "stream",
     "text": [
      "Precision Recall.png\n",
      "=> Aplicando plot  confusion_matrix\n"
     ]
    },
    {
     "data": {
      "text/html": [],
      "text/plain": [
       "<IPython.core.display.HTML object>"
      ]
     },
     "metadata": {},
     "output_type": "display_data"
    },
    {
     "name": "stdout",
     "output_type": "stream",
     "text": [
      "Confusion Matrix.png\n",
      "=> Aplicando plot  threshold\n"
     ]
    },
    {
     "data": {
      "text/html": [],
      "text/plain": [
       "<IPython.core.display.HTML object>"
      ]
     },
     "metadata": {},
     "output_type": "display_data"
    },
    {
     "name": "stdout",
     "output_type": "stream",
     "text": [
      "Threshold.png\n",
      "=> Aplicando plot  learning\n"
     ]
    },
    {
     "data": {
      "text/html": [],
      "text/plain": [
       "<IPython.core.display.HTML object>"
      ]
     },
     "metadata": {},
     "output_type": "display_data"
    },
    {
     "name": "stdout",
     "output_type": "stream",
     "text": [
      "Learning Curve.png\n",
      "Transformation Pipeline and Model Successfully Saved\n",
      "Transformation Pipeline and Model Successfully Loaded\n"
     ]
    }
   ],
   "source": [
    "import pycaret.classification as pc\n",
    "# COLOCAR RUN DE TREINAMENTO DE MODELOS\n",
    "# PARAMETROS: fold_strategy, fold, model_name, registered_model_name, cross_validation\n",
    "# METRICS: auto sklearn\n",
    "# ARTIFACTS: plots\n",
    "\n",
    "model_name = 'lr'\n",
    "probability_threshold = 0.5\n",
    "cross_validation = True\n",
    "fold_strategy = 'stratifiedkfold'\n",
    "fold = 10\n",
    "\n",
    "# train/test\n",
    "s = pc.setup(data = data_wine, \n",
    "             target = wine_target_col,\n",
    "             train_size=0.7,\n",
    "             fold_strategy = fold_strategy,\n",
    "             fold = fold,\n",
    "             log_experiment = True, \n",
    "             experiment_name = experiment_name, \n",
    "             log_plots = True\n",
    "            )\n",
    "bestmodel = pc.create_model(model_name,\n",
    "                            cross_validation = cross_validation, \n",
    "                            probability_threshold=probability_threshold)\n",
    "\n",
    "# Log do run, e nao do modelo respectivo\n",
    "classification_plots = [ 'auc','pr','confusion_matrix',\n",
    "#                          'error', 'class_report', \n",
    "                        'threshold',\n",
    "                         'learning',\n",
    "                        # 'vc',\n",
    "                        # 'feature',\n",
    "                       ]\n",
    "for plot_type in classification_plots:\n",
    "    print('=> Aplicando plot ', plot_type)\n",
    "    try:\n",
    "        artifact = pc.plot_model(bestmodel, plot=plot_type, save=True)\n",
    "        mlflow.log_artifact(artifact)\n",
    "        print(artifact)\n",
    "    except:\n",
    "        print('=> Nao possivel plotar: ', plot_type )\n",
    "        continue\n",
    "\n",
    "pc.save_model(bestmodel, f'./{registered_model_name}') \n",
    "# Carrega novamente o pipeline + bestmodel\n",
    "model_pipe = pc.load_model(f'./{registered_model_name}')\n",
    "\n",
    "\n",
    "mlflow.end_run()"
   ]
  },
  {
   "cell_type": "markdown",
   "id": "098336eb-7295-4ae5-bd7a-b827cab194c4",
   "metadata": {},
   "source": [
    "# Avaliar Precisão Mínima "
   ]
  },
  {
   "cell_type": "code",
   "execution_count": 20,
   "id": "92b998b9-1442-4f28-9e0e-e0ad30043a98",
   "metadata": {},
   "outputs": [
    {
     "data": {
      "text/html": [
       "<style type=\"text/css\">\n",
       "</style>\n",
<<<<<<< HEAD
       "<table id=\"T_43900\">\n",
       "  <thead>\n",
       "    <tr>\n",
       "      <th class=\"blank level0\" >&nbsp;</th>\n",
       "      <th id=\"T_43900_level0_col0\" class=\"col_heading level0 col0\" >Model</th>\n",
       "      <th id=\"T_43900_level0_col1\" class=\"col_heading level0 col1\" >Accuracy</th>\n",
       "      <th id=\"T_43900_level0_col2\" class=\"col_heading level0 col2\" >AUC</th>\n",
       "      <th id=\"T_43900_level0_col3\" class=\"col_heading level0 col3\" >Recall</th>\n",
       "      <th id=\"T_43900_level0_col4\" class=\"col_heading level0 col4\" >Prec.</th>\n",
       "      <th id=\"T_43900_level0_col5\" class=\"col_heading level0 col5\" >F1</th>\n",
       "      <th id=\"T_43900_level0_col6\" class=\"col_heading level0 col6\" >Kappa</th>\n",
       "      <th id=\"T_43900_level0_col7\" class=\"col_heading level0 col7\" >MCC</th>\n",
=======
       "<table id=\"T_633d0\">\n",
       "  <thead>\n",
       "    <tr>\n",
       "      <th class=\"blank level0\" >&nbsp;</th>\n",
       "      <th id=\"T_633d0_level0_col0\" class=\"col_heading level0 col0\" >Model</th>\n",
       "      <th id=\"T_633d0_level0_col1\" class=\"col_heading level0 col1\" >Accuracy</th>\n",
       "      <th id=\"T_633d0_level0_col2\" class=\"col_heading level0 col2\" >AUC</th>\n",
       "      <th id=\"T_633d0_level0_col3\" class=\"col_heading level0 col3\" >Recall</th>\n",
       "      <th id=\"T_633d0_level0_col4\" class=\"col_heading level0 col4\" >Prec.</th>\n",
       "      <th id=\"T_633d0_level0_col5\" class=\"col_heading level0 col5\" >F1</th>\n",
       "      <th id=\"T_633d0_level0_col6\" class=\"col_heading level0 col6\" >Kappa</th>\n",
       "      <th id=\"T_633d0_level0_col7\" class=\"col_heading level0 col7\" >MCC</th>\n",
>>>>>>> 62dbfe30ae39f9cf7a0993c70f55a619599fde1c
       "    </tr>\n",
       "  </thead>\n",
       "  <tbody>\n",
       "    <tr>\n",
<<<<<<< HEAD
       "      <th id=\"T_43900_level0_row0\" class=\"row_heading level0 row0\" >0</th>\n",
       "      <td id=\"T_43900_row0_col0\" class=\"data row0 col0\" >Logistic Regression</td>\n",
       "      <td id=\"T_43900_row0_col1\" class=\"data row0 col1\" >0.7492</td>\n",
       "      <td id=\"T_43900_row0_col2\" class=\"data row0 col2\" >0.8248</td>\n",
       "      <td id=\"T_43900_row0_col3\" class=\"data row0 col3\" >0.7443</td>\n",
       "      <td id=\"T_43900_row0_col4\" class=\"data row0 col4\" >0.7798</td>\n",
       "      <td id=\"T_43900_row0_col5\" class=\"data row0 col5\" >0.7616</td>\n",
       "      <td id=\"T_43900_row0_col6\" class=\"data row0 col6\" >0.4974</td>\n",
       "      <td id=\"T_43900_row0_col7\" class=\"data row0 col7\" >0.4980</td>\n",
=======
       "      <th id=\"T_633d0_level0_row0\" class=\"row_heading level0 row0\" >0</th>\n",
       "      <td id=\"T_633d0_row0_col0\" class=\"data row0 col0\" >Logistic Regression</td>\n",
       "      <td id=\"T_633d0_row0_col1\" class=\"data row0 col1\" >0.7676</td>\n",
       "      <td id=\"T_633d0_row0_col2\" class=\"data row0 col2\" >0.8205</td>\n",
       "      <td id=\"T_633d0_row0_col3\" class=\"data row0 col3\" >0.7557</td>\n",
       "      <td id=\"T_633d0_row0_col4\" class=\"data row0 col4\" >0.8012</td>\n",
       "      <td id=\"T_633d0_row0_col5\" class=\"data row0 col5\" >0.7778</td>\n",
       "      <td id=\"T_633d0_row0_col6\" class=\"data row0 col6\" >0.5346</td>\n",
       "      <td id=\"T_633d0_row0_col7\" class=\"data row0 col7\" >0.5356</td>\n",
>>>>>>> 62dbfe30ae39f9cf7a0993c70f55a619599fde1c
       "    </tr>\n",
       "  </tbody>\n",
       "</table>\n"
      ],
      "text/plain": [
<<<<<<< HEAD
       "<pandas.io.formats.style.Styler at 0x7f95227f42b0>"
=======
       "<pandas.io.formats.style.Styler at 0x7f1d18084520>"
>>>>>>> 62dbfe30ae39f9cf7a0993c70f55a619599fde1c
      ]
     },
     "metadata": {},
     "output_type": "display_data"
    },
    {
     "name": "stdout",
     "output_type": "stream",
     "text": [
<<<<<<< HEAD
      "=> Aceito o modelo com precisão 0.7797619047619048 (min: 0.7)\n"
=======
      "=> Aceito o modelo com precisão 0.8012048192771084 (min: 0.7)\n"
>>>>>>> 62dbfe30ae39f9cf7a0993c70f55a619599fde1c
     ]
    },
    {
     "name": "stderr",
     "output_type": "stream",
     "text": [
      "Registered model 'modelo_vinho_tinto' already exists. Creating a new version of this model...\n",
<<<<<<< HEAD
      "Created version '2' of model 'modelo_vinho_tinto'.\n"
=======
      "Created version '6' of model 'modelo_vinho_tinto'.\n"
>>>>>>> 62dbfe30ae39f9cf7a0993c70f55a619599fde1c
     ]
    },
    {
     "data": {
      "image/png": "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",
      "text/plain": [
       "<Figure size 600x400 with 1 Axes>"
      ]
     },
     "metadata": {},
     "output_type": "display_data"
    },
    {
     "data": {
      "image/png": "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",
      "text/plain": [
       "<Figure size 600x400 with 1 Axes>"
      ]
     },
     "metadata": {},
     "output_type": "display_data"
    },
    {
     "data": {
      "image/png": "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",
      "text/plain": [
       "<Figure size 600x400 with 1 Axes>"
      ]
     },
     "metadata": {},
     "output_type": "display_data"
    },
    {
     "data": {
      "image/png": "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",
      "text/plain": [
       "<Figure size 600x400 with 1 Axes>"
      ]
     },
     "metadata": {},
     "output_type": "display_data"
    },
    {
     "data": {
      "image/png": "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",
      "text/plain": [
       "<Figure size 600x400 with 1 Axes>"
      ]
     },
     "metadata": {},
     "output_type": "display_data"
    }
   ],
   "source": [
    "# COLOCAR RUN APROVACAO DE MODELO\n",
    "# PARAMETROS: min_precision\n",
    "# METRICS: new_version, precision\n",
    "# ARTIFACTS: None\n",
    "\n",
    "with mlflow.start_run(experiment_id=experiment_id, run_name = 'AprovacaoModelo'):\n",
    "    pred_holdout = pc.predict_model(bestmodel, raw_score=True)\n",
    "    pred_holdout.drop('prediction_score_0', axis=1, inplace=True)\n",
    "    pred_holdout.rename({'prediction_score_1': 'prediction_score'}, axis=1, inplace=True)\n",
    "    pr = metrics.precision_score(pred_holdout[wine_target_col], pred_holdout['prediction_label'])\n",
    "    if pr > min_precision:\n",
    "        print(f'=> Aceito o modelo com precisão {pr} (min: {min_precision})')\n",
    "        pred_holdout.to_parquet('modelo_vinho_teste.parquet')\n",
    "        # Assinatura do Modelo Inferida pelo MLFlow\n",
    "        model_features = list(data_wine.drop(wine_target_col, axis=1).columns)\n",
    "        inf_signature = infer_signature(data_wine[model_features], \n",
    "                                        model_pipe.predict(data_wine.drop(wine_target_col, axis=1)))\n",
    "        # Exemplo de entrada para o MLmodel\n",
    "        input_example = {x: data_wine[x].values[:nexamples] for x in model_features}\n",
    "        # Log do pipeline de modelagem do sklearn e registrar como uma nova versao\n",
    "        mlflow.sklearn.log_model(\n",
    "            sk_model=model_pipe,\n",
    "            artifact_path=\"sklearn-model\",\n",
    "            registered_model_name=registered_model_name,\n",
    "            signature = inf_signature,\n",
    "            input_example = input_example\n",
    "        )\n",
    "        # Criacao do cliente do servico MLFlow e atualizacao versao modelo\n",
    "        client = MlflowClient()\n",
    "        model_version = client.get_latest_versions(registered_model_name)[-1].version\n",
    "        # Registrar o modelo como staging\n",
    "        client.set_registered_model_alias(\n",
    "            name    = registered_model_name, \n",
    "            alias   = \"staging\", \n",
    "            version = model_version\n",
    "        )\n",
    "    else:\n",
    "        print(f'=> Rejeitado o modelo com precisão {pr} (min: {min_precision})')\n",
    "\n",
    "    # LOG DE PARAMETROS DO MODELO\n",
    "    mlflow.log_param(\"precisao_minima\", min_precision)\n",
    "\n",
    "    # LOG DE METRICAS GLOBAIS\n",
    "    mlflow.log_metric(\"new_version\", model_version)\n",
    "    mlflow.log_metric(\"precisao\", pr)\n",
    "\n",
    "    \n",
    "    # # \n",
    "    plt.figure(figsize=(6,4))\n",
    "    pred_holdout.prediction_score.plot.kde()\n",
    "    plt.savefig('teste_saida_modelo.png')\n",
    "    mlflow.log_artifact('teste_saida_modelo.png')\n",
    "    os.remove('teste_saida_modelo.png')\n",
    "\n",
    "mlflow.end_run()"
   ]
  },
  {
   "cell_type": "code",
<<<<<<< HEAD
   "execution_count": null,
=======
   "execution_count": 9,
>>>>>>> 62dbfe30ae39f9cf7a0993c70f55a619599fde1c
   "id": "ab0f3f9d-ffc4-46ba-a9fa-0a86dfca53a3",
   "metadata": {},
   "outputs": [],
   "source": [
    "# from pprint import pprint\n",
    "\n",
    "# client = MlflowClient()\n",
    "# for rm in client.search_registered_models():\n",
    "#     pprint(dict(rm), indent=4)\n"
   ]
  },
  {
   "cell_type": "markdown",
   "id": "8f5b26c8-89f2-469c-88e5-d4a8b7a039b5",
   "metadata": {},
   "source": [
    "# Serviço do Modelo "
   ]
  },
  {
   "cell_type": "code",
   "execution_count": null,
   "id": "08d2b8a9-da4c-448f-92dc-6d50b011acad",
   "metadata": {},
   "outputs": [],
   "source": [
    "# import os\n",
    "# os.environ['MLFLOW_TRACKING_URI'] = 'sqlite:///mlruns.db'\n",
    "# export MLFLOW_TRACKING_URI=sqlite:///mlruns.db\n",
    "# !mlflow models serve -m \"models:/modelo_vinho_tinto@staging\" --no-conda -p 5001"
   ]
  },
  {
   "cell_type": "markdown",
   "id": "b4b06011-d200-4ab9-861e-8648c606b2c6",
   "metadata": {},
   "source": [
    "# Operação Sistema de Recomendação de Vinhos "
   ]
  },
  {
   "cell_type": "code",
   "execution_count": 10,
   "id": "218c2dd1-8ab9-44e9-8fbb-8e203190071d",
   "metadata": {},
   "outputs": [
    {
     "data": {
      "text/html": [
       "<div>\n",
       "<style scoped>\n",
       "    .dataframe tbody tr th:only-of-type {\n",
       "        vertical-align: middle;\n",
       "    }\n",
       "\n",
       "    .dataframe tbody tr th {\n",
       "        vertical-align: top;\n",
       "    }\n",
       "\n",
       "    .dataframe thead th {\n",
       "        text-align: right;\n",
       "    }\n",
       "</style>\n",
       "<table border=\"1\" class=\"dataframe\">\n",
       "  <thead>\n",
       "    <tr style=\"text-align: right;\">\n",
       "      <th></th>\n",
       "      <th>alcohol</th>\n",
       "      <th>volatile acidity</th>\n",
       "      <th>free sulfur dioxide</th>\n",
       "      <th>residual sugar</th>\n",
       "      <th>target</th>\n",
       "      <th>operation_label</th>\n",
       "    </tr>\n",
       "  </thead>\n",
       "  <tbody>\n",
       "    <tr>\n",
       "      <th>948</th>\n",
       "      <td>13.600000</td>\n",
       "      <td>0.40</td>\n",
       "      <td>29.0</td>\n",
       "      <td>4.3</td>\n",
       "      <td>1</td>\n",
       "      <td>1</td>\n",
       "    </tr>\n",
       "    <tr>\n",
       "      <th>1251</th>\n",
       "      <td>13.566667</td>\n",
       "      <td>0.47</td>\n",
       "      <td>16.0</td>\n",
       "      <td>2.2</td>\n",
       "      <td>1</td>\n",
       "      <td>1</td>\n",
       "    </tr>\n",
       "    <tr>\n",
       "      <th>958</th>\n",
       "      <td>13.500000</td>\n",
       "      <td>0.29</td>\n",
       "      <td>3.0</td>\n",
       "      <td>1.7</td>\n",
       "      <td>1</td>\n",
       "      <td>1</td>\n",
       "    </tr>\n",
       "    <tr>\n",
       "      <th>431</th>\n",
       "      <td>13.400000</td>\n",
       "      <td>0.40</td>\n",
       "      <td>13.0</td>\n",
       "      <td>2.6</td>\n",
       "      <td>1</td>\n",
       "      <td>1</td>\n",
       "    </tr>\n",
       "    <tr>\n",
       "      <th>950</th>\n",
       "      <td>13.300000</td>\n",
       "      <td>0.39</td>\n",
       "      <td>14.0</td>\n",
       "      <td>2.1</td>\n",
       "      <td>1</td>\n",
       "      <td>1</td>\n",
       "    </tr>\n",
       "  </tbody>\n",
       "</table>\n",
       "</div>"
      ],
      "text/plain": [
       "        alcohol  volatile acidity  free sulfur dioxide  residual sugar  \\\n",
       "948   13.600000              0.40                 29.0             4.3   \n",
       "1251  13.566667              0.47                 16.0             2.2   \n",
       "958   13.500000              0.29                  3.0             1.7   \n",
       "431   13.400000              0.40                 13.0             2.6   \n",
       "950   13.300000              0.39                 14.0             2.1   \n",
       "\n",
       "      target  operation_label  \n",
       "948        1                1  \n",
       "1251       1                1  \n",
       "958        1                1  \n",
       "431        1                1  \n",
       "950        1                1  "
      ]
     },
     "execution_count": 10,
     "metadata": {},
     "output_type": "execute_result"
    }
   ],
   "source": [
    "import requests\n",
    "import json\n",
    "\n",
    "host = 'localhost'\n",
    "port = '5001'\n",
    "url = f'http://{host}:{port}/invocations'\n",
    "headers = {'Content-Type': 'application/json',}\n",
    "\n",
    "inference_request = {\n",
    "    \"dataframe_split\": json.loads(data_operation.drop(wine_target_col,axis=1).to_json(orient='split'))\n",
    "}\n",
    "r = requests.post(url=url, headers=headers, json=inference_request)\n",
    "\n",
    "data_operation.loc[:, 'operation_label'] = pd.read_json(r.text).values[:,0]\n",
    "\n",
    "data_operation.to_parquet('modelo_vinho_operacao.parquet')\n",
    "data_operation[data_operation.operation_label == 1].sort_values('alcohol', ascending=False).head(5)"
   ]
  },
  {
   "cell_type": "markdown",
   "id": "48676dea-7b89-4f4d-b858-18e2114cc58d",
   "metadata": {},
   "source": [
    "# Revalidacao de Amostras para Monitoramento"
   ]
  },
  {
   "cell_type": "code",
   "execution_count": 12,
   "id": "d0dc93af-1554-4cb3-b1f8-90a8809c71bb",
   "metadata": {},
   "outputs": [
    {
     "name": "stdout",
     "output_type": "stream",
     "text": [
      "== DADOS DE CONTROLE ==\n",
      "              precision    recall  f1-score   support\n",
      "\n",
<<<<<<< HEAD
      "           0       0.69      0.74      0.71       130\n",
      "           1       0.69      0.64      0.67       120\n",
=======
      "           0       0.68      0.72      0.70        75\n",
      "           1       0.70      0.65      0.68        75\n",
>>>>>>> 62dbfe30ae39f9cf7a0993c70f55a619599fde1c
      "\n",
      "    accuracy                           0.69       250\n",
      "   macro avg       0.69      0.69      0.69       250\n",
      "weighted avg       0.69      0.69      0.69       250\n",
      "\n"
     ]
    }
   ],
   "source": [
    "# COLOCAR RUN REVALIDACAO\n",
    "# PARAMETROS: min_samples_control\n",
    "# METRICS: matriz de confusao\n",
    "# ARTIFACTS:\n",
    "\n",
    "# Utilizacao da amostra de controle, que teria sido reavaliada por especialistas\n",
    "min_samples_control = 250\n",
    "\n",
    "with mlflow.start_run(experiment_id=experiment_id, run_name = 'RevalidacaoOperacao'):\n",
    "\n",
    "    data_operation = pd.read_parquet('modelo_vinho_operacao.parquet')\n",
    "\n",
    "    data_control = data_operation.sample(min_samples_control, random_state=SEED)\n",
    "    data_control.to_parquet('modelo_vinho_controle.parquet')\n",
    "\n",
    "    print('== DADOS DE CONTROLE ==')\n",
    "    print(metrics.classification_report(data_control[wine_target_col], data_control['operation_label']))\n",
    "    \n",
    "    # LOG DE PARAMETROS DO MODELO\n",
    "    mlflow.log_param(\"min_samples_control\", min_samples_control)\n",
    "\n",
    "    # LOG DE METRICAS GLOBAIS\n",
    "    cm = metrics.confusion_matrix(data_control[wine_target_col], data_control['operation_label'])\n",
    "    specificity = cm[0,0] / cm.sum(axis=1)[0]\n",
    "    sensibility = cm[1,1] / cm.sum(axis=1)[1]\n",
    "    precision   = cm[1,1] / cm.sum(axis=0)[1]\n",
    "    mlflow.log_metric(\"Especificidade\", specificity)\n",
    "    mlflow.log_metric(\"Sensibilidade\", sensibility)\n",
    "    mlflow.log_metric(\"Precisao\", precision)\n",
    "\n",
    "mlflow.end_run()"
   ]
  },
  {
   "cell_type": "markdown",
   "id": "d85ed1a9-5d88-4cad-9e2c-38194f280eea",
   "metadata": {},
   "source": [
    "## Alarme de Desvio "
   ]
  },
  {
   "cell_type": "code",
<<<<<<< HEAD
   "execution_count": 13,
=======
   "execution_count": 10,
>>>>>>> 62dbfe30ae39f9cf7a0993c70f55a619599fde1c
   "id": "dd737c18-c66a-4d8f-8e50-e3a29beb0c4e",
   "metadata": {},
   "outputs": [],
   "source": [
    "# reset matplotlib\n",
    "\n",
    "mpl.rcParams.update(inline_rc)\n",
    "font = {'size'   : 14}\n",
    "mpl.rc('font', **font)\n",
    "lines = {'linewidth' : 3}\n",
    "mpl.rc('lines', **lines)\n",
    "\n",
    "def data_drift_alarm(var_name, dev_data, data_test, data_control):\n",
    "    plt.figure(figsize=(6,4))\n",
    "    sn.kdeplot(dev_data[var_name], label='Desenvolvimento')\n",
    "    sn.kdeplot(data_test[var_name], label='Teste')\n",
    "    sn.kdeplot(data_control[var_name], label='Monitoramento')\n",
    "    plt.grid()\n",
    "    plt.legend(loc='best')\n",
    "    plt.title(f'Distribuição Variável {var_name}')\n",
    "    plt.ylabel('Densidade')\n",
    "    plt.xlabel(f'Unidade de {var_name}')\n",
    "    plt.tight_layout()"
   ]
  },
  {
   "cell_type": "markdown",
   "id": "0c1cda3c-e1f0-43b5-9b15-8d12bee230c0",
   "metadata": {},
   "source": [
    "## Alarme de Retreinamento"
   ]
  },
  {
   "cell_type": "code",
<<<<<<< HEAD
   "execution_count": 14,
=======
   "execution_count": 11,
>>>>>>> 62dbfe30ae39f9cf7a0993c70f55a619599fde1c
   "id": "62d03b46-de95-4d1d-aee9-b4792891f8da",
   "metadata": {},
   "outputs": [],
   "source": [
    "def alarm(data_monitoring, testset, min_eff_alarm):\n",
    "    cm = metrics.confusion_matrix(data_monitoring[wine_target_col], data_monitoring['operation_label'])\n",
    "    specificity_m = cm[0,0] / cm.sum(axis=1)[0]\n",
    "    sensibility_m = cm[1,1] / cm.sum(axis=1)[1]\n",
    "    precision_m   = cm[1,1] / cm.sum(axis=0)[1]\n",
    "\n",
    "    cm = metrics.confusion_matrix(testset[wine_target_col], testset['prediction_label'])\n",
    "    specificity_t = cm[0,0] / cm.sum(axis=1)[0]\n",
    "    sensibility_t = cm[1,1] / cm.sum(axis=1)[1]\n",
    "    precision_t   = cm[1,1] / cm.sum(axis=0)[1]\n",
    "\n",
    "    retrain = False\n",
    "    for name, metric_m, metric_t in zip(['especificidade', 'sensibilidade', 'precisao'],\n",
    "                                        [specificity_m, sensibility_m, precision_m],\n",
    "                                        [specificity_t, sensibility_t, precision_t]):\n",
    "        \n",
    "        print(f'\\t=> {name} de teste {metric_t} e de controle {metric_m}')\n",
    "        if (metric_t-metric_m)/metric_t > min_eff_alarm:\n",
    "            print(f'\\t=> MODELO OPERANDO FORA DO ESPERADO')\n",
    "            retrain = True\n",
    "        else:\n",
    "            print(f'\\t=> MODELO OPERANDO DENTRO DO ESPERADO')\n",
    "           \n",
    "        \n",
    "    return (retrain, [specificity_m, sensibility_m, precision_m],\n",
    "                                        [specificity_t, sensibility_t, precision_t] ) "
   ]
  },
  {
   "cell_type": "markdown",
   "id": "e2d7aa0b-06a0-4550-8795-0bb73c6af969",
   "metadata": {},
   "source": [
    "### Monitoramento Base Operacao "
   ]
  },
  {
   "cell_type": "code",
<<<<<<< HEAD
   "execution_count": 15,
=======
   "execution_count": 12,
>>>>>>> 62dbfe30ae39f9cf7a0993c70f55a619599fde1c
   "id": "f63927f2-1db8-4f9f-add4-7e9e50817295",
   "metadata": {},
   "outputs": [
    {
     "name": "stdout",
     "output_type": "stream",
     "text": [
      "== ALARME DE RETREINAMENTO - BASE CONTROLE ==\n",
<<<<<<< HEAD
      "\t=> especificidade de teste 0.7549668874172185 e de controle 0.7384615384615385\n",
      "\t=> MODELO OPERANDO DENTRO DO ESPERADO\n",
      "\t=> sensibilidade de teste 0.7443181818181818 e de controle 0.6416666666666667\n",
      "\t=> MODELO OPERANDO FORA DO ESPERADO\n",
      "\t=> precisao de teste 0.7797619047619048 e de controle 0.6936936936936937\n",
=======
      "\t=> especificidade de teste 0.7814569536423841 e de controle 0.72\n",
      "\t=> MODELO OPERANDO DENTRO DO ESPERADO\n",
      "\t=> sensibilidade de teste 0.7556818181818182 e de controle 0.6533333333333333\n",
      "\t=> MODELO OPERANDO FORA DO ESPERADO\n",
      "\t=> precisao de teste 0.8012048192771084 e de controle 0.7\n",
>>>>>>> 62dbfe30ae39f9cf7a0993c70f55a619599fde1c
      "\t=> MODELO OPERANDO FORA DO ESPERADO\n",
      "==> RETREINAMENTO NECESSARIO\n"
     ]
    }
   ],
   "source": [
    "# COLOCAR RUN MONITORAMENTO OPERACAO\n",
    "# PARAMETROS: min_eff_alarm\n",
    "# METRICS: metricas avaliadas e de referencia\n",
    "# ARTIFACTS:\n",
    "\n",
    "print('== ALARME DE RETREINAMENTO - BASE CONTROLE ==')\n",
    "# 10% de desvio aceitavel na metrica. Deve ser estimado pelo conjunto de validacao cruzada. \n",
    "min_eff_alarm = 0.1 \n",
    "\n",
    "with mlflow.start_run(experiment_id=experiment_id, run_name = 'MonitoramentoOperacao'):\n",
    "    data_control = pd.read_parquet('modelo_vinho_controle.parquet')\n",
    "    \n",
    "    (retrain, [specificity_m, sensibility_m, precision_m],\n",
    "              [specificity_t, sensibility_t, precision_t] ) = alarm(data_control, pred_holdout, min_eff_alarm)\n",
    "    if retrain:\n",
    "        print('==> RETREINAMENTO NECESSARIO')\n",
    "    else:\n",
    "        print('==> RETREINAMENTO NAO NECESSARIO')\n",
    "    # LOG DE PARAMETROS DO MODELO\n",
    "    mlflow.log_param(\"min_eff_alarm\", min_eff_alarm)\n",
    "\n",
    "    # LOG DE METRICAS GLOBAIS\n",
    "    mlflow.log_metric(\"Alarme Retreino\", float(retrain))\n",
    "    mlflow.log_metric(\"Especificidade Controle\", specificity_m)\n",
    "    mlflow.log_metric(\"Sensibilidade Controle\", sensibility_m)\n",
    "    mlflow.log_metric(\"Precisao Controle\", precision_m)\n",
    "    mlflow.log_metric(\"Especificidade Teste\", specificity_t)\n",
    "    mlflow.log_metric(\"Sensibilidade Teste\", sensibility_t)\n",
    "    mlflow.log_metric(\"Precisao Teste\", precision_t)\n",
    "    \n",
    "    # LOG ARTEFATO\n",
    "    var_name = 'volatile acidity' # 'alcohol'\n",
    "    data_drift_alarm(var_name, data_wine, pred_holdout, data_control)\n",
    "    plot_path = f'monitor_datadrift_{var_name}.png'\n",
    "    plt.savefig(plot_path)\n",
    "    mlflow.log_artifact(plot_path)\n",
    "    \n",
    "\n",
    "mlflow.end_run()  "
   ]
  },
  {
   "cell_type": "markdown",
   "id": "3b64b71b-a0a2-4338-b0db-1cda9c3bc312",
   "metadata": {},
   "source": [
    "# Operação Aplicação Python "
   ]
  },
  {
   "cell_type": "markdown",
   "id": "0e330309-46c1-4c19-99e5-b6e3100433ce",
   "metadata": {},
   "source": [
    "### Monitoramento Base de Novidade"
   ]
  },
  {
   "cell_type": "code",
   "execution_count": 17,
   "id": "78b9be91-b48a-410c-94a9-bb2f792e436b",
   "metadata": {},
   "outputs": [
    {
     "name": "stdout",
     "output_type": "stream",
     "text": [
      "== ALARME DE RETREINAMENTO - BASE NOVIDADE ==\n",
<<<<<<< HEAD
      "\t=> especificidade de teste 0.7549668874172185 e de controle 0.5749258160237388\n",
      "\t=> MODELO OPERANDO FORA DO ESPERADO\n",
      "\t=> sensibilidade de teste 0.7443181818181818 e de controle 0.750478377344049\n",
      "\t=> MODELO OPERANDO DENTRO DO ESPERADO\n",
      "\t=> precisao de teste 0.7797619047619048 e de controle 0.7738752959747435\n",
=======
      "\t=> especificidade de teste 0.7814569536423841 e de controle 0.5712166172106825\n",
      "\t=> MODELO OPERANDO FORA DO ESPERADO\n",
      "\t=> sensibilidade de teste 0.7556818181818182 e de controle 0.7569843092231152\n",
      "\t=> MODELO OPERANDO DENTRO DO ESPERADO\n",
      "\t=> precisao de teste 0.8012048192771084 e de controle 0.7738654147104851\n",
>>>>>>> 62dbfe30ae39f9cf7a0993c70f55a619599fde1c
      "\t=> MODELO OPERANDO DENTRO DO ESPERADO\n",
      "==> RETREINAMENTO NECESSARIO\n"
     ]
    }
   ],
   "source": [
    "# COLOCAR RUN MONITORAMENTO NOVIDADE\n",
    "# PARAMETROS: min_eff_alarm\n",
    "# METRICS: metricas avaliadas e de referencia\n",
    "# ARTIFACTS:\n",
    "\n",
    "print('== ALARME DE RETREINAMENTO - BASE NOVIDADE ==')\n",
    "# 10% de desvio aceitavel na metrica. Deve ser estimado pelo conjunto de validacao cruzada. \n",
    "min_eff_alarm = 0.1 \n",
    "\n",
    "with mlflow.start_run(experiment_id=experiment_id, run_name = 'MonitoramentoNovidade'):\n",
    "\n",
    "    model_uri = f\"models:/modelo_vinho_tinto@staging\"\n",
    "    loaded_model = mlflow.sklearn.load_model(model_uri)\n",
    "    data_novelty = pd.read_parquet('modelo_vinho_novidade.parquet')\n",
    "    data_novelty.loc[:, 'operation_label'] = loaded_model.predict(data_novelty.drop(wine_target_col,axis=1))\n",
    "    \n",
    "    (retrain, [specificity_m, sensibility_m, precision_m],\n",
    "              [specificity_t, sensibility_t, precision_t] ) = alarm(data_novelty, pred_holdout, min_eff_alarm)\n",
    "    if retrain:\n",
    "        print('==> RETREINAMENTO NECESSARIO')\n",
    "    else:\n",
    "        print('==> RETREINAMENTO NAO NECESSARIO')\n",
    "    # LOG DE PARAMETROS DO MODELO\n",
    "    mlflow.log_param(\"min_eff_alarm\", min_eff_alarm)\n",
    "\n",
    "    # LOG DE METRICAS GLOBAIS\n",
    "    mlflow.log_metric(\"Alarme Retreino\", float(retrain))\n",
    "    mlflow.log_metric(\"Especificidade Controle\", specificity_m)\n",
    "    mlflow.log_metric(\"Sensibilidade Controle\", sensibility_m)\n",
    "    mlflow.log_metric(\"Precisao Controle\", precision_m)\n",
    "    mlflow.log_metric(\"Especificidade Teste\", specificity_t)\n",
    "    mlflow.log_metric(\"Sensibilidade Teste\", sensibility_t)\n",
    "    mlflow.log_metric(\"Precisao Teste\", precision_t)\n",
    "    # LOG ARTEFATO\n",
    "    var_name = 'volatile acidity' # 'alcohol'\n",
    "    data_drift_alarm(var_name, data_wine, pred_holdout, data_novelty)\n",
    "    plot_path = f'novidade_datadrift_{var_name}.png'\n",
    "    plt.savefig(plot_path)\n",
    "    mlflow.log_artifact(plot_path)\n",
    "\n",
    "    # LOG ARTEFATO\n",
    "    var_name = 'alcohol'\n",
    "    data_drift_alarm(var_name, data_wine, pred_holdout, data_novelty)\n",
    "    plot_path = f'novidade_datadrift_{var_name}.png'\n",
    "    plt.savefig(plot_path)\n",
    "    mlflow.log_artifact(plot_path)\n",
    "\n",
    "mlflow.end_run()  "
   ]
  },
  {
   "cell_type": "code",
   "execution_count": null,
<<<<<<< HEAD
   "id": "7d0baa67-cab6-4e5b-84ef-e06f14cdc7e4",
   "metadata": {},
   "outputs": [],
   "source": []
  },
  {
   "cell_type": "code",
   "execution_count": 21,
   "id": "db7a4c89-56b0-4d92-b3b5-9ca8f4cef731",
   "metadata": {},
   "outputs": [],
   "source": [
    "\n",
    "resp = client.search_registered_models(f\"name = '{registered_model_name}'\")\n",
    "staging_version = resp[0].aliases['staging']"
   ]
  },
  {
   "cell_type": "code",
   "execution_count": 23,
   "id": "dd0901d4-fd30-4b79-95f5-a8b8b3542a23",
   "metadata": {},
   "outputs": [
    {
     "data": {
      "text/plain": [
       "2"
      ]
     },
     "execution_count": 23,
     "metadata": {},
     "output_type": "execute_result"
    }
   ],
   "source": [
    "staging_version"
   ]
  },
  {
   "cell_type": "code",
   "execution_count": 27,
   "id": "ecd6014b-bac0-4ec7-bf84-7ed23540b203",
   "metadata": {},
   "outputs": [
    {
     "name": "stdout",
     "output_type": "stream",
     "text": [
      "8fd387ad78aa410aa23bf36bd0a62920\n",
      "[<FileInfo: file_size=None, is_dir=True, path='sklearn-model'>, <FileInfo: file_size=22033, is_dir=False, path='teste_saida_modelo.png'>]\n"
     ]
    },
    {
     "data": {
      "application/vnd.jupyter.widget-view+json": {
       "model_id": "7b0f6b02d03f49099bc9e1ab9f47be0d",
       "version_major": 2,
       "version_minor": 0
      },
      "text/plain": [
       "Downloading artifacts:   0%|          | 0/1 [00:00<?, ?it/s]"
      ]
     },
     "metadata": {},
     "output_type": "display_data"
    }
   ],
   "source": [
    "\n",
    "model_versions = client.search_model_versions(f\"name='{registered_model_name}'\")\n",
    "for model in model_versions:\n",
    "    if model.version != staging_version:\n",
    "        continue\n",
    "    print(model.run_id)\n",
    "    print(client.list_artifacts(model.run_id))\n",
    "    artifact_uri = f\"runs:/{model.run_id}/teste_saida_modelo.png\"\n",
    "    file = mlflow.artifacts.download_artifacts(artifact_uri, dst_path=\".\")\n",
    "\n"
   ]
  },
  {
   "cell_type": "code",
   "execution_count": null,
   "id": "86cb04b9-ddb5-493a-8794-89d1b3d9f976",
=======
   "id": "58aca26b-9d24-4cda-afc7-98a4e79733c9",
>>>>>>> 62dbfe30ae39f9cf7a0993c70f55a619599fde1c
   "metadata": {},
   "outputs": [],
   "source": []
  }
 ],
 "metadata": {
  "kernelspec": {
   "display_name": "Python 3 (ipykernel)",
   "language": "python",
   "name": "python3"
  },
  "language_info": {
   "codemirror_mode": {
    "name": "ipython",
    "version": 3
   },
   "file_extension": ".py",
   "mimetype": "text/x-python",
   "name": "python",
   "nbconvert_exporter": "python",
   "pygments_lexer": "ipython3",
   "version": "3.8.18"
  }
 },
 "nbformat": 4,
 "nbformat_minor": 5
}
