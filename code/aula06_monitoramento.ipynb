{
 "cells": [
  {
   "cell_type": "code",
   "execution_count": 1,
   "id": "68084f4f-1a6b-41d2-9b9f-e5a4b1f599e7",
   "metadata": {
    "tags": []
   },
   "outputs": [],
   "source": [
    "import os\n",
    "import warnings\n",
    "import sys\n",
    "\n",
    "import pandas as pd\n",
    "import matplotlib.pyplot as plt\n",
    "import matplotlib as mpl\n",
    "import numpy as np\n",
    "from sklearn import linear_model, preprocessing, metrics, model_selection\n",
    "import mlflow\n",
    "import mlflow.sklearn\n",
    "from mlflow.models.signature import infer_signature\n",
    "from mlflow.tracking import MlflowClient\n",
    "\n",
    "import seaborn as sn\n",
    "\n",
    "if 'inline_rc' not in dir():\n",
    "    inline_rc = dict(mpl.rcParams)\n",
    "\n",
    "SEED = 10\n",
    "\n",
    "\n",
    "# import logging\n",
    "# logging.basicConfig(level=logging.WARN)\n",
    "# logger = logging.getLogger(__name__)\n",
    "np.random.seed(SEED)"
   ]
  },
  {
   "cell_type": "markdown",
   "id": "54b02af9-395c-48de-8ab1-b1741bf9fa3e",
   "metadata": {},
   "source": [
    "# Reset do estilo de cores do matplotlib "
   ]
  },
  {
   "cell_type": "code",
   "execution_count": 2,
   "id": "c7cfc943-790e-46af-bb10-1ffff849122c",
   "metadata": {},
   "outputs": [],
   "source": [
    "# reset matplotlib\n",
    "\n",
    "mpl.rcParams.update(inline_rc)\n",
    "font = {'size'   : 14}\n",
    "mpl.rc('font', **font)\n",
    "lines = {'linewidth' : 3}\n",
    "mpl.rc('lines', **lines)"
   ]
  },
  {
   "cell_type": "markdown",
   "id": "c7f8bdb8-1d80-4927-b825-506fa0ed86e5",
   "metadata": {},
   "source": [
    "# Sistema Recomendação Vinhos\n",
    "\n",
    "- Carregar dados de vinho e separar vinhos tinto e branco: tintos para desenvolvimento/operação e vinhos brancos para novidade \n",
    "- Treinamento de modelo com regressão logística do sklearn no pyCaret\n",
    "- Registros das etapas de processamento como runs\n",
    "- Registro do modelo com threshold de precisão mínimo de 70% em Staging\n",
    "- Aplicação Online: recomendação de vinhos\n",
    "    - Consumo da base de dados de operação\n",
    "    - Utilização do requests para fazer o POST e recuperar a predição do modelo\n",
    "    - Propor os 5 vinhos de alta qualidade de maior nível alcólico (print data frame)\n",
    "- Aplicação de Monitoramento: pipeline de monitoramento\n",
    "    - Revalidacao da base de operacao para amostras de controle (simulação especialista)\n",
    "    - Leitura da base de desenvolvimento (treino+teste)\n",
    "    - Alarme de amostra de controle\n",
    "    - Alarme com amostras de novidade\n"
   ]
  },
  {
   "cell_type": "code",
   "execution_count": 3,
   "id": "e4b6961f-a3d2-40b1-b59c-4346fba5a9b4",
   "metadata": {},
   "outputs": [],
   "source": [
    "registered_model_name = 'modelo_vinho_tinto'\n",
    "min_precision = 0.7\n",
    "model_version = -1 # recuperar a ultima versao\n",
    "nexamples = 4"
   ]
  },
  {
   "cell_type": "markdown",
   "id": "7866e821-a504-49df-98bc-3088c396c47a",
   "metadata": {},
   "source": [
    "# Experimento de Classificação de Vinhos "
   ]
  },
  {
   "cell_type": "code",
   "execution_count": 4,
   "id": "ed8b313e-8396-4313-b518-c67dc3ad2de7",
   "metadata": {},
   "outputs": [
    {
     "name": "stderr",
     "output_type": "stream",
     "text": [
      "2024/04/05 11:37:11 INFO mlflow.store.db.utils: Creating initial MLflow database tables...\n",
      "2024/04/05 11:37:11 INFO mlflow.store.db.utils: Updating database tables\n",
      "INFO  [alembic.runtime.migration] Context impl SQLiteImpl.\n",
      "INFO  [alembic.runtime.migration] Will assume non-transactional DDL.\n",
      "INFO  [alembic.runtime.migration] Running upgrade  -> 451aebb31d03, add metric step\n",
      "INFO  [alembic.runtime.migration] Running upgrade 451aebb31d03 -> 90e64c465722, migrate user column to tags\n",
      "INFO  [alembic.runtime.migration] Running upgrade 90e64c465722 -> 181f10493468, allow nulls for metric values\n",
      "INFO  [alembic.runtime.migration] Running upgrade 181f10493468 -> df50e92ffc5e, Add Experiment Tags Table\n",
      "INFO  [alembic.runtime.migration] Running upgrade df50e92ffc5e -> 7ac759974ad8, Update run tags with larger limit\n",
      "INFO  [alembic.runtime.migration] Running upgrade 7ac759974ad8 -> 89d4b8295536, create latest metrics table\n",
      "INFO  [89d4b8295536_create_latest_metrics_table_py] Migration complete!\n",
      "INFO  [alembic.runtime.migration] Running upgrade 89d4b8295536 -> 2b4d017a5e9b, add model registry tables to db\n",
      "INFO  [2b4d017a5e9b_add_model_registry_tables_to_db_py] Adding registered_models and model_versions tables to database.\n",
      "INFO  [2b4d017a5e9b_add_model_registry_tables_to_db_py] Migration complete!\n",
      "INFO  [alembic.runtime.migration] Running upgrade 2b4d017a5e9b -> cfd24bdc0731, Update run status constraint with killed\n",
      "INFO  [alembic.runtime.migration] Running upgrade cfd24bdc0731 -> 0a8213491aaa, drop_duplicate_killed_constraint\n",
      "INFO  [alembic.runtime.migration] Running upgrade 0a8213491aaa -> 728d730b5ebd, add registered model tags table\n",
      "INFO  [alembic.runtime.migration] Running upgrade 728d730b5ebd -> 27a6a02d2cf1, add model version tags table\n",
      "INFO  [alembic.runtime.migration] Running upgrade 27a6a02d2cf1 -> 84291f40a231, add run_link to model_version\n",
      "INFO  [alembic.runtime.migration] Running upgrade 84291f40a231 -> a8c4a736bde6, allow nulls for run_id\n",
      "INFO  [alembic.runtime.migration] Running upgrade a8c4a736bde6 -> 39d1c3be5f05, add_is_nan_constraint_for_metrics_tables_if_necessary\n",
      "INFO  [alembic.runtime.migration] Running upgrade 39d1c3be5f05 -> c48cb773bb87, reset_default_value_for_is_nan_in_metrics_table_for_mysql\n",
      "INFO  [alembic.runtime.migration] Running upgrade c48cb773bb87 -> bd07f7e963c5, create index on run_uuid\n",
      "INFO  [alembic.runtime.migration] Running upgrade bd07f7e963c5 -> 0c779009ac13, add deleted_time field to runs table\n",
      "INFO  [alembic.runtime.migration] Running upgrade 0c779009ac13 -> cc1f77228345, change param value length to 500\n",
      "INFO  [alembic.runtime.migration] Running upgrade cc1f77228345 -> 97727af70f4d, Add creation_time and last_update_time to experiments table\n",
      "INFO  [alembic.runtime.migration] Running upgrade 97727af70f4d -> 3500859a5d39, Add Model Aliases table\n",
      "INFO  [alembic.runtime.migration] Running upgrade 3500859a5d39 -> 7f2a7d5fae7d, add datasets inputs input_tags tables\n",
      "INFO  [alembic.runtime.migration] Running upgrade 7f2a7d5fae7d -> 2d6e25af4d3e, increase max param val length from 500 to 8000\n",
      "INFO  [alembic.runtime.migration] Running upgrade 2d6e25af4d3e -> acf3f17fdcc7, add storage location field to model versions\n",
      "INFO  [alembic.runtime.migration] Context impl SQLiteImpl.\n",
      "INFO  [alembic.runtime.migration] Will assume non-transactional DDL.\n"
     ]
    }
   ],
   "source": [
    "# Para usar o sqlite como repositorio\n",
    "mlflow.set_tracking_uri(\"sqlite:///mlruns.db\")\n",
    "\n",
    "experiment_name = 'Aula Monitoramento'\n",
    "experiment = mlflow.get_experiment_by_name(experiment_name)\n",
    "if experiment is None:\n",
    "    experiment_id = mlflow.create_experiment(experiment_name)\n",
    "    experiment = mlflow.get_experiment(experiment_id)\n",
    "experiment_id = experiment.experiment_id\n"
   ]
  },
  {
   "cell_type": "markdown",
   "id": "d4a08c9b-1dbc-4496-bc64-2434a7712faf",
   "metadata": {},
   "source": [
    "# Leitura dos Dados de Classificação de Vinhos "
   ]
  },
  {
   "cell_type": "code",
   "execution_count": 5,
   "id": "0e58e6f7-f8bb-498a-81f4-dc8175053cbd",
   "metadata": {},
   "outputs": [
    {
     "name": "stdout",
     "output_type": "stream",
     "text": [
      "== Bases de Dados ==\n",
      "data_wine (1087, 5)\n",
      "data_operation (272, 5)\n",
      "data_novelty (3961, 5)\n",
      "Columns: Index(['alcohol', 'volatile acidity', 'free sulfur dioxide', 'residual sugar',\n",
      "       'target'],\n",
      "      dtype='object')\n"
     ]
    }
   ],
   "source": [
    "# COLOCAR RUN DE LEITURA DE DADOS\n",
    "# PARAMETROS: top_features,\n",
    "# METRICS: SHAPE de cada base de dados\n",
    "# ARTIFACTS: nenhum\n",
    "\n",
    "top_features = ['alcohol','volatile acidity','free sulfur dioxide', 'residual sugar']\n",
    "\n",
    "with mlflow.start_run(experiment_id=experiment_id, run_name = 'PreparacaoDados'):\n",
    "    df_wine = pd.read_csv('../data/dataset_vinhos.csv',sep=';')\n",
    "    wine_target_col = 'target'\n",
    "    wine_label_map = df_wine[['target', 'target_label']].drop_duplicates()\n",
    "    drop_cols = ['target_label']\n",
    "    df_wine.drop(drop_cols, axis=1, inplace=True)\n",
    "    df_wine = df_wine[top_features + ['type', wine_target_col]].copy()\n",
    "\n",
    "    data_wine = df_wine[df_wine['type'] == 'red'].copy().drop('type', axis=1)\n",
    "    # Separar parte para compor a base de operacao\n",
    "    data_wine, data_operation, ytrain, ytest = model_selection.train_test_split(data_wine, \n",
    "                                                                            data_wine[wine_target_col],\n",
    "                                                                            test_size=0.2)\n",
    "    data_wine[wine_target_col]      = ytrain\n",
    "    data_operation[wine_target_col] = ytest\n",
    "\n",
    "    # Base de vinhos brancos\n",
    "    data_novelty = df_wine[df_wine['type'] == 'white'].copy().drop('type', axis=1)\n",
    "\n",
    "    data_novelty.to_parquet('modelo_vinho_novidade.parquet')\n",
    "    data_operation.to_parquet('modelo_vinho_operacao.parquet')\n",
    "    \n",
    "    # LOG DE PARAMETROS DO MODELO\n",
    "    mlflow.log_param(\"top_features\", top_features)\n",
    "\n",
    "    # LOG DE METRICAS GLOBAIS\n",
    "    mlflow.log_metric(\"data_dev\", data_wine.shape[0])\n",
    "    mlflow.log_metric(\"data_operation\", data_operation.shape[0])\n",
    "    mlflow.log_metric(\"data_novelty\", data_novelty.shape[0])\n",
    "   \n",
    "    \n",
    "mlflow.end_run()\n",
    "\n",
    "print('== Bases de Dados ==')\n",
    "print(f'data_wine {data_wine.shape}')\n",
    "print(f'data_operation {data_operation.shape}')\n",
    "print(f'data_novelty {data_novelty.shape}')\n",
    "print(f'Columns: {data_wine.columns}')"
   ]
  },
  {
   "cell_type": "code",
   "execution_count": 6,
   "id": "22dd5e42-518a-4407-8c17-50f8e52ca0c2",
   "metadata": {},
   "outputs": [],
   "source": [
    "# !mlflow ui --backend-store-uri sqlite:///mlruns.db"
   ]
  },
  {
   "cell_type": "markdown",
   "id": "b80922f9-7c07-463e-b97f-75f4ac3c2303",
   "metadata": {},
   "source": [
    "# Treinamento do Modelo"
   ]
  },
  {
   "cell_type": "code",
   "execution_count": 7,
   "id": "b4e1ee4b-e4bd-4ae8-b759-bdf99155ed56",
   "metadata": {},
   "outputs": [
    {
     "data": {
      "text/html": [
       "<style type=\"text/css\">\n",
       "#T_1d5e8_row8_col1 {\n",
       "  background-color: lightgreen;\n",
       "}\n",
       "</style>\n",
       "<table id=\"T_1d5e8\">\n",
       "  <thead>\n",
       "    <tr>\n",
       "      <th class=\"blank level0\" >&nbsp;</th>\n",
       "      <th id=\"T_1d5e8_level0_col0\" class=\"col_heading level0 col0\" >Description</th>\n",
       "      <th id=\"T_1d5e8_level0_col1\" class=\"col_heading level0 col1\" >Value</th>\n",
       "    </tr>\n",
       "  </thead>\n",
       "  <tbody>\n",
       "    <tr>\n",
       "      <th id=\"T_1d5e8_level0_row0\" class=\"row_heading level0 row0\" >0</th>\n",
       "      <td id=\"T_1d5e8_row0_col0\" class=\"data row0 col0\" >Session id</td>\n",
       "      <td id=\"T_1d5e8_row0_col1\" class=\"data row0 col1\" >1075</td>\n",
       "    </tr>\n",
       "    <tr>\n",
       "      <th id=\"T_1d5e8_level0_row1\" class=\"row_heading level0 row1\" >1</th>\n",
       "      <td id=\"T_1d5e8_row1_col0\" class=\"data row1 col0\" >Target</td>\n",
       "      <td id=\"T_1d5e8_row1_col1\" class=\"data row1 col1\" >target</td>\n",
       "    </tr>\n",
       "    <tr>\n",
       "      <th id=\"T_1d5e8_level0_row2\" class=\"row_heading level0 row2\" >2</th>\n",
       "      <td id=\"T_1d5e8_row2_col0\" class=\"data row2 col0\" >Target type</td>\n",
       "      <td id=\"T_1d5e8_row2_col1\" class=\"data row2 col1\" >Binary</td>\n",
       "    </tr>\n",
       "    <tr>\n",
       "      <th id=\"T_1d5e8_level0_row3\" class=\"row_heading level0 row3\" >3</th>\n",
       "      <td id=\"T_1d5e8_row3_col0\" class=\"data row3 col0\" >Original data shape</td>\n",
       "      <td id=\"T_1d5e8_row3_col1\" class=\"data row3 col1\" >(1087, 5)</td>\n",
       "    </tr>\n",
       "    <tr>\n",
       "      <th id=\"T_1d5e8_level0_row4\" class=\"row_heading level0 row4\" >4</th>\n",
       "      <td id=\"T_1d5e8_row4_col0\" class=\"data row4 col0\" >Transformed data shape</td>\n",
       "      <td id=\"T_1d5e8_row4_col1\" class=\"data row4 col1\" >(1087, 5)</td>\n",
       "    </tr>\n",
       "    <tr>\n",
       "      <th id=\"T_1d5e8_level0_row5\" class=\"row_heading level0 row5\" >5</th>\n",
       "      <td id=\"T_1d5e8_row5_col0\" class=\"data row5 col0\" >Transformed train set shape</td>\n",
       "      <td id=\"T_1d5e8_row5_col1\" class=\"data row5 col1\" >(760, 5)</td>\n",
       "    </tr>\n",
       "    <tr>\n",
       "      <th id=\"T_1d5e8_level0_row6\" class=\"row_heading level0 row6\" >6</th>\n",
       "      <td id=\"T_1d5e8_row6_col0\" class=\"data row6 col0\" >Transformed test set shape</td>\n",
       "      <td id=\"T_1d5e8_row6_col1\" class=\"data row6 col1\" >(327, 5)</td>\n",
       "    </tr>\n",
       "    <tr>\n",
       "      <th id=\"T_1d5e8_level0_row7\" class=\"row_heading level0 row7\" >7</th>\n",
       "      <td id=\"T_1d5e8_row7_col0\" class=\"data row7 col0\" >Numeric features</td>\n",
       "      <td id=\"T_1d5e8_row7_col1\" class=\"data row7 col1\" >4</td>\n",
       "    </tr>\n",
       "    <tr>\n",
       "      <th id=\"T_1d5e8_level0_row8\" class=\"row_heading level0 row8\" >8</th>\n",
       "      <td id=\"T_1d5e8_row8_col0\" class=\"data row8 col0\" >Preprocess</td>\n",
       "      <td id=\"T_1d5e8_row8_col1\" class=\"data row8 col1\" >True</td>\n",
       "    </tr>\n",
       "    <tr>\n",
       "      <th id=\"T_1d5e8_level0_row9\" class=\"row_heading level0 row9\" >9</th>\n",
       "      <td id=\"T_1d5e8_row9_col0\" class=\"data row9 col0\" >Imputation type</td>\n",
       "      <td id=\"T_1d5e8_row9_col1\" class=\"data row9 col1\" >simple</td>\n",
       "    </tr>\n",
       "    <tr>\n",
       "      <th id=\"T_1d5e8_level0_row10\" class=\"row_heading level0 row10\" >10</th>\n",
       "      <td id=\"T_1d5e8_row10_col0\" class=\"data row10 col0\" >Numeric imputation</td>\n",
       "      <td id=\"T_1d5e8_row10_col1\" class=\"data row10 col1\" >mean</td>\n",
       "    </tr>\n",
       "    <tr>\n",
       "      <th id=\"T_1d5e8_level0_row11\" class=\"row_heading level0 row11\" >11</th>\n",
       "      <td id=\"T_1d5e8_row11_col0\" class=\"data row11 col0\" >Categorical imputation</td>\n",
       "      <td id=\"T_1d5e8_row11_col1\" class=\"data row11 col1\" >mode</td>\n",
       "    </tr>\n",
       "    <tr>\n",
       "      <th id=\"T_1d5e8_level0_row12\" class=\"row_heading level0 row12\" >12</th>\n",
       "      <td id=\"T_1d5e8_row12_col0\" class=\"data row12 col0\" >Fold Generator</td>\n",
       "      <td id=\"T_1d5e8_row12_col1\" class=\"data row12 col1\" >StratifiedKFold</td>\n",
       "    </tr>\n",
       "    <tr>\n",
       "      <th id=\"T_1d5e8_level0_row13\" class=\"row_heading level0 row13\" >13</th>\n",
       "      <td id=\"T_1d5e8_row13_col0\" class=\"data row13 col0\" >Fold Number</td>\n",
       "      <td id=\"T_1d5e8_row13_col1\" class=\"data row13 col1\" >10</td>\n",
       "    </tr>\n",
       "    <tr>\n",
       "      <th id=\"T_1d5e8_level0_row14\" class=\"row_heading level0 row14\" >14</th>\n",
       "      <td id=\"T_1d5e8_row14_col0\" class=\"data row14 col0\" >CPU Jobs</td>\n",
       "      <td id=\"T_1d5e8_row14_col1\" class=\"data row14 col1\" >-1</td>\n",
       "    </tr>\n",
       "    <tr>\n",
       "      <th id=\"T_1d5e8_level0_row15\" class=\"row_heading level0 row15\" >15</th>\n",
       "      <td id=\"T_1d5e8_row15_col0\" class=\"data row15 col0\" >Use GPU</td>\n",
       "      <td id=\"T_1d5e8_row15_col1\" class=\"data row15 col1\" >False</td>\n",
       "    </tr>\n",
       "    <tr>\n",
       "      <th id=\"T_1d5e8_level0_row16\" class=\"row_heading level0 row16\" >16</th>\n",
       "      <td id=\"T_1d5e8_row16_col0\" class=\"data row16 col0\" >Log Experiment</td>\n",
       "      <td id=\"T_1d5e8_row16_col1\" class=\"data row16 col1\" >MlflowLogger</td>\n",
       "    </tr>\n",
       "    <tr>\n",
       "      <th id=\"T_1d5e8_level0_row17\" class=\"row_heading level0 row17\" >17</th>\n",
       "      <td id=\"T_1d5e8_row17_col0\" class=\"data row17 col0\" >Experiment Name</td>\n",
       "      <td id=\"T_1d5e8_row17_col1\" class=\"data row17 col1\" >Aula Monitoramento</td>\n",
       "    </tr>\n",
       "    <tr>\n",
       "      <th id=\"T_1d5e8_level0_row18\" class=\"row_heading level0 row18\" >18</th>\n",
       "      <td id=\"T_1d5e8_row18_col0\" class=\"data row18 col0\" >USI</td>\n",
       "      <td id=\"T_1d5e8_row18_col1\" class=\"data row18 col1\" >dffc</td>\n",
       "    </tr>\n",
       "  </tbody>\n",
       "</table>\n"
      ],
      "text/plain": [
       "<pandas.io.formats.style.Styler at 0x7f14d5722a00>"
      ]
     },
     "metadata": {},
     "output_type": "display_data"
    },
    {
     "data": {
      "text/html": [],
      "text/plain": [
       "<IPython.core.display.HTML object>"
      ]
     },
     "metadata": {},
     "output_type": "display_data"
    },
    {
     "data": {
      "text/html": [
       "<style type=\"text/css\">\n",
       "#T_3293c_row10_col0, #T_3293c_row10_col1, #T_3293c_row10_col2, #T_3293c_row10_col3, #T_3293c_row10_col4, #T_3293c_row10_col5, #T_3293c_row10_col6 {\n",
       "  background: yellow;\n",
       "}\n",
       "</style>\n",
       "<table id=\"T_3293c\">\n",
       "  <thead>\n",
       "    <tr>\n",
       "      <th class=\"blank level0\" >&nbsp;</th>\n",
       "      <th id=\"T_3293c_level0_col0\" class=\"col_heading level0 col0\" >Accuracy</th>\n",
       "      <th id=\"T_3293c_level0_col1\" class=\"col_heading level0 col1\" >AUC</th>\n",
       "      <th id=\"T_3293c_level0_col2\" class=\"col_heading level0 col2\" >Recall</th>\n",
       "      <th id=\"T_3293c_level0_col3\" class=\"col_heading level0 col3\" >Prec.</th>\n",
       "      <th id=\"T_3293c_level0_col4\" class=\"col_heading level0 col4\" >F1</th>\n",
       "      <th id=\"T_3293c_level0_col5\" class=\"col_heading level0 col5\" >Kappa</th>\n",
       "      <th id=\"T_3293c_level0_col6\" class=\"col_heading level0 col6\" >MCC</th>\n",
       "    </tr>\n",
       "    <tr>\n",
       "      <th class=\"index_name level0\" >Fold</th>\n",
       "      <th class=\"blank col0\" >&nbsp;</th>\n",
       "      <th class=\"blank col1\" >&nbsp;</th>\n",
       "      <th class=\"blank col2\" >&nbsp;</th>\n",
       "      <th class=\"blank col3\" >&nbsp;</th>\n",
       "      <th class=\"blank col4\" >&nbsp;</th>\n",
       "      <th class=\"blank col5\" >&nbsp;</th>\n",
       "      <th class=\"blank col6\" >&nbsp;</th>\n",
       "    </tr>\n",
       "  </thead>\n",
       "  <tbody>\n",
       "    <tr>\n",
       "      <th id=\"T_3293c_level0_row0\" class=\"row_heading level0 row0\" >0</th>\n",
       "      <td id=\"T_3293c_row0_col0\" class=\"data row0 col0\" >0.7368</td>\n",
       "      <td id=\"T_3293c_row0_col1\" class=\"data row0 col1\" >0.8188</td>\n",
       "      <td id=\"T_3293c_row0_col2\" class=\"data row0 col2\" >0.6585</td>\n",
       "      <td id=\"T_3293c_row0_col3\" class=\"data row0 col3\" >0.8182</td>\n",
       "      <td id=\"T_3293c_row0_col4\" class=\"data row0 col4\" >0.7297</td>\n",
       "      <td id=\"T_3293c_row0_col5\" class=\"data row0 col5\" >0.4791</td>\n",
       "      <td id=\"T_3293c_row0_col6\" class=\"data row0 col6\" >0.4898</td>\n",
       "    </tr>\n",
       "    <tr>\n",
       "      <th id=\"T_3293c_level0_row1\" class=\"row_heading level0 row1\" >1</th>\n",
       "      <td id=\"T_3293c_row1_col0\" class=\"data row1 col0\" >0.7105</td>\n",
       "      <td id=\"T_3293c_row1_col1\" class=\"data row1 col1\" >0.7965</td>\n",
       "      <td id=\"T_3293c_row1_col2\" class=\"data row1 col2\" >0.7805</td>\n",
       "      <td id=\"T_3293c_row1_col3\" class=\"data row1 col3\" >0.7111</td>\n",
       "      <td id=\"T_3293c_row1_col4\" class=\"data row1 col4\" >0.7442</td>\n",
       "      <td id=\"T_3293c_row1_col5\" class=\"data row1 col5\" >0.4125</td>\n",
       "      <td id=\"T_3293c_row1_col6\" class=\"data row1 col6\" >0.4149</td>\n",
       "    </tr>\n",
       "    <tr>\n",
       "      <th id=\"T_3293c_level0_row2\" class=\"row_heading level0 row2\" >2</th>\n",
       "      <td id=\"T_3293c_row2_col0\" class=\"data row2 col0\" >0.7763</td>\n",
       "      <td id=\"T_3293c_row2_col1\" class=\"data row2 col1\" >0.8265</td>\n",
       "      <td id=\"T_3293c_row2_col2\" class=\"data row2 col2\" >0.7561</td>\n",
       "      <td id=\"T_3293c_row2_col3\" class=\"data row2 col3\" >0.8158</td>\n",
       "      <td id=\"T_3293c_row2_col4\" class=\"data row2 col4\" >0.7848</td>\n",
       "      <td id=\"T_3293c_row2_col5\" class=\"data row2 col5\" >0.5526</td>\n",
       "      <td id=\"T_3293c_row2_col6\" class=\"data row2 col6\" >0.5544</td>\n",
       "    </tr>\n",
       "    <tr>\n",
       "      <th id=\"T_3293c_level0_row3\" class=\"row_heading level0 row3\" >3</th>\n",
       "      <td id=\"T_3293c_row3_col0\" class=\"data row3 col0\" >0.7368</td>\n",
       "      <td id=\"T_3293c_row3_col1\" class=\"data row3 col1\" >0.7923</td>\n",
       "      <td id=\"T_3293c_row3_col2\" class=\"data row3 col2\" >0.7561</td>\n",
       "      <td id=\"T_3293c_row3_col3\" class=\"data row3 col3\" >0.7561</td>\n",
       "      <td id=\"T_3293c_row3_col4\" class=\"data row3 col4\" >0.7561</td>\n",
       "      <td id=\"T_3293c_row3_col5\" class=\"data row3 col5\" >0.4704</td>\n",
       "      <td id=\"T_3293c_row3_col6\" class=\"data row3 col6\" >0.4704</td>\n",
       "    </tr>\n",
       "    <tr>\n",
       "      <th id=\"T_3293c_level0_row4\" class=\"row_heading level0 row4\" >4</th>\n",
       "      <td id=\"T_3293c_row4_col0\" class=\"data row4 col0\" >0.7632</td>\n",
       "      <td id=\"T_3293c_row4_col1\" class=\"data row4 col1\" >0.8641</td>\n",
       "      <td id=\"T_3293c_row4_col2\" class=\"data row4 col2\" >0.7561</td>\n",
       "      <td id=\"T_3293c_row4_col3\" class=\"data row4 col3\" >0.7949</td>\n",
       "      <td id=\"T_3293c_row4_col4\" class=\"data row4 col4\" >0.7750</td>\n",
       "      <td id=\"T_3293c_row4_col5\" class=\"data row4 col5\" >0.5253</td>\n",
       "      <td id=\"T_3293c_row4_col6\" class=\"data row4 col6\" >0.5261</td>\n",
       "    </tr>\n",
       "    <tr>\n",
       "      <th id=\"T_3293c_level0_row5\" class=\"row_heading level0 row5\" >5</th>\n",
       "      <td id=\"T_3293c_row5_col0\" class=\"data row5 col0\" >0.6842</td>\n",
       "      <td id=\"T_3293c_row5_col1\" class=\"data row5 col1\" >0.7491</td>\n",
       "      <td id=\"T_3293c_row5_col2\" class=\"data row5 col2\" >0.6341</td>\n",
       "      <td id=\"T_3293c_row5_col3\" class=\"data row5 col3\" >0.7429</td>\n",
       "      <td id=\"T_3293c_row5_col4\" class=\"data row5 col4\" >0.6842</td>\n",
       "      <td id=\"T_3293c_row5_col5\" class=\"data row5 col5\" >0.3723</td>\n",
       "      <td id=\"T_3293c_row5_col6\" class=\"data row5 col6\" >0.3770</td>\n",
       "    </tr>\n",
       "    <tr>\n",
       "      <th id=\"T_3293c_level0_row6\" class=\"row_heading level0 row6\" >6</th>\n",
       "      <td id=\"T_3293c_row6_col0\" class=\"data row6 col0\" >0.6579</td>\n",
       "      <td id=\"T_3293c_row6_col1\" class=\"data row6 col1\" >0.7456</td>\n",
       "      <td id=\"T_3293c_row6_col2\" class=\"data row6 col2\" >0.6585</td>\n",
       "      <td id=\"T_3293c_row6_col3\" class=\"data row6 col3\" >0.6923</td>\n",
       "      <td id=\"T_3293c_row6_col4\" class=\"data row6 col4\" >0.6750</td>\n",
       "      <td id=\"T_3293c_row6_col5\" class=\"data row6 col5\" >0.3144</td>\n",
       "      <td id=\"T_3293c_row6_col6\" class=\"data row6 col6\" >0.3148</td>\n",
       "    </tr>\n",
       "    <tr>\n",
       "      <th id=\"T_3293c_level0_row7\" class=\"row_heading level0 row7\" >7</th>\n",
       "      <td id=\"T_3293c_row7_col0\" class=\"data row7 col0\" >0.7368</td>\n",
       "      <td id=\"T_3293c_row7_col1\" class=\"data row7 col1\" >0.8014</td>\n",
       "      <td id=\"T_3293c_row7_col2\" class=\"data row7 col2\" >0.6829</td>\n",
       "      <td id=\"T_3293c_row7_col3\" class=\"data row7 col3\" >0.8000</td>\n",
       "      <td id=\"T_3293c_row7_col4\" class=\"data row7 col4\" >0.7368</td>\n",
       "      <td id=\"T_3293c_row7_col5\" class=\"data row7 col5\" >0.4769</td>\n",
       "      <td id=\"T_3293c_row7_col6\" class=\"data row7 col6\" >0.4829</td>\n",
       "    </tr>\n",
       "    <tr>\n",
       "      <th id=\"T_3293c_level0_row8\" class=\"row_heading level0 row8\" >8</th>\n",
       "      <td id=\"T_3293c_row8_col0\" class=\"data row8 col0\" >0.7368</td>\n",
       "      <td id=\"T_3293c_row8_col1\" class=\"data row8 col1\" >0.7742</td>\n",
       "      <td id=\"T_3293c_row8_col2\" class=\"data row8 col2\" >0.8049</td>\n",
       "      <td id=\"T_3293c_row8_col3\" class=\"data row8 col3\" >0.7333</td>\n",
       "      <td id=\"T_3293c_row8_col4\" class=\"data row8 col4\" >0.7674</td>\n",
       "      <td id=\"T_3293c_row8_col5\" class=\"data row8 col5\" >0.4659</td>\n",
       "      <td id=\"T_3293c_row8_col6\" class=\"data row8 col6\" >0.4686</td>\n",
       "    </tr>\n",
       "    <tr>\n",
       "      <th id=\"T_3293c_level0_row9\" class=\"row_heading level0 row9\" >9</th>\n",
       "      <td id=\"T_3293c_row9_col0\" class=\"data row9 col0\" >0.6447</td>\n",
       "      <td id=\"T_3293c_row9_col1\" class=\"data row9 col1\" >0.6701</td>\n",
       "      <td id=\"T_3293c_row9_col2\" class=\"data row9 col2\" >0.5750</td>\n",
       "      <td id=\"T_3293c_row9_col3\" class=\"data row9 col3\" >0.6970</td>\n",
       "      <td id=\"T_3293c_row9_col4\" class=\"data row9 col4\" >0.6301</td>\n",
       "      <td id=\"T_3293c_row9_col5\" class=\"data row9 col5\" >0.2944</td>\n",
       "      <td id=\"T_3293c_row9_col6\" class=\"data row9 col6\" >0.2994</td>\n",
       "    </tr>\n",
       "    <tr>\n",
       "      <th id=\"T_3293c_level0_row10\" class=\"row_heading level0 row10\" >Mean</th>\n",
       "      <td id=\"T_3293c_row10_col0\" class=\"data row10 col0\" >0.7184</td>\n",
       "      <td id=\"T_3293c_row10_col1\" class=\"data row10 col1\" >0.7839</td>\n",
       "      <td id=\"T_3293c_row10_col2\" class=\"data row10 col2\" >0.7063</td>\n",
       "      <td id=\"T_3293c_row10_col3\" class=\"data row10 col3\" >0.7562</td>\n",
       "      <td id=\"T_3293c_row10_col4\" class=\"data row10 col4\" >0.7283</td>\n",
       "      <td id=\"T_3293c_row10_col5\" class=\"data row10 col5\" >0.4364</td>\n",
       "      <td id=\"T_3293c_row10_col6\" class=\"data row10 col6\" >0.4398</td>\n",
       "    </tr>\n",
       "    <tr>\n",
       "      <th id=\"T_3293c_level0_row11\" class=\"row_heading level0 row11\" >Std</th>\n",
       "      <td id=\"T_3293c_row11_col0\" class=\"data row11 col0\" >0.0413</td>\n",
       "      <td id=\"T_3293c_row11_col1\" class=\"data row11 col1\" >0.0507</td>\n",
       "      <td id=\"T_3293c_row11_col2\" class=\"data row11 col2\" >0.0709</td>\n",
       "      <td id=\"T_3293c_row11_col3\" class=\"data row11 col3\" >0.0460</td>\n",
       "      <td id=\"T_3293c_row11_col4\" class=\"data row11 col4\" >0.0474</td>\n",
       "      <td id=\"T_3293c_row11_col5\" class=\"data row11 col5\" >0.0816</td>\n",
       "      <td id=\"T_3293c_row11_col6\" class=\"data row11 col6\" >0.0816</td>\n",
       "    </tr>\n",
       "  </tbody>\n",
       "</table>\n"
      ],
      "text/plain": [
       "<pandas.io.formats.style.Styler at 0x7f14d540deb0>"
      ]
     },
     "metadata": {},
     "output_type": "display_data"
    },
    {
     "data": {
      "text/html": [],
      "text/plain": [
       "<IPython.core.display.HTML object>"
      ]
     },
     "metadata": {},
     "output_type": "display_data"
    },
    {
     "name": "stdout",
     "output_type": "stream",
     "text": [
      "=> Aplicando plot  auc\n"
     ]
    },
    {
     "data": {
      "text/html": [],
      "text/plain": [
       "<IPython.core.display.HTML object>"
      ]
     },
     "metadata": {},
     "output_type": "display_data"
    },
    {
     "name": "stdout",
     "output_type": "stream",
     "text": [
      "AUC.png\n",
      "=> Aplicando plot  pr\n"
     ]
    },
    {
     "data": {
      "text/html": [],
      "text/plain": [
       "<IPython.core.display.HTML object>"
      ]
     },
     "metadata": {},
     "output_type": "display_data"
    },
    {
     "name": "stdout",
     "output_type": "stream",
     "text": [
      "Precision Recall.png\n",
      "=> Aplicando plot  confusion_matrix\n"
     ]
    },
    {
     "data": {
      "text/html": [],
      "text/plain": [
       "<IPython.core.display.HTML object>"
      ]
     },
     "metadata": {},
     "output_type": "display_data"
    },
    {
     "name": "stdout",
     "output_type": "stream",
     "text": [
      "Confusion Matrix.png\n",
      "=> Aplicando plot  threshold\n"
     ]
    },
    {
     "data": {
      "text/html": [],
      "text/plain": [
       "<IPython.core.display.HTML object>"
      ]
     },
     "metadata": {},
     "output_type": "display_data"
    },
    {
     "name": "stdout",
     "output_type": "stream",
     "text": [
      "Threshold.png\n",
      "=> Aplicando plot  learning\n"
     ]
    },
    {
     "data": {
      "text/html": [],
      "text/plain": [
       "<IPython.core.display.HTML object>"
      ]
     },
     "metadata": {},
     "output_type": "display_data"
    },
    {
     "name": "stdout",
     "output_type": "stream",
     "text": [
      "Learning Curve.png\n",
      "Transformation Pipeline and Model Successfully Saved\n",
      "Transformation Pipeline and Model Successfully Loaded\n"
     ]
    }
   ],
   "source": [
    "import pycaret.classification as pc\n",
    "# COLOCAR RUN DE TREINAMENTO DE MODELOS\n",
    "# PARAMETROS: fold_strategy, fold, model_name, registered_model_name, cross_validation\n",
    "# METRICS: auto sklearn\n",
    "# ARTIFACTS: plots\n",
    "\n",
    "model_name = 'lr'\n",
    "probability_threshold = 0.5\n",
    "cross_validation = True\n",
    "fold_strategy = 'stratifiedkfold'\n",
    "fold = 10\n",
    "\n",
    "# train/test\n",
    "s = pc.setup(data = data_wine, \n",
    "             target = wine_target_col,\n",
    "             train_size=0.7,\n",
    "             fold_strategy = fold_strategy,\n",
    "             fold = fold,\n",
    "             log_experiment = True, \n",
    "             experiment_name = experiment_name, \n",
    "             log_plots = True\n",
    "            )\n",
    "bestmodel = pc.create_model(model_name,\n",
    "                            cross_validation = cross_validation, \n",
    "                            probability_threshold=probability_threshold)\n",
    "\n",
    "# Log do run, e nao do modelo respectivo\n",
    "classification_plots = [ 'auc','pr','confusion_matrix',\n",
    "#                          'error', 'class_report', \n",
    "                        'threshold',\n",
    "                         'learning',\n",
    "                        # 'vc',\n",
    "                        # 'feature',\n",
    "                       ]\n",
    "for plot_type in classification_plots:\n",
    "    print('=> Aplicando plot ', plot_type)\n",
    "    try:\n",
    "        artifact = pc.plot_model(bestmodel, plot=plot_type, save=True)\n",
    "        mlflow.log_artifact(artifact)\n",
    "        print(artifact)\n",
    "    except:\n",
    "        print('=> Nao possivel plotar: ', plot_type )\n",
    "        continue\n",
    "\n",
    "pc.save_model(bestmodel, f'./{registered_model_name}') \n",
    "# Carrega novamente o pipeline + bestmodel\n",
    "model_pipe = pc.load_model(f'./{registered_model_name}')\n",
    "\n",
    "\n",
    "mlflow.end_run()"
   ]
  },
  {
   "cell_type": "markdown",
   "id": "098336eb-7295-4ae5-bd7a-b827cab194c4",
   "metadata": {},
   "source": [
    "# Avaliar Precisão Mínima "
   ]
  },
  {
   "cell_type": "code",
   "execution_count": 8,
   "id": "92b998b9-1442-4f28-9e0e-e0ad30043a98",
   "metadata": {},
   "outputs": [
    {
     "data": {
      "text/html": [
       "<style type=\"text/css\">\n",
       "</style>\n",
       "<table id=\"T_257e6\">\n",
       "  <thead>\n",
       "    <tr>\n",
       "      <th class=\"blank level0\" >&nbsp;</th>\n",
       "      <th id=\"T_257e6_level0_col0\" class=\"col_heading level0 col0\" >Model</th>\n",
       "      <th id=\"T_257e6_level0_col1\" class=\"col_heading level0 col1\" >Accuracy</th>\n",
       "      <th id=\"T_257e6_level0_col2\" class=\"col_heading level0 col2\" >AUC</th>\n",
       "      <th id=\"T_257e6_level0_col3\" class=\"col_heading level0 col3\" >Recall</th>\n",
       "      <th id=\"T_257e6_level0_col4\" class=\"col_heading level0 col4\" >Prec.</th>\n",
       "      <th id=\"T_257e6_level0_col5\" class=\"col_heading level0 col5\" >F1</th>\n",
       "      <th id=\"T_257e6_level0_col6\" class=\"col_heading level0 col6\" >Kappa</th>\n",
       "      <th id=\"T_257e6_level0_col7\" class=\"col_heading level0 col7\" >MCC</th>\n",
       "    </tr>\n",
       "  </thead>\n",
       "  <tbody>\n",
       "    <tr>\n",
       "      <th id=\"T_257e6_level0_row0\" class=\"row_heading level0 row0\" >0</th>\n",
       "      <td id=\"T_257e6_row0_col0\" class=\"data row0 col0\" >Logistic Regression</td>\n",
       "      <td id=\"T_257e6_row0_col1\" class=\"data row0 col1\" >0.8073</td>\n",
       "      <td id=\"T_257e6_row0_col2\" class=\"data row0 col2\" >0.8675</td>\n",
       "      <td id=\"T_257e6_row0_col3\" class=\"data row0 col3\" >0.7727</td>\n",
       "      <td id=\"T_257e6_row0_col4\" class=\"data row0 col4\" >0.8553</td>\n",
       "      <td id=\"T_257e6_row0_col5\" class=\"data row0 col5\" >0.8119</td>\n",
       "      <td id=\"T_257e6_row0_col6\" class=\"data row0 col6\" >0.6155</td>\n",
       "      <td id=\"T_257e6_row0_col7\" class=\"data row0 col7\" >0.6188</td>\n",
       "    </tr>\n",
       "  </tbody>\n",
       "</table>\n"
      ],
      "text/plain": [
       "<pandas.io.formats.style.Styler at 0x7f14d5835580>"
      ]
     },
     "metadata": {},
     "output_type": "display_data"
    },
    {
     "name": "stdout",
     "output_type": "stream",
     "text": [
      "=> Aceito o modelo com precisão 0.8553459119496856 (min: 0.7)\n"
     ]
    },
    {
     "name": "stderr",
     "output_type": "stream",
     "text": [
      "Successfully registered model 'modelo_vinho_tinto'.\n",
      "Created version '1' of model 'modelo_vinho_tinto'.\n"
     ]
    },
    {
     "data": {
      "image/png": "[encoded data removed]",
      "text/plain": [
       "<Figure size 600x400 with 1 Axes>"
      ]
     },
     "metadata": {},
     "output_type": "display_data"
    }
   ],
   "source": [
    "# COLOCAR RUN APROVACAO DE MODELO\n",
    "# PARAMETROS: min_precision\n",
    "# METRICS: new_version, precision\n",
    "# ARTIFACTS: None\n",
    "\n",
    "with mlflow.start_run(experiment_id=experiment_id, run_name = 'AprovacaoModelo'):\n",
    "    pred_holdout = pc.predict_model(bestmodel, raw_score=True)\n",
    "    pred_holdout.drop('prediction_score_0', axis=1, inplace=True)\n",
    "    pred_holdout.rename({'prediction_score_1': 'prediction_score'}, axis=1, inplace=True)\n",
    "    pr = metrics.precision_score(pred_holdout[wine_target_col], pred_holdout['prediction_label'])\n",
    "    if pr > min_precision:\n",
    "        print(f'=> Aceito o modelo com precisão {pr} (min: {min_precision})')\n",
    "        pred_holdout.to_parquet('modelo_vinho_teste.parquet')\n",
    "        # Assinatura do Modelo Inferida pelo MLFlow\n",
    "        model_features = list(data_wine.drop(wine_target_col, axis=1).columns)\n",
    "        inf_signature = infer_signature(data_wine[model_features], \n",
    "                                        model_pipe.predict(data_wine.drop(wine_target_col, axis=1)))\n",
    "        # Exemplo de entrada para o MLmodel\n",
    "        input_example = {x: data_wine[x].values[:nexamples] for x in model_features}\n",
    "        # Log do pipeline de modelagem do sklearn e registrar como uma nova versao\n",
    "        mlflow.sklearn.log_model(\n",
    "            sk_model=model_pipe,\n",
    "            artifact_path=\"sklearn-model\",\n",
    "            registered_model_name=registered_model_name,\n",
    "            signature = inf_signature,\n",
    "            input_example = input_example\n",
    "        )\n",
    "        # Criacao do cliente do servico MLFlow e atualizacao versao modelo\n",
    "        client = MlflowClient()\n",
    "        model_version = client.get_latest_versions(registered_model_name)[-1].version\n",
    "        # Registrar o modelo como staging\n",
    "        client.set_registered_model_alias(\n",
    "            name    = registered_model_name, \n",
    "            alias   = \"staging\", \n",
    "            version = model_version\n",
    "        )\n",
    "    else:\n",
    "        print(f'=> Rejeitado o modelo com precisão {pr} (min: {min_precision})')\n",
    "\n",
    "    # LOG DE PARAMETROS DO MODELO\n",
    "    mlflow.log_param(\"precisao_minima\", min_precision)\n",
    "\n",
    "    # LOG DE METRICAS GLOBAIS\n",
    "    mlflow.log_metric(\"new_version\", model_version)\n",
    "    mlflow.log_metric(\"precisao\", pr)\n",
    "\n",
    "    \n",
    "    # # \n",
    "    plt.figure(figsize=(6,4))\n",
    "    pred_holdout.prediction_score.plot.kde()\n",
    "    plt.savefig('teste_saida_modelo.png')\n",
    "    mlflow.log_artifact('teste_saida_modelo.png')\n",
    "    os.remove('teste_saida_modelo.png')\n",
    "\n",
    "mlflow.end_run()"
   ]
  },
  {
   "cell_type": "code",
   "execution_count": 9,
   "id": "ab0f3f9d-ffc4-46ba-a9fa-0a86dfca53a3",
   "metadata": {},
   "outputs": [],
   "source": [
    "# from pprint import pprint\n",
    "\n",
    "# client = MlflowClient()\n",
    "# for rm in client.search_registered_models():\n",
    "#     pprint(dict(rm), indent=4)\n"
   ]
  },
  {
   "cell_type": "markdown",
   "id": "8f5b26c8-89f2-469c-88e5-d4a8b7a039b5",
   "metadata": {},
   "source": [
    "# Serviço do Modelo "
   ]
  },
  {
   "cell_type": "code",
   "execution_count": 10,
   "id": "08d2b8a9-da4c-448f-92dc-6d50b011acad",
   "metadata": {},
   "outputs": [],
   "source": [
    "# import os\n",
    "# os.environ['MLFLOW_TRACKING_URI'] = 'sqlite:///mlruns.db'\n",
    "export MLFLOW_TRACKING_URI=sqlite:///mlruns.db\n",
    "mlflow models serve -m \"models:/modelo_vinho_tinto@staging\" --no-conda -p 5001"
   ]
  },
  {
   "cell_type": "markdown",
   "id": "b4b06011-d200-4ab9-861e-8648c606b2c6",
   "metadata": {},
   "source": [
    "# Operação Sistema de Recomendação de Vinhos "
   ]
  },
  {
   "cell_type": "code",
   "execution_count": 11,
   "id": "218c2dd1-8ab9-44e9-8fbb-8e203190071d",
   "metadata": {},
   "outputs": [
    {
     "data": {
      "text/html": [
       "<div>\n",
       "<style scoped>\n",
       "    .dataframe tbody tr th:only-of-type {\n",
       "        vertical-align: middle;\n",
       "    }\n",
       "\n",
       "    .dataframe tbody tr th {\n",
       "        vertical-align: top;\n",
       "    }\n",
       "\n",
       "    .dataframe thead th {\n",
       "        text-align: right;\n",
       "    }\n",
       "</style>\n",
       "<table border=\"1\" class=\"dataframe\">\n",
       "  <thead>\n",
       "    <tr style=\"text-align: right;\">\n",
       "      <th></th>\n",
       "      <th>alcohol</th>\n",
       "      <th>volatile acidity</th>\n",
       "      <th>free sulfur dioxide</th>\n",
       "      <th>residual sugar</th>\n",
       "      <th>target</th>\n",
       "      <th>operation_label</th>\n",
       "    </tr>\n",
       "  </thead>\n",
       "  <tbody>\n",
       "    <tr>\n",
       "      <th>948</th>\n",
       "      <td>13.600000</td>\n",
       "      <td>0.40</td>\n",
       "      <td>29.0</td>\n",
       "      <td>4.3</td>\n",
       "      <td>1</td>\n",
       "      <td>1</td>\n",
       "    </tr>\n",
       "    <tr>\n",
       "      <th>1251</th>\n",
       "      <td>13.566667</td>\n",
       "      <td>0.47</td>\n",
       "      <td>16.0</td>\n",
       "      <td>2.2</td>\n",
       "      <td>1</td>\n",
       "      <td>1</td>\n",
       "    </tr>\n",
       "    <tr>\n",
       "      <th>958</th>\n",
       "      <td>13.500000</td>\n",
       "      <td>0.29</td>\n",
       "      <td>3.0</td>\n",
       "      <td>1.7</td>\n",
       "      <td>1</td>\n",
       "      <td>1</td>\n",
       "    </tr>\n",
       "    <tr>\n",
       "      <th>431</th>\n",
       "      <td>13.400000</td>\n",
       "      <td>0.40</td>\n",
       "      <td>13.0</td>\n",
       "      <td>2.6</td>\n",
       "      <td>1</td>\n",
       "      <td>1</td>\n",
       "    </tr>\n",
       "    <tr>\n",
       "      <th>950</th>\n",
       "      <td>13.300000</td>\n",
       "      <td>0.39</td>\n",
       "      <td>14.0</td>\n",
       "      <td>2.1</td>\n",
       "      <td>1</td>\n",
       "      <td>1</td>\n",
       "    </tr>\n",
       "  </tbody>\n",
       "</table>\n",
       "</div>"
      ],
      "text/plain": [
       "        alcohol  volatile acidity  free sulfur dioxide  residual sugar  \\\n",
       "948   13.600000              0.40                 29.0             4.3   \n",
       "1251  13.566667              0.47                 16.0             2.2   \n",
       "958   13.500000              0.29                  3.0             1.7   \n",
       "431   13.400000              0.40                 13.0             2.6   \n",
       "950   13.300000              0.39                 14.0             2.1   \n",
       "\n",
       "      target  operation_label  \n",
       "948        1                1  \n",
       "1251       1                1  \n",
       "958        1                1  \n",
       "431        1                1  \n",
       "950        1                1  "
      ]
     },
     "execution_count": 11,
     "metadata": {},
     "output_type": "execute_result"
    }
   ],
   "source": [
    "import requests\n",
    "import json\n",
    "\n",
    "host = 'localhost'\n",
    "port = '5001'\n",
    "url = f'http://{host}:{port}/invocations'\n",
    "headers = {'Content-Type': 'application/json',}\n",
    "\n",
    "inference_request = {\n",
    "    \"dataframe_split\": json.loads(data_operation.drop(wine_target_col,axis=1).to_json(orient='split'))\n",
    "}\n",
    "r = requests.post(url=url, headers=headers, json=inference_request)\n",
    "\n",
    "data_operation.loc[:, 'operation_label'] = pd.read_json(r.text).values[:,0]\n",
    "\n",
    "data_operation.to_parquet('modelo_vinho_operacao.parquet')\n",
    "data_operation[data_operation.operation_label == 1].sort_values('alcohol', ascending=False).head(5)"
   ]
  },
  {
   "cell_type": "markdown",
   "id": "48676dea-7b89-4f4d-b858-18e2114cc58d",
   "metadata": {},
   "source": [
    "# Revalidacao de Amostras para Monitoramento"
   ]
  },
  {
   "cell_type": "code",
   "execution_count": 12,
   "id": "d0dc93af-1554-4cb3-b1f8-90a8809c71bb",
   "metadata": {},
   "outputs": [
    {
     "name": "stdout",
     "output_type": "stream",
     "text": [
      "== DADOS DE CONTROLE ==\n",
      "              precision    recall  f1-score   support\n",
      "\n",
      "           0       0.70      0.76      0.73       130\n",
      "           1       0.71      0.64      0.68       120\n",
      "\n",
      "    accuracy                           0.70       250\n",
      "   macro avg       0.71      0.70      0.70       250\n",
      "weighted avg       0.70      0.70      0.70       250\n",
      "\n"
     ]
    }
   ],
   "source": [
    "# COLOCAR RUN REVALIDACAO\n",
    "# PARAMETROS: min_samples_control\n",
    "# METRICS: matriz de confusao\n",
    "# ARTIFACTS:\n",
    "\n",
    "# Utilizacao da amostra de controle, que teria sido reavaliada por especialistas\n",
    "min_samples_control = 250\n",
    "\n",
    "with mlflow.start_run(experiment_id=experiment_id, run_name = 'RevalidacaoOperacao'):\n",
    "\n",
    "    data_operation = pd.read_parquet('modelo_vinho_operacao.parquet')\n",
    "\n",
    "    data_control = data_operation.sample(min_samples_control, random_state=SEED)\n",
    "    data_control.to_parquet('modelo_vinho_controle.parquet')\n",
    "\n",
    "    print('== DADOS DE CONTROLE ==')\n",
    "    print(metrics.classification_report(data_control[wine_target_col], data_control['operation_label']))\n",
    "    \n",
    "    # LOG DE PARAMETROS DO MODELO\n",
    "    mlflow.log_param(\"min_samples_control\", min_samples_control)\n",
    "\n",
    "    # LOG DE METRICAS GLOBAIS\n",
    "    cm = metrics.confusion_matrix(data_control[wine_target_col], data_control['operation_label'])\n",
    "    specificity = cm[0,0] / cm.sum(axis=1)[0]\n",
    "    sensibility = cm[1,1] / cm.sum(axis=1)[1]\n",
    "    precision   = cm[1,1] / cm.sum(axis=0)[1]\n",
    "    mlflow.log_metric(\"Especificidade\", specificity)\n",
    "    mlflow.log_metric(\"Sensibilidade\", sensibility)\n",
    "    mlflow.log_metric(\"Precisao\", precision)\n",
    "\n",
    "mlflow.end_run()"
   ]
  },
  {
   "cell_type": "markdown",
   "id": "d85ed1a9-5d88-4cad-9e2c-38194f280eea",
   "metadata": {},
   "source": [
    "## Alarme de Desvio "
   ]
  },
  {
   "cell_type": "code",
   "execution_count": 13,
   "id": "dd737c18-c66a-4d8f-8e50-e3a29beb0c4e",
   "metadata": {},
   "outputs": [],
   "source": [
    "# reset matplotlib\n",
    "\n",
    "mpl.rcParams.update(inline_rc)\n",
    "font = {'size'   : 14}\n",
    "mpl.rc('font', **font)\n",
    "lines = {'linewidth' : 3}\n",
    "mpl.rc('lines', **lines)\n",
    "\n",
    "def data_drift_alarm(var_name, dev_data, data_test, data_control):\n",
    "    plt.figure(figsize=(6,4))\n",
    "    sn.kdeplot(dev_data[var_name], label='Desenvolvimento')\n",
    "    sn.kdeplot(data_test[var_name], label='Teste')\n",
    "    sn.kdeplot(data_control[var_name], label='Monitoramento')\n",
    "    plt.grid()\n",
    "    plt.legend(loc='best')\n",
    "    plt.title(f'Distribuição Variável {var_name}')\n",
    "    plt.ylabel('Densidade')\n",
    "    plt.xlabel(f'Unidade de {var_name}')\n",
    "    plt.tight_layout()"
   ]
  },
  {
   "cell_type": "markdown",
   "id": "0c1cda3c-e1f0-43b5-9b15-8d12bee230c0",
   "metadata": {},
   "source": [
    "## Alarme de Retreinamento"
   ]
  },
  {
   "cell_type": "code",
   "execution_count": 14,
   "id": "62d03b46-de95-4d1d-aee9-b4792891f8da",
   "metadata": {},
   "outputs": [],
   "source": [
    "def alarm(data_monitoring, testset, min_eff_alarm):\n",
    "    cm = metrics.confusion_matrix(data_monitoring[wine_target_col], data_monitoring['operation_label'])\n",
    "    specificity_m = cm[0,0] / cm.sum(axis=1)[0]\n",
    "    sensibility_m = cm[1,1] / cm.sum(axis=1)[1]\n",
    "    precision_m   = cm[1,1] / cm.sum(axis=0)[1]\n",
    "\n",
    "    cm = metrics.confusion_matrix(testset[wine_target_col], testset['prediction_label'])\n",
    "    specificity_t = cm[0,0] / cm.sum(axis=1)[0]\n",
    "    sensibility_t = cm[1,1] / cm.sum(axis=1)[1]\n",
    "    precision_t   = cm[1,1] / cm.sum(axis=0)[1]\n",
    "\n",
    "    retrain = False\n",
    "    for name, metric_m, metric_t in zip(['especificidade', 'sensibilidade', 'precisao'],\n",
    "                                        [specificity_m, sensibility_m, precision_m],\n",
    "                                        [specificity_t, sensibility_t, precision_t]):\n",
    "        \n",
    "        print(f'\\t=> {name} de teste {metric_t} e de controle {metric_m}')\n",
    "        if (metric_t-metric_m)/metric_t > min_eff_alarm:\n",
    "            print(f'\\t=> MODELO OPERANDO FORA DO ESPERADO')\n",
    "            retrain = True\n",
    "        else:\n",
    "            print(f'\\t=> MODELO OPERANDO DENTRO DO ESPERADO')\n",
    "           \n",
    "        \n",
    "    return (retrain, [specificity_m, sensibility_m, precision_m],\n",
    "                                        [specificity_t, sensibility_t, precision_t] ) "
   ]
  },
  {
   "cell_type": "markdown",
   "id": "e2d7aa0b-06a0-4550-8795-0bb73c6af969",
   "metadata": {},
   "source": [
    "### Monitoramento Base Operacao "
   ]
  },
  {
   "cell_type": "code",
   "execution_count": 15,
   "id": "f63927f2-1db8-4f9f-add4-7e9e50817295",
   "metadata": {},
   "outputs": [
    {
     "name": "stdout",
     "output_type": "stream",
     "text": [
      "== ALARME DE RETREINAMENTO - BASE CONTROLE ==\n",
      "\t=> especificidade de teste 0.847682119205298 e de controle 0.7615384615384615\n",
      "\t=> MODELO OPERANDO FORA DO ESPERADO\n",
      "\t=> sensibilidade de teste 0.7727272727272727 e de controle 0.6416666666666667\n",
      "\t=> MODELO OPERANDO FORA DO ESPERADO\n",
      "\t=> precisao de teste 0.8553459119496856 e de controle 0.7129629629629629\n",
      "\t=> MODELO OPERANDO FORA DO ESPERADO\n",
      "==> RETREINAMENTO NECESSARIO\n"
     ]
    }
   ],
   "source": [
    "# COLOCAR RUN MONITORAMENTO OPERACAO\n",
    "# PARAMETROS: min_eff_alarm\n",
    "# METRICS: metricas avaliadas e de referencia\n",
    "# ARTIFACTS:\n",
    "\n",
    "print('== ALARME DE RETREINAMENTO - BASE CONTROLE ==')\n",
    "# 10% de desvio aceitavel na metrica. Deve ser estimado pelo conjunto de validacao cruzada. \n",
    "min_eff_alarm = 0.1 \n",
    "\n",
    "with mlflow.start_run(experiment_id=experiment_id, run_name = 'MonitoramentoOperacao'):\n",
    "    data_control = pd.read_parquet('modelo_vinho_controle.parquet')\n",
    "    \n",
    "    (retrain, [specificity_m, sensibility_m, precision_m],\n",
    "              [specificity_t, sensibility_t, precision_t] ) = alarm(data_control, pred_holdout, min_eff_alarm)\n",
    "    if retrain:\n",
    "        print('==> RETREINAMENTO NECESSARIO')\n",
    "    else:\n",
    "        print('==> RETREINAMENTO NAO NECESSARIO')\n",
    "    # LOG DE PARAMETROS DO MODELO\n",
    "    mlflow.log_param(\"min_eff_alarm\", min_eff_alarm)\n",
    "\n",
    "    # LOG DE METRICAS GLOBAIS\n",
    "    mlflow.log_metric(\"Alarme Retreino\", float(retrain))\n",
    "    mlflow.log_metric(\"Especificidade Controle\", specificity_m)\n",
    "    mlflow.log_metric(\"Sensibilidade Controle\", sensibility_m)\n",
    "    mlflow.log_metric(\"Precisao Controle\", precision_m)\n",
    "    mlflow.log_metric(\"Especificidade Teste\", specificity_t)\n",
    "    mlflow.log_metric(\"Sensibilidade Teste\", sensibility_t)\n",
    "    mlflow.log_metric(\"Precisao Teste\", precision_t)\n",
    "    \n",
    "    # LOG ARTEFATO\n",
    "    var_name = 'volatile acidity' # 'alcohol'\n",
    "    data_drift_alarm(var_name, data_wine, pred_holdout, data_control)\n",
    "    plot_path = f'monitor_datadrift_{var_name}.png'\n",
    "    plt.savefig(plot_path)\n",
    "    mlflow.log_artifact(plot_path)\n",
    "    \n",
    "\n",
    "mlflow.end_run()  "
   ]
  },
  {
   "cell_type": "markdown",
   "id": "3b64b71b-a0a2-4338-b0db-1cda9c3bc312",
   "metadata": {},
   "source": [
    "# Operação Aplicação Python "
   ]
  },
  {
   "cell_type": "markdown",
   "id": "0e330309-46c1-4c19-99e5-b6e3100433ce",
   "metadata": {},
   "source": [
    "### Monitoramento Base de Novidade"
   ]
  },
  {
   "cell_type": "code",
   "execution_count": 16,
   "id": "78b9be91-b48a-410c-94a9-bb2f792e436b",
   "metadata": {},
   "outputs": [
    {
     "name": "stdout",
     "output_type": "stream",
     "text": [
      "== ALARME DE RETREINAMENTO - BASE NOVIDADE ==\n",
      "\t=> especificidade de teste 0.847682119205298 e de controle 0.5689910979228486\n",
      "\t=> MODELO OPERANDO FORA DO ESPERADO\n",
      "\t=> sensibilidade de teste 0.7727272727272727 e de controle 0.7558362035973977\n",
      "\t=> MODELO OPERANDO DENTRO DO ESPERADO\n",
      "\t=> precisao de teste 0.8553459119496856 e de controle 0.7726917057902973\n",
      "\t=> MODELO OPERANDO DENTRO DO ESPERADO\n",
      "==> RETREINAMENTO NECESSARIO\n"
     ]
    }
   ],
   "source": [
    "# COLOCAR RUN MONITORAMENTO NOVIDADE\n",
    "# PARAMETROS: min_eff_alarm\n",
    "# METRICS: metricas avaliadas e de referencia\n",
    "# ARTIFACTS:\n",
    "\n",
    "print('== ALARME DE RETREINAMENTO - BASE NOVIDADE ==')\n",
    "# 10% de desvio aceitavel na metrica. Deve ser estimado pelo conjunto de validacao cruzada. \n",
    "min_eff_alarm = 0.1 \n",
    "\n",
    "with mlflow.start_run(experiment_id=experiment_id, run_name = 'MonitoramentoNovidade'):\n",
    "\n",
    "    model_uri = f\"models:/modelo_vinho_tinto@staging\"\n",
    "    loaded_model = mlflow.sklearn.load_model(model_uri)\n",
    "    data_novelty = pd.read_parquet('modelo_vinho_novidade.parquet')\n",
    "    data_novelty.loc[:, 'operation_label'] = loaded_model.predict(data_novelty.drop(wine_target_col,axis=1))\n",
    "    \n",
    "    (retrain, [specificity_m, sensibility_m, precision_m],\n",
    "              [specificity_t, sensibility_t, precision_t] ) = alarm(data_novelty, pred_holdout, min_eff_alarm)\n",
    "    if retrain:\n",
    "        print('==> RETREINAMENTO NECESSARIO')\n",
    "    else:\n",
    "        print('==> RETREINAMENTO NAO NECESSARIO')\n",
    "    # LOG DE PARAMETROS DO MODELO\n",
    "    mlflow.log_param(\"min_eff_alarm\", min_eff_alarm)\n",
    "\n",
    "    # LOG DE METRICAS GLOBAIS\n",
    "    mlflow.log_metric(\"Alarme Retreino\", float(retrain))\n",
    "    mlflow.log_metric(\"Especificidade Controle\", specificity_m)\n",
    "    mlflow.log_metric(\"Sensibilidade Controle\", sensibility_m)\n",
    "    mlflow.log_metric(\"Precisao Controle\", precision_m)\n",
    "    mlflow.log_metric(\"Especificidade Teste\", specificity_t)\n",
    "    mlflow.log_metric(\"Sensibilidade Teste\", sensibility_t)\n",
    "    mlflow.log_metric(\"Precisao Teste\", precision_t)\n",
    "    # LOG ARTEFATO\n",
    "    var_name = 'volatile acidity' # 'alcohol'\n",
    "    data_drift_alarm(var_name, data_wine, pred_holdout, data_novelty)\n",
    "    plot_path = f'novidade_datadrift_{var_name}.png'\n",
    "    plt.savefig(plot_path)\n",
    "    mlflow.log_artifact(plot_path)\n",
    "\n",
    "    # LOG ARTEFATO\n",
    "    var_name = 'alcohol'\n",
    "    data_drift_alarm(var_name, data_wine, pred_holdout, data_novelty)\n",
    "    plot_path = f'novidade_datadrift_{var_name}.png'\n",
    "    plt.savefig(plot_path)\n",
    "    mlflow.log_artifact(plot_path)\n",
    "\n",
    "mlflow.end_run()  "
   ]
  },
  {
   "cell_type": "code",
   "execution_count": null,
   "id": "58aca26b-9d24-4cda-afc7-98a4e79733c9",
   "metadata": {},
   "outputs": [],
   "source": []
  }
 ],
 "metadata": {
  "kernelspec": {
   "display_name": "Python 3 (ipykernel)",
   "language": "python",
   "name": "python3"
  },
  "language_info": {
   "codemirror_mode": {
    "name": "ipython",
    "version": 3
   },
   "file_extension": ".py",
   "mimetype": "text/x-python",
   "name": "python",
   "nbconvert_exporter": "python",
   "pygments_lexer": "ipython3",
   "version": "3.8.18"
  }
 },
 "nbformat": 4,
 "nbformat_minor": 5
}
