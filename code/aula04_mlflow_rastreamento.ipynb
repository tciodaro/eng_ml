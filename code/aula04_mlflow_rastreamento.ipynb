{
 "cells": [
  {
   "cell_type": "code",
   "execution_count": 1,
   "id": "68084f4f-1a6b-41d2-9b9f-e5a4b1f599e7",
   "metadata": {},
   "outputs": [],
   "source": [
    "import os\n",
    "import warnings\n",
    "import sys\n",
    "\n",
    "import pandas as pd\n",
    "import matplotlib.pyplot as plt\n",
    "import numpy as np\n",
    "from sklearn.model_selection import train_test_split\n",
    "from sklearn import tree, preprocessing, metrics, model_selection, linear_model\n",
    "from sklearn import model_selection\n",
    "from urllib.parse import urlparse\n",
    "import mlflow\n",
    "import mlflow.sklearn\n",
    "\n",
    "import logging\n",
    "\n",
    "logging.basicConfig(level=logging.WARN)\n",
    "logger = logging.getLogger(__name__)\n"
   ]
  },
  {
   "cell_type": "code",
   "execution_count": 2,
   "id": "03ca1c5f-4e87-4791-b9a5-31c1a53878a9",
   "metadata": {},
   "outputs": [],
   "source": [
    "\n",
    "def eval_metrics(actual, pred):\n",
    "    return (metrics.precision_score(actual, pred), \n",
    "            metrics.recall_score(actual, pred),\n",
    "            metrics.f1_score(actual, pred))\n",
    "\n",
    "def plot_learning_curve(model, model_name, scoring, train_sizes):\n",
    "    fignum = plt.figure(figsize=(6,4))\n",
    "    ax = plt.gca()\n",
    "        \n",
    "    ax.set_title('Curva de Aprendizado (%s)'%model_name)\n",
    "    ax.set_xlabel(\"Exemplos do Treino\")\n",
    "    ax.set_ylabel(\"Score (\" + scoring + \")\")\n",
    "\n",
    "    cvfold = model_selection.StratifiedKFold(n_splits = 10, random_state = 0, shuffle=True)\n",
    "    train_sizes, train_scores, test_scores = model_selection.learning_curve(model,\n",
    "                                                                            X = xtrain,\n",
    "                                                                            y = ytrain,\n",
    "                                                                            cv=cvfold,\n",
    "                                                                            n_jobs=-1,\n",
    "                                                                            train_sizes=train_sizes,\n",
    "                                                                            scoring=scoring)\n",
    "    train_scores_mean = np.mean(train_scores, axis=1)\n",
    "    train_scores_std = np.std(train_scores, axis=1)\n",
    "    test_scores_mean = np.mean(test_scores, axis=1)\n",
    "    test_scores_std = np.std(test_scores, axis=1)\n",
    "    \n",
    "    # Plot learning curve\n",
    "    ax.grid()\n",
    "    ax.plot(train_sizes, train_scores_mean, 'o-', color=\"darkorange\",\n",
    "                 label=\"Treino\")\n",
    "    ax.plot(train_sizes, test_scores_mean, 'o-', color=\"navy\",\n",
    "                 label=\"Validação-cruzada\")\n",
    "    ax.fill_between(train_sizes, train_scores_mean - train_scores_std,\n",
    "                         train_scores_mean + train_scores_std, alpha=0.1,\n",
    "                         color=\"darkorange\")\n",
    "    ax.fill_between(train_sizes, test_scores_mean - test_scores_std,\n",
    "                         test_scores_mean + test_scores_std, alpha=0.1,\n",
    "                         color=\"navy\")\n",
    "    ax.legend(loc=\"best\")\n",
    "#     plt.show()\n",
    "    return fignum"
   ]
  },
  {
   "cell_type": "markdown",
   "id": "d4a08c9b-1dbc-4496-bc64-2434a7712faf",
   "metadata": {},
   "source": [
    "# Leitura dos Dados de Classificação de Vinhos "
   ]
  },
  {
   "cell_type": "code",
   "execution_count": 3,
   "id": "0e58e6f7-f8bb-498a-81f4-dc8175053cbd",
   "metadata": {},
   "outputs": [
    {
     "name": "stdout",
     "output_type": "stream",
     "text": [
      "(5320, 13)\n"
     ]
    },
    {
     "data": {
      "text/html": [
       "<div>\n",
       "<style scoped>\n",
       "    .dataframe tbody tr th:only-of-type {\n",
       "        vertical-align: middle;\n",
       "    }\n",
       "\n",
       "    .dataframe tbody tr th {\n",
       "        vertical-align: top;\n",
       "    }\n",
       "\n",
       "    .dataframe thead th {\n",
       "        text-align: right;\n",
       "    }\n",
       "</style>\n",
       "<table border=\"1\" class=\"dataframe\">\n",
       "  <thead>\n",
       "    <tr style=\"text-align: right;\">\n",
       "      <th></th>\n",
       "      <th>fixed acidity</th>\n",
       "      <th>volatile acidity</th>\n",
       "      <th>citric acid</th>\n",
       "      <th>residual sugar</th>\n",
       "      <th>chlorides</th>\n",
       "      <th>free sulfur dioxide</th>\n",
       "      <th>total sulfur dioxide</th>\n",
       "      <th>density</th>\n",
       "      <th>pH</th>\n",
       "      <th>sulphates</th>\n",
       "      <th>alcohol</th>\n",
       "      <th>target</th>\n",
       "      <th>type</th>\n",
       "    </tr>\n",
       "  </thead>\n",
       "  <tbody>\n",
       "    <tr>\n",
       "      <th>0</th>\n",
       "      <td>7.4</td>\n",
       "      <td>0.70</td>\n",
       "      <td>0.00</td>\n",
       "      <td>1.9</td>\n",
       "      <td>0.076</td>\n",
       "      <td>11.0</td>\n",
       "      <td>34.0</td>\n",
       "      <td>0.9978</td>\n",
       "      <td>3.51</td>\n",
       "      <td>0.56</td>\n",
       "      <td>9.4</td>\n",
       "      <td>0</td>\n",
       "      <td>red</td>\n",
       "    </tr>\n",
       "    <tr>\n",
       "      <th>1</th>\n",
       "      <td>7.8</td>\n",
       "      <td>0.88</td>\n",
       "      <td>0.00</td>\n",
       "      <td>2.6</td>\n",
       "      <td>0.098</td>\n",
       "      <td>25.0</td>\n",
       "      <td>67.0</td>\n",
       "      <td>0.9968</td>\n",
       "      <td>3.20</td>\n",
       "      <td>0.68</td>\n",
       "      <td>9.8</td>\n",
       "      <td>0</td>\n",
       "      <td>red</td>\n",
       "    </tr>\n",
       "    <tr>\n",
       "      <th>2</th>\n",
       "      <td>7.8</td>\n",
       "      <td>0.76</td>\n",
       "      <td>0.04</td>\n",
       "      <td>2.3</td>\n",
       "      <td>0.092</td>\n",
       "      <td>15.0</td>\n",
       "      <td>54.0</td>\n",
       "      <td>0.9970</td>\n",
       "      <td>3.26</td>\n",
       "      <td>0.65</td>\n",
       "      <td>9.8</td>\n",
       "      <td>0</td>\n",
       "      <td>red</td>\n",
       "    </tr>\n",
       "    <tr>\n",
       "      <th>3</th>\n",
       "      <td>11.2</td>\n",
       "      <td>0.28</td>\n",
       "      <td>0.56</td>\n",
       "      <td>1.9</td>\n",
       "      <td>0.075</td>\n",
       "      <td>17.0</td>\n",
       "      <td>60.0</td>\n",
       "      <td>0.9980</td>\n",
       "      <td>3.16</td>\n",
       "      <td>0.58</td>\n",
       "      <td>9.8</td>\n",
       "      <td>1</td>\n",
       "      <td>red</td>\n",
       "    </tr>\n",
       "    <tr>\n",
       "      <th>4</th>\n",
       "      <td>7.4</td>\n",
       "      <td>0.66</td>\n",
       "      <td>0.00</td>\n",
       "      <td>1.8</td>\n",
       "      <td>0.075</td>\n",
       "      <td>13.0</td>\n",
       "      <td>40.0</td>\n",
       "      <td>0.9978</td>\n",
       "      <td>3.51</td>\n",
       "      <td>0.56</td>\n",
       "      <td>9.4</td>\n",
       "      <td>0</td>\n",
       "      <td>red</td>\n",
       "    </tr>\n",
       "  </tbody>\n",
       "</table>\n",
       "</div>"
      ],
      "text/plain": [
       "   fixed acidity  volatile acidity  citric acid  residual sugar  chlorides  \\\n",
       "0            7.4              0.70         0.00             1.9      0.076   \n",
       "1            7.8              0.88         0.00             2.6      0.098   \n",
       "2            7.8              0.76         0.04             2.3      0.092   \n",
       "3           11.2              0.28         0.56             1.9      0.075   \n",
       "4            7.4              0.66         0.00             1.8      0.075   \n",
       "\n",
       "   free sulfur dioxide  total sulfur dioxide  density    pH  sulphates  \\\n",
       "0                 11.0                  34.0   0.9978  3.51       0.56   \n",
       "1                 25.0                  67.0   0.9968  3.20       0.68   \n",
       "2                 15.0                  54.0   0.9970  3.26       0.65   \n",
       "3                 17.0                  60.0   0.9980  3.16       0.58   \n",
       "4                 13.0                  40.0   0.9978  3.51       0.56   \n",
       "\n",
       "   alcohol  target type  \n",
       "0      9.4       0  red  \n",
       "1      9.8       0  red  \n",
       "2      9.8       0  red  \n",
       "3      9.8       1  red  \n",
       "4      9.4       0  red  "
      ]
     },
     "execution_count": 3,
     "metadata": {},
     "output_type": "execute_result"
    }
   ],
   "source": [
    "df_wine = pd.read_csv('../data/dataset_vinhos.csv',sep=';')\n",
    "wine_target_col = 'target'\n",
    "wine_label_map = df_wine[['target', 'target_label']].drop_duplicates()\n",
    "drop_cols = ['target_label']\n",
    "df_wine.drop(drop_cols, axis=1, inplace=True)\n",
    "print(df_wine.shape)\n",
    "df_wine.head()"
   ]
  },
  {
   "cell_type": "markdown",
   "id": "662bda2a-6f37-4ff0-b1fd-d0d8ffc926ca",
   "metadata": {},
   "source": [
    "## Codificação "
   ]
  },
  {
   "cell_type": "code",
   "execution_count": 4,
   "id": "d5792166-4bce-4fae-8049-4de40d725c93",
   "metadata": {},
   "outputs": [
    {
     "name": "stderr",
     "output_type": "stream",
     "text": [
      "/home/ciodaro/anaconda3/envs/infnet/lib/python3.8/site-packages/sklearn/preprocessing/_encoders.py:868: FutureWarning: `sparse` was renamed to `sparse_output` in version 1.2 and will be removed in 1.4. `sparse_output` is ignored unless you leave `sparse` to its default value.\n",
      "  warnings.warn(\n"
     ]
    },
    {
     "data": {
      "text/html": [
       "<div>\n",
       "<style scoped>\n",
       "    .dataframe tbody tr th:only-of-type {\n",
       "        vertical-align: middle;\n",
       "    }\n",
       "\n",
       "    .dataframe tbody tr th {\n",
       "        vertical-align: top;\n",
       "    }\n",
       "\n",
       "    .dataframe thead th {\n",
       "        text-align: right;\n",
       "    }\n",
       "</style>\n",
       "<table border=\"1\" class=\"dataframe\">\n",
       "  <thead>\n",
       "    <tr style=\"text-align: right;\">\n",
       "      <th></th>\n",
       "      <th>fixed acidity</th>\n",
       "      <th>volatile acidity</th>\n",
       "      <th>citric acid</th>\n",
       "      <th>residual sugar</th>\n",
       "      <th>chlorides</th>\n",
       "      <th>free sulfur dioxide</th>\n",
       "      <th>total sulfur dioxide</th>\n",
       "      <th>density</th>\n",
       "      <th>pH</th>\n",
       "      <th>sulphates</th>\n",
       "      <th>alcohol</th>\n",
       "      <th>target</th>\n",
       "      <th>type_red</th>\n",
       "    </tr>\n",
       "  </thead>\n",
       "  <tbody>\n",
       "    <tr>\n",
       "      <th>0</th>\n",
       "      <td>7.4</td>\n",
       "      <td>0.70</td>\n",
       "      <td>0.00</td>\n",
       "      <td>1.9</td>\n",
       "      <td>0.076</td>\n",
       "      <td>11.0</td>\n",
       "      <td>34.0</td>\n",
       "      <td>0.9978</td>\n",
       "      <td>3.51</td>\n",
       "      <td>0.56</td>\n",
       "      <td>9.4</td>\n",
       "      <td>0</td>\n",
       "      <td>1.0</td>\n",
       "    </tr>\n",
       "    <tr>\n",
       "      <th>1</th>\n",
       "      <td>7.8</td>\n",
       "      <td>0.88</td>\n",
       "      <td>0.00</td>\n",
       "      <td>2.6</td>\n",
       "      <td>0.098</td>\n",
       "      <td>25.0</td>\n",
       "      <td>67.0</td>\n",
       "      <td>0.9968</td>\n",
       "      <td>3.20</td>\n",
       "      <td>0.68</td>\n",
       "      <td>9.8</td>\n",
       "      <td>0</td>\n",
       "      <td>1.0</td>\n",
       "    </tr>\n",
       "    <tr>\n",
       "      <th>2</th>\n",
       "      <td>7.8</td>\n",
       "      <td>0.76</td>\n",
       "      <td>0.04</td>\n",
       "      <td>2.3</td>\n",
       "      <td>0.092</td>\n",
       "      <td>15.0</td>\n",
       "      <td>54.0</td>\n",
       "      <td>0.9970</td>\n",
       "      <td>3.26</td>\n",
       "      <td>0.65</td>\n",
       "      <td>9.8</td>\n",
       "      <td>0</td>\n",
       "      <td>1.0</td>\n",
       "    </tr>\n",
       "    <tr>\n",
       "      <th>3</th>\n",
       "      <td>11.2</td>\n",
       "      <td>0.28</td>\n",
       "      <td>0.56</td>\n",
       "      <td>1.9</td>\n",
       "      <td>0.075</td>\n",
       "      <td>17.0</td>\n",
       "      <td>60.0</td>\n",
       "      <td>0.9980</td>\n",
       "      <td>3.16</td>\n",
       "      <td>0.58</td>\n",
       "      <td>9.8</td>\n",
       "      <td>1</td>\n",
       "      <td>1.0</td>\n",
       "    </tr>\n",
       "    <tr>\n",
       "      <th>4</th>\n",
       "      <td>7.4</td>\n",
       "      <td>0.66</td>\n",
       "      <td>0.00</td>\n",
       "      <td>1.8</td>\n",
       "      <td>0.075</td>\n",
       "      <td>13.0</td>\n",
       "      <td>40.0</td>\n",
       "      <td>0.9978</td>\n",
       "      <td>3.51</td>\n",
       "      <td>0.56</td>\n",
       "      <td>9.4</td>\n",
       "      <td>0</td>\n",
       "      <td>1.0</td>\n",
       "    </tr>\n",
       "  </tbody>\n",
       "</table>\n",
       "</div>"
      ],
      "text/plain": [
       "   fixed acidity  volatile acidity  citric acid  residual sugar  chlorides  \\\n",
       "0            7.4              0.70         0.00             1.9      0.076   \n",
       "1            7.8              0.88         0.00             2.6      0.098   \n",
       "2            7.8              0.76         0.04             2.3      0.092   \n",
       "3           11.2              0.28         0.56             1.9      0.075   \n",
       "4            7.4              0.66         0.00             1.8      0.075   \n",
       "\n",
       "   free sulfur dioxide  total sulfur dioxide  density    pH  sulphates  \\\n",
       "0                 11.0                  34.0   0.9978  3.51       0.56   \n",
       "1                 25.0                  67.0   0.9968  3.20       0.68   \n",
       "2                 15.0                  54.0   0.9970  3.26       0.65   \n",
       "3                 17.0                  60.0   0.9980  3.16       0.58   \n",
       "4                 13.0                  40.0   0.9978  3.51       0.56   \n",
       "\n",
       "   alcohol  target  type_red  \n",
       "0      9.4       0       1.0  \n",
       "1      9.8       0       1.0  \n",
       "2      9.8       0       1.0  \n",
       "3      9.8       1       1.0  \n",
       "4      9.4       0       1.0  "
      ]
     },
     "execution_count": 4,
     "metadata": {},
     "output_type": "execute_result"
    }
   ],
   "source": [
    "categorical_cols = ['type']\n",
    "encoder_map = {}\n",
    "\n",
    "for cname in categorical_cols:\n",
    "    encoder = preprocessing.OneHotEncoder(sparse=False)\n",
    "    transformed = encoder.fit_transform(df_wine[[cname]])\n",
    "    ohe_df = pd.DataFrame(transformed, columns=[cname+'_'+cat for cat in encoder.categories_[0]])\n",
    "    encoder_map[cname] = encoder\n",
    "    \n",
    "    df_wine = pd.concat([df_wine, ohe_df], axis=1).drop(cname, axis=1)\n",
    "df_wine.drop('type_white', axis=1, inplace=True)\n",
    "df_wine.head()"
   ]
  },
  {
   "cell_type": "markdown",
   "id": "93114919-0483-4ff1-89ba-2c3ac6b6dfce",
   "metadata": {},
   "source": [
    "# Experimento Básico "
   ]
  },
  {
   "cell_type": "code",
   "execution_count": 7,
   "id": "f88da48c-b806-4044-84e4-ff9a56f0ee52",
   "metadata": {},
   "outputs": [],
   "source": [
    "experiment_name = 'MLFlowBasico'\n",
    "\n",
    "experiment = mlflow.get_experiment_by_name(experiment_name)\n",
    "if experiment is None:\n",
    "    experiment_id = mlflow.create_experiment(experiment_name)\n",
    "    experiment = mlflow.get_experiment(experiment_id)\n",
    "experiment_id = experiment.experiment_id\n",
    "\n",
    "from mlflow.tracking import MlflowClient\n",
    "mlflow_client = MlflowClient()\n",
    "\n",
    "# Para usar o sqlite como repositorio\n",
    "mlflow.set_tracking_uri(\"sqlite:///mlruns.db\")"
   ]
  },
  {
   "cell_type": "markdown",
   "id": "b80922f9-7c07-463e-b97f-75f4ac3c2303",
   "metadata": {},
   "source": [
    "## Rodada com Log de Métricas e Parâmetros - Árvore"
   ]
  },
  {
   "cell_type": "code",
   "execution_count": 10,
   "id": "be1c58fe-ffde-4863-885b-a7a5f5523d70",
   "metadata": {},
   "outputs": [
    {
     "data": {
      "text/plain": [
       "398     0\n",
       "4289    1\n",
       "1956    0\n",
       "1254    0\n",
       "547     0\n",
       "       ..\n",
       "2456    1\n",
       "2901    1\n",
       "2629    1\n",
       "2814    1\n",
       "4786    1\n",
       "Name: target, Length: 4256, dtype: int64"
      ]
     },
     "execution_count": 10,
     "metadata": {},
     "output_type": "execute_result"
    }
   ],
   "source": [
    "ytrain"
   ]
  },
  {
   "cell_type": "code",
   "execution_count": 18,
   "id": "b594f15a-b615-4c86-aaf5-c963bca4805c",
   "metadata": {},
   "outputs": [
    {
     "data": {
      "text/plain": [
       "0.721339710806949"
      ]
     },
     "execution_count": 18,
     "metadata": {},
     "output_type": "execute_result"
    }
   ],
   "source": [
    "ts"
   ]
  },
  {
   "cell_type": "code",
   "execution_count": 25,
   "id": "92b998b9-1442-4f28-9e0e-e0ad30043a98",
   "metadata": {},
   "outputs": [
    {
     "name": "stdout",
     "output_type": "stream",
     "text": [
      "Decisn Tree Classifier (criterion=gini, max_depth=5.000000):\n",
      "  precision: 0.7894736842105263\n",
      "  recall: 0.7478005865102639\n",
      "  f1: 0.7680722891566265\n"
     ]
    }
   ],
   "source": [
    "model_name = 'arvore-vinhos'\n",
    "Y = df_wine[wine_target_col]\n",
    "X = df_wine.drop(wine_target_col, axis=1)\n",
    "\n",
    "# Configuracao\n",
    "criterion = 'gini'\n",
    "max_depth = 5\n",
    "\n",
    "# train/test\n",
    "xtrain, xtest, ytrain, ytest = model_selection.train_test_split(X, Y, test_size=0.2)\n",
    "\n",
    "df_train = xtrain.copy()\n",
    "df_test = xtest.copy()\n",
    "df_train['train_set'] = 1\n",
    "df_test['train_set'] = 0\n",
    "df_train[wine_target_col] = ytrain\n",
    "df_test[wine_target_col] = ytest\n",
    "\n",
    "with mlflow.start_run(experiment_id=experiment_id, run_name = 'LogMetricas'):\n",
    "    model_wine = tree.DecisionTreeClassifier(criterion=criterion, max_depth = max_depth)\n",
    "    model_wine.fit(xtrain, ytrain)      \n",
    "    df_train['decision'] = model_wine.predict(xtrain)\n",
    "    df_test['decision']  = model_wine.predict(xtest)\n",
    "    df_train['probability'] = model_wine.predict_proba(xtrain)[:,1]\n",
    "    df_test['probability']  = model_wine.predict_proba(xtest)[:,1]\n",
    "    \n",
    "    (precision, recall, f1) = eval_metrics(df_test[wine_target_col], df_test['decision'])\n",
    "    cm =  metrics.confusion_matrix(df_test[wine_target_col], df_test['decision'])\n",
    "\n",
    "    print(\"Decisn Tree Classifier (criterion=%s, max_depth=%f):\" % (criterion, max_depth))\n",
    "    print(\"  precision: %s\" % precision)\n",
    "    print(\"  recall: %s\" % recall)\n",
    "    print(\"  f1: %s\" % f1)\n",
    "\n",
    "    # LOG DE PARAMETROS DO MODELO\n",
    "    mlflow.log_param(\"criterion\", criterion)\n",
    "    mlflow.log_param(\"max_depth\", max_depth)\n",
    "    \n",
    "    # # LOG DE METRICAS GLOBAIS\n",
    "    mlflow.log_metric(\"precision\", precision)\n",
    "    mlflow.log_metric(\"recall\", recall)\n",
    "    mlflow.log_metric(\"f1\", f1)\n",
    "    mlflow.log_metric(\"Verdadeiro Positivo\",cm[1,1])\n",
    "    mlflow.log_metric(\"Verdadeiro Negativo\",cm[0,0])\n",
    "    mlflow.log_metric(\"Falso Positivo\",cm[0,1])\n",
    "    mlflow.log_metric(\"Falso Negativo\",cm[1,0])"
   ]
  },
  {
   "cell_type": "markdown",
   "id": "8e435e63-718b-4ab0-af03-bb49a044627b",
   "metadata": {},
   "source": [
    "## Rodada com Artefatos - Regressão Logística "
   ]
  },
  {
   "cell_type": "code",
   "execution_count": 26,
   "id": "226bba1c-2f5e-42c7-8127-b3d5c6cab30a",
   "metadata": {},
   "outputs": [
    {
     "name": "stdout",
     "output_type": "stream",
     "text": [
      "Regressao Logistica (C=1.000000, penalty=l2):\n",
      "  precision: 0.7699594046008119\n",
      "  recall: 0.844213649851632\n",
      "  f1: 0.805378627034678\n"
     ]
    },
    {
     "data": {
      "image/png": "[encoded data removed]",
      "text/plain": [
       "<Figure size 600x400 with 1 Axes>"
      ]
     },
     "metadata": {},
     "output_type": "display_data"
    }
   ],
   "source": [
    "model_name = 'regressao_vinhos' # evitar espacos, -, e outros caracteres.\n",
    "Y = df_wine[wine_target_col]\n",
    "X = df_wine.drop(wine_target_col, axis=1)\n",
    "\n",
    "# Configuracoes\n",
    "penalty = 'l2'\n",
    "C       = 1.0\n",
    "solver = 'liblinear'\n",
    "\n",
    "# train/test\n",
    "xtrain, xtest, ytrain, ytest = model_selection.train_test_split(X, Y, test_size=0.2)\n",
    "\n",
    "df_train = xtrain.copy()\n",
    "df_test = xtest.copy()\n",
    "df_train['train_set'] = 1\n",
    "df_test['train_set'] = 0\n",
    "df_train[wine_target_col] = ytrain\n",
    "df_test[wine_target_col] = ytest\n",
    "\n",
    "with mlflow.start_run(experiment_id=experiment_id, run_name = 'LogArtefatos'):\n",
    "    model_wine = linear_model.LogisticRegression(C=C, penalty = penalty, solver=solver)\n",
    "    model_wine.fit(xtrain, ytrain)    \n",
    "    df_train['decision'] = model_wine.predict(xtrain)\n",
    "    df_test['decision']  = model_wine.predict(xtest)\n",
    "    df_train['probability'] = model_wine.predict_proba(xtrain)[:,1]\n",
    "    df_test['probability']  = model_wine.predict_proba(xtest)[:,1]\n",
    "    \n",
    "    (precision, recall, f1) = eval_metrics(df_test[wine_target_col], df_test['decision'])\n",
    "    cm =  metrics.confusion_matrix(df_test[wine_target_col], df_test['decision'])\n",
    "\n",
    "    print(\"Regressao Logistica (C=%f, penalty=%s):\" % (C, penalty))\n",
    "    print(\"  precision: %s\" % precision)\n",
    "    print(\"  recall: %s\" % recall)\n",
    "    print(\"  f1: %s\" % f1)\n",
    "\n",
    "    # LOG DE PARAMETROS DO MODELO\n",
    "    mlflow.log_param(\"C\", C)\n",
    "    mlflow.log_param(\"penalty\", penalty)\n",
    "    \n",
    "    # LOG DE METRICAS GLOBAIS\n",
    "    mlflow.log_metric(\"precision\", precision)\n",
    "    mlflow.log_metric(\"recall\", recall)\n",
    "    mlflow.log_metric(\"f1\", f1)\n",
    "    mlflow.log_metric(\"Verdadeiro Positivo\",cm[1,1])\n",
    "    mlflow.log_metric(\"Verdadeiro Negativo\",cm[0,0])\n",
    "    mlflow.log_metric(\"Falso Positivo\",cm[0,1])\n",
    "    mlflow.log_metric(\"Falso Negativo\",cm[1,0])\n",
    "    \n",
    "    # LOG DE ARTEFATOS - ARQUIVOS COM IMAGENS, TABELAS, PICKLE...\n",
    "    # Plot da curva de aprendizado\n",
    "    train_sizes = np.linspace(0.1, 1, 9)\n",
    "    plot_learning_curve(model_wine, model_name, 'accuracy', train_sizes)\n",
    "    plot_path = f'plot_learning_{model_name}.png'\n",
    "    plt.savefig(plot_path)\n",
    "    mlflow.log_artifact(plot_path)\n",
    "    "
   ]
  },
  {
   "cell_type": "markdown",
   "id": "5b227eff-f0fc-456e-91b8-4893a16e69aa",
   "metadata": {},
   "source": [
    "# Auto - Log do Sklearn "
   ]
  },
  {
   "cell_type": "code",
   "execution_count": 27,
   "id": "e7e53d45-e3cd-46c6-b3b4-8d1cbce90854",
   "metadata": {},
   "outputs": [
    {
     "name": "stderr",
     "output_type": "stream",
     "text": [
      "2024/03/25 18:34:39 WARNING mlflow.utils.autologging_utils: MLflow autologging encountered a warning: \"/home/ciodaro/anaconda3/envs/infnet/lib/python3.8/site-packages/_distutils_hack/__init__.py:33: UserWarning: Setuptools is replacing distutils.\"\n"
     ]
    },
    {
     "name": "stdout",
     "output_type": "stream",
     "text": [
      "Regressao Logistica (C=1.000000, penalty=l2):\n",
      "  precision: 0.7669902912621359\n",
      "  recall: 0.8290854572713643\n",
      "  f1: 0.7968299711815563\n"
     ]
    },
    {
     "data": {
      "image/png": "[encoded data removed]",
      "text/plain": [
       "<Figure size 600x400 with 1 Axes>"
      ]
     },
     "metadata": {},
     "output_type": "display_data"
    }
   ],
   "source": [
    "model_name = 'regressao_vinhos' # evitar espacos, -, e outros caracteres.\n",
    "Y = df_wine[wine_target_col]\n",
    "X = df_wine.drop(wine_target_col, axis=1)\n",
    "\n",
    "# Configuracoes\n",
    "penalty = 'l2'\n",
    "C       = 1.0\n",
    "solver = 'liblinear'\n",
    "\n",
    "# train/test\n",
    "xtrain, xtest, ytrain, ytest = model_selection.train_test_split(X, Y, test_size=0.2)\n",
    "\n",
    "df_train = xtrain.copy()\n",
    "df_test = xtest.copy()\n",
    "df_train['train_set'] = 1\n",
    "df_test['train_set'] = 0\n",
    "df_train[wine_target_col] = ytrain\n",
    "df_test[wine_target_col] = ytest\n",
    "\n",
    "with mlflow.start_run(experiment_id=experiment_id, run_name = 'LogAutomatico') as run:\n",
    "    mlflow.sklearn.autolog() # Precisa ser chamado antes do codigo do treinamento\n",
    "    \n",
    "    # Treinamento\n",
    "    model_wine = linear_model.LogisticRegression(C=C, penalty = penalty, solver=solver)\n",
    "    model_wine.fit(xtrain, ytrain)    \n",
    "    df_train['decision'] = model_wine.predict(xtrain)\n",
    "    df_test['decision']  = model_wine.predict(xtest)\n",
    "    df_train['probability'] = model_wine.predict_proba(xtrain)[:,1]\n",
    "    df_test['probability']  = model_wine.predict_proba(xtest)[:,1]\n",
    "    \n",
    "    (precision, recall, f1) = eval_metrics(df_test[wine_target_col], df_test['decision'])\n",
    "    cm =  metrics.confusion_matrix(df_test[wine_target_col], df_test['decision'])\n",
    "\n",
    "    print(\"Regressao Logistica (C=%f, penalty=%s):\" % (C, penalty))\n",
    "    print(\"  precision: %s\" % precision)\n",
    "    print(\"  recall: %s\" % recall)\n",
    "    print(\"  f1: %s\" % f1)\n",
    "\n",
    "    # LOG DE PARAMETROS DO MODELO\n",
    "    mlflow.log_param(\"C\", C)\n",
    "    mlflow.log_param(\"penalty\", penalty)\n",
    "    \n",
    "    # LOG DE METRICAS GLOBAIS\n",
    "    mlflow.log_metric(\"precision\", precision)\n",
    "    mlflow.log_metric(\"recall\", recall)\n",
    "    mlflow.log_metric(\"f1\", f1)\n",
    "    mlflow.log_metric(\"Verdadeiro Positivo\",cm[1,1])\n",
    "    mlflow.log_metric(\"Verdadeiro Negativo\",cm[0,0])\n",
    "    mlflow.log_metric(\"Falso Positivo\",cm[0,1])\n",
    "    mlflow.log_metric(\"Falso Negativo\",cm[1,0])\n",
    "    \n",
    "    # LOG DE ARTEFATOS - ARQUIVOS COM IMAGENS, TABELAS, PICKLE...\n",
    "    train_sizes = np.linspace(0.1, 1, 9)\n",
    "    plot_learning_curve(model_wine, model_name, 'accuracy', train_sizes)\n",
    "    plot_path = f'plot_learning_{model_name}.png'\n",
    "    plt.savefig(plot_path)\n",
    "    mlflow.log_artifact(plot_path)\n",
    "    \n",
    "    # ADICAO DE TAGS PARA IDENTIFICAR A RODADA\n",
    "    mlflow_client.set_tag(run.info.run_id, \"Rodada\", \"Automacao do log sklearn\")\n",
    "    mlflow_client.set_tag(run.info.run_id, \"Teste\", \"Funcionamento do auto-log\")\n",
    "    mlflow_client.set_tag(run.info.run_id, \"keywords\", \"automacao,sklearn,logging\")\n",
    "    "
   ]
  },
  {
   "cell_type": "markdown",
   "id": "524c3c4f-85f8-4fa4-aa8a-f9e2b65b84b9",
   "metadata": {},
   "source": [
    "## MLFlow e PyCaret"
   ]
  },
  {
   "cell_type": "code",
   "execution_count": 9,
   "id": "f9d44ffe-4bc8-4cf3-8f5d-c0cd2696d836",
   "metadata": {},
   "outputs": [
    {
     "name": "stdout",
     "output_type": "stream",
     "text": [
      "Object `pc.plot_model` not found.\n"
     ]
    }
   ],
   "source": [
    "pc.plot_model?"
   ]
  },
  {
   "cell_type": "code",
   "execution_count": 29,
   "id": "298d9c4e-f9a0-421e-8513-7b6bb7de109e",
   "metadata": {},
   "outputs": [
    {
     "data": {
      "text/html": [
       "<style type=\"text/css\">\n",
       "#T_16ac7_row8_col1 {\n",
       "  background-color: lightgreen;\n",
       "}\n",
       "</style>\n",
       "<table id=\"T_16ac7\">\n",
       "  <thead>\n",
       "    <tr>\n",
       "      <th class=\"blank level0\" >&nbsp;</th>\n",
       "      <th id=\"T_16ac7_level0_col0\" class=\"col_heading level0 col0\" >Description</th>\n",
       "      <th id=\"T_16ac7_level0_col1\" class=\"col_heading level0 col1\" >Value</th>\n",
       "    </tr>\n",
       "  </thead>\n",
       "  <tbody>\n",
       "    <tr>\n",
       "      <th id=\"T_16ac7_level0_row0\" class=\"row_heading level0 row0\" >0</th>\n",
       "      <td id=\"T_16ac7_row0_col0\" class=\"data row0 col0\" >Session id</td>\n",
       "      <td id=\"T_16ac7_row0_col1\" class=\"data row0 col1\" >2189</td>\n",
       "    </tr>\n",
       "    <tr>\n",
       "      <th id=\"T_16ac7_level0_row1\" class=\"row_heading level0 row1\" >1</th>\n",
       "      <td id=\"T_16ac7_row1_col0\" class=\"data row1 col0\" >Target</td>\n",
       "      <td id=\"T_16ac7_row1_col1\" class=\"data row1 col1\" >target</td>\n",
       "    </tr>\n",
       "    <tr>\n",
       "      <th id=\"T_16ac7_level0_row2\" class=\"row_heading level0 row2\" >2</th>\n",
       "      <td id=\"T_16ac7_row2_col0\" class=\"data row2 col0\" >Target type</td>\n",
       "      <td id=\"T_16ac7_row2_col1\" class=\"data row2 col1\" >Binary</td>\n",
       "    </tr>\n",
       "    <tr>\n",
       "      <th id=\"T_16ac7_level0_row3\" class=\"row_heading level0 row3\" >3</th>\n",
       "      <td id=\"T_16ac7_row3_col0\" class=\"data row3 col0\" >Original data shape</td>\n",
       "      <td id=\"T_16ac7_row3_col1\" class=\"data row3 col1\" >(5320, 13)</td>\n",
       "    </tr>\n",
       "    <tr>\n",
       "      <th id=\"T_16ac7_level0_row4\" class=\"row_heading level0 row4\" >4</th>\n",
       "      <td id=\"T_16ac7_row4_col0\" class=\"data row4 col0\" >Transformed data shape</td>\n",
       "      <td id=\"T_16ac7_row4_col1\" class=\"data row4 col1\" >(5320, 13)</td>\n",
       "    </tr>\n",
       "    <tr>\n",
       "      <th id=\"T_16ac7_level0_row5\" class=\"row_heading level0 row5\" >5</th>\n",
       "      <td id=\"T_16ac7_row5_col0\" class=\"data row5 col0\" >Transformed train set shape</td>\n",
       "      <td id=\"T_16ac7_row5_col1\" class=\"data row5 col1\" >(4256, 13)</td>\n",
       "    </tr>\n",
       "    <tr>\n",
       "      <th id=\"T_16ac7_level0_row6\" class=\"row_heading level0 row6\" >6</th>\n",
       "      <td id=\"T_16ac7_row6_col0\" class=\"data row6 col0\" >Transformed test set shape</td>\n",
       "      <td id=\"T_16ac7_row6_col1\" class=\"data row6 col1\" >(1064, 13)</td>\n",
       "    </tr>\n",
       "    <tr>\n",
       "      <th id=\"T_16ac7_level0_row7\" class=\"row_heading level0 row7\" >7</th>\n",
       "      <td id=\"T_16ac7_row7_col0\" class=\"data row7 col0\" >Numeric features</td>\n",
       "      <td id=\"T_16ac7_row7_col1\" class=\"data row7 col1\" >12</td>\n",
       "    </tr>\n",
       "    <tr>\n",
       "      <th id=\"T_16ac7_level0_row8\" class=\"row_heading level0 row8\" >8</th>\n",
       "      <td id=\"T_16ac7_row8_col0\" class=\"data row8 col0\" >Preprocess</td>\n",
       "      <td id=\"T_16ac7_row8_col1\" class=\"data row8 col1\" >True</td>\n",
       "    </tr>\n",
       "    <tr>\n",
       "      <th id=\"T_16ac7_level0_row9\" class=\"row_heading level0 row9\" >9</th>\n",
       "      <td id=\"T_16ac7_row9_col0\" class=\"data row9 col0\" >Imputation type</td>\n",
       "      <td id=\"T_16ac7_row9_col1\" class=\"data row9 col1\" >simple</td>\n",
       "    </tr>\n",
       "    <tr>\n",
       "      <th id=\"T_16ac7_level0_row10\" class=\"row_heading level0 row10\" >10</th>\n",
       "      <td id=\"T_16ac7_row10_col0\" class=\"data row10 col0\" >Numeric imputation</td>\n",
       "      <td id=\"T_16ac7_row10_col1\" class=\"data row10 col1\" >mean</td>\n",
       "    </tr>\n",
       "    <tr>\n",
       "      <th id=\"T_16ac7_level0_row11\" class=\"row_heading level0 row11\" >11</th>\n",
       "      <td id=\"T_16ac7_row11_col0\" class=\"data row11 col0\" >Categorical imputation</td>\n",
       "      <td id=\"T_16ac7_row11_col1\" class=\"data row11 col1\" >mode</td>\n",
       "    </tr>\n",
       "    <tr>\n",
       "      <th id=\"T_16ac7_level0_row12\" class=\"row_heading level0 row12\" >12</th>\n",
       "      <td id=\"T_16ac7_row12_col0\" class=\"data row12 col0\" >Fold Generator</td>\n",
       "      <td id=\"T_16ac7_row12_col1\" class=\"data row12 col1\" >StratifiedKFold</td>\n",
       "    </tr>\n",
       "    <tr>\n",
       "      <th id=\"T_16ac7_level0_row13\" class=\"row_heading level0 row13\" >13</th>\n",
       "      <td id=\"T_16ac7_row13_col0\" class=\"data row13 col0\" >Fold Number</td>\n",
       "      <td id=\"T_16ac7_row13_col1\" class=\"data row13 col1\" >10</td>\n",
       "    </tr>\n",
       "    <tr>\n",
       "      <th id=\"T_16ac7_level0_row14\" class=\"row_heading level0 row14\" >14</th>\n",
       "      <td id=\"T_16ac7_row14_col0\" class=\"data row14 col0\" >CPU Jobs</td>\n",
       "      <td id=\"T_16ac7_row14_col1\" class=\"data row14 col1\" >-1</td>\n",
       "    </tr>\n",
       "    <tr>\n",
       "      <th id=\"T_16ac7_level0_row15\" class=\"row_heading level0 row15\" >15</th>\n",
       "      <td id=\"T_16ac7_row15_col0\" class=\"data row15 col0\" >Use GPU</td>\n",
       "      <td id=\"T_16ac7_row15_col1\" class=\"data row15 col1\" >False</td>\n",
       "    </tr>\n",
       "    <tr>\n",
       "      <th id=\"T_16ac7_level0_row16\" class=\"row_heading level0 row16\" >16</th>\n",
       "      <td id=\"T_16ac7_row16_col0\" class=\"data row16 col0\" >Log Experiment</td>\n",
       "      <td id=\"T_16ac7_row16_col1\" class=\"data row16 col1\" >MlflowLogger</td>\n",
       "    </tr>\n",
       "    <tr>\n",
       "      <th id=\"T_16ac7_level0_row17\" class=\"row_heading level0 row17\" >17</th>\n",
       "      <td id=\"T_16ac7_row17_col0\" class=\"data row17 col0\" >Experiment Name</td>\n",
       "      <td id=\"T_16ac7_row17_col1\" class=\"data row17 col1\" >automl-wine</td>\n",
       "    </tr>\n",
       "    <tr>\n",
       "      <th id=\"T_16ac7_level0_row18\" class=\"row_heading level0 row18\" >18</th>\n",
       "      <td id=\"T_16ac7_row18_col0\" class=\"data row18 col0\" >USI</td>\n",
       "      <td id=\"T_16ac7_row18_col1\" class=\"data row18 col1\" >8be3</td>\n",
       "    </tr>\n",
       "  </tbody>\n",
       "</table>\n"
      ],
      "text/plain": [
       "<pandas.io.formats.style.Styler at 0x7f9bb3301fd0>"
      ]
     },
     "metadata": {},
     "output_type": "display_data"
    },
    {
     "data": {
      "text/html": [],
      "text/plain": [
       "<IPython.core.display.HTML object>"
      ]
     },
     "metadata": {},
     "output_type": "display_data"
    },
    {
     "data": {
      "text/html": [
       "<style type=\"text/css\">\n",
       "#T_83d92 th {\n",
       "  text-align: left;\n",
       "}\n",
       "#T_83d92_row0_col0, #T_83d92_row1_col0, #T_83d92_row1_col1, #T_83d92_row1_col2, #T_83d92_row1_col3, #T_83d92_row1_col4, #T_83d92_row1_col5, #T_83d92_row1_col6, #T_83d92_row1_col7, #T_83d92_row2_col0, #T_83d92_row2_col1, #T_83d92_row2_col2, #T_83d92_row2_col3, #T_83d92_row2_col4, #T_83d92_row2_col5, #T_83d92_row2_col6, #T_83d92_row2_col7 {\n",
       "  text-align: left;\n",
       "}\n",
       "#T_83d92_row0_col1, #T_83d92_row0_col2, #T_83d92_row0_col3, #T_83d92_row0_col4, #T_83d92_row0_col5, #T_83d92_row0_col6, #T_83d92_row0_col7 {\n",
       "  text-align: left;\n",
       "  background-color: yellow;\n",
       "}\n",
       "#T_83d92_row0_col8, #T_83d92_row1_col8 {\n",
       "  text-align: left;\n",
       "  background-color: lightgrey;\n",
       "}\n",
       "#T_83d92_row2_col8 {\n",
       "  text-align: left;\n",
       "  background-color: yellow;\n",
       "  background-color: lightgrey;\n",
       "}\n",
       "</style>\n",
       "<table id=\"T_83d92\">\n",
       "  <thead>\n",
       "    <tr>\n",
       "      <th class=\"blank level0\" >&nbsp;</th>\n",
       "      <th id=\"T_83d92_level0_col0\" class=\"col_heading level0 col0\" >Model</th>\n",
       "      <th id=\"T_83d92_level0_col1\" class=\"col_heading level0 col1\" >Accuracy</th>\n",
       "      <th id=\"T_83d92_level0_col2\" class=\"col_heading level0 col2\" >AUC</th>\n",
       "      <th id=\"T_83d92_level0_col3\" class=\"col_heading level0 col3\" >Recall</th>\n",
       "      <th id=\"T_83d92_level0_col4\" class=\"col_heading level0 col4\" >Prec.</th>\n",
       "      <th id=\"T_83d92_level0_col5\" class=\"col_heading level0 col5\" >F1</th>\n",
       "      <th id=\"T_83d92_level0_col6\" class=\"col_heading level0 col6\" >Kappa</th>\n",
       "      <th id=\"T_83d92_level0_col7\" class=\"col_heading level0 col7\" >MCC</th>\n",
       "      <th id=\"T_83d92_level0_col8\" class=\"col_heading level0 col8\" >TT (Sec)</th>\n",
       "    </tr>\n",
       "  </thead>\n",
       "  <tbody>\n",
       "    <tr>\n",
       "      <th id=\"T_83d92_level0_row0\" class=\"row_heading level0 row0\" >rf</th>\n",
       "      <td id=\"T_83d92_row0_col0\" class=\"data row0 col0\" >Random Forest Classifier</td>\n",
       "      <td id=\"T_83d92_row0_col1\" class=\"data row0 col1\" >0.7723</td>\n",
       "      <td id=\"T_83d92_row0_col2\" class=\"data row0 col2\" >0.8389</td>\n",
       "      <td id=\"T_83d92_row0_col3\" class=\"data row0 col3\" >0.8469</td>\n",
       "      <td id=\"T_83d92_row0_col4\" class=\"data row0 col4\" >0.8026</td>\n",
       "      <td id=\"T_83d92_row0_col5\" class=\"data row0 col5\" >0.8241</td>\n",
       "      <td id=\"T_83d92_row0_col6\" class=\"data row0 col6\" >0.5022</td>\n",
       "      <td id=\"T_83d92_row0_col7\" class=\"data row0 col7\" >0.5039</td>\n",
       "      <td id=\"T_83d92_row0_col8\" class=\"data row0 col8\" >0.1480</td>\n",
       "    </tr>\n",
       "    <tr>\n",
       "      <th id=\"T_83d92_level0_row1\" class=\"row_heading level0 row1\" >lr</th>\n",
       "      <td id=\"T_83d92_row1_col0\" class=\"data row1 col0\" >Logistic Regression</td>\n",
       "      <td id=\"T_83d92_row1_col1\" class=\"data row1 col1\" >0.7517</td>\n",
       "      <td id=\"T_83d92_row1_col2\" class=\"data row1 col2\" >0.8089</td>\n",
       "      <td id=\"T_83d92_row1_col3\" class=\"data row1 col3\" >0.8421</td>\n",
       "      <td id=\"T_83d92_row1_col4\" class=\"data row1 col4\" >0.7808</td>\n",
       "      <td id=\"T_83d92_row1_col5\" class=\"data row1 col5\" >0.8102</td>\n",
       "      <td id=\"T_83d92_row1_col6\" class=\"data row1 col6\" >0.4525</td>\n",
       "      <td id=\"T_83d92_row1_col7\" class=\"data row1 col7\" >0.4555</td>\n",
       "      <td id=\"T_83d92_row1_col8\" class=\"data row1 col8\" >0.4520</td>\n",
       "    </tr>\n",
       "    <tr>\n",
       "      <th id=\"T_83d92_level0_row2\" class=\"row_heading level0 row2\" >dt</th>\n",
       "      <td id=\"T_83d92_row2_col0\" class=\"data row2 col0\" >Decision Tree Classifier</td>\n",
       "      <td id=\"T_83d92_row2_col1\" class=\"data row2 col1\" >0.6974</td>\n",
       "      <td id=\"T_83d92_row2_col2\" class=\"data row2 col2\" >0.6769</td>\n",
       "      <td id=\"T_83d92_row2_col3\" class=\"data row2 col3\" >0.7559</td>\n",
       "      <td id=\"T_83d92_row2_col4\" class=\"data row2 col4\" >0.7618</td>\n",
       "      <td id=\"T_83d92_row2_col5\" class=\"data row2 col5\" >0.7587</td>\n",
       "      <td id=\"T_83d92_row2_col6\" class=\"data row2 col6\" >0.3528</td>\n",
       "      <td id=\"T_83d92_row2_col7\" class=\"data row2 col7\" >0.3530</td>\n",
       "      <td id=\"T_83d92_row2_col8\" class=\"data row2 col8\" >0.0220</td>\n",
       "    </tr>\n",
       "  </tbody>\n",
       "</table>\n"
      ],
      "text/plain": [
       "<pandas.io.formats.style.Styler at 0x7f9bb8703940>"
      ]
     },
     "metadata": {},
     "output_type": "display_data"
    },
    {
     "data": {
      "text/html": [],
      "text/plain": [
       "<IPython.core.display.HTML object>"
      ]
     },
     "metadata": {},
     "output_type": "display_data"
    },
    {
     "name": "stdout",
     "output_type": "stream",
     "text": [
      "=> Aplicando plot  auc\n"
     ]
    },
    {
     "data": {
      "text/html": [],
      "text/plain": [
       "<IPython.core.display.HTML object>"
      ]
     },
     "metadata": {},
     "output_type": "display_data"
    },
    {
     "name": "stdout",
     "output_type": "stream",
     "text": [
      "=> Aplicando plot  confusion_matrix\n"
     ]
    },
    {
     "data": {
      "text/html": [],
      "text/plain": [
       "<IPython.core.display.HTML object>"
      ]
     },
     "metadata": {},
     "output_type": "display_data"
    },
    {
     "name": "stdout",
     "output_type": "stream",
     "text": [
      "=> Aplicando plot  feature_all\n"
     ]
    },
    {
     "data": {
      "text/html": [],
      "text/plain": [
       "<IPython.core.display.HTML object>"
      ]
     },
     "metadata": {},
     "output_type": "display_data"
    }
   ],
   "source": [
    "import pycaret.classification as pc\n",
    "\n",
    "experiment_name = 'automl-wine'\n",
    "\n",
    "# train/test\n",
    "xtrain, xtest, ytrain, ytest = model_selection.train_test_split(X, Y, test_size=0.2)\n",
    "df_train = xtrain.copy()\n",
    "df_test = xtest.copy()\n",
    "df_train[wine_target_col] = ytrain\n",
    "df_test[wine_target_col] = ytest\n",
    "\n",
    "# mlflow.set_tracking_uri(\"sqlite:///mlruns.db\")\n",
    "\n",
    "s = pc.setup(data = df_train, \n",
    "             target = wine_target_col,\n",
    "             test_data=df_test,             \n",
    "             log_experiment = True, \n",
    "             experiment_name = experiment_name, \n",
    "             log_plots = True)\n",
    "models = ['lr', 'dt', 'rf']\n",
    "bestmodel = pc.compare_models(include = models)\n",
    "\n",
    "# plot: str, default = 'residual'\n",
    "# [ 'auc', 'threshold','pr','confusion_matrix','error','class_report',\n",
    "#                          'boundary','rfe','learning','manifold','calibration','vc','dimension',\n",
    "#                          'feature','feature_all','parameter','lift','gain','tree','ks']\n",
    "# Log do run, e nao do modelo respectivo\n",
    "classification_plots = [\n",
    "    'auc', 'confusion_matrix',\n",
    "    # 'error','class_report'\n",
    "    # 'threshold','pr',,\n",
    "    # 'learning',\n",
    "    # 'vc',\n",
    "    'feature_all',\n",
    "]\n",
    "for plot_type in classification_plots:\n",
    "    print('=> Aplicando plot ', plot_type)\n",
    "    try:\n",
    "        artifact = pc.plot_model(bestmodel, plot=plot_type, save=True) # use_train_data=False\n",
    "        mlflow.log_artifact(artifact)\n",
    "    except:\n",
    "        print('=> Nao possivel plotar: ', plot_type )\n",
    "        continue\n",
    "        \n"
   ]
  },
  {
   "cell_type": "markdown",
   "id": "4d6b5518-b38d-4886-8751-ea2c85812874",
   "metadata": {},
   "source": [
    "# Execução de Projeto MLFlow "
   ]
  },
  {
   "cell_type": "code",
   "execution_count": 31,
   "id": "1c8148fa-1a03-4f1b-86d9-87f4d06563ed",
   "metadata": {},
   "outputs": [
    {
     "name": "stderr",
     "output_type": "stream",
     "text": [
      "2024/03/25 18:37:50 INFO mlflow.utils.conda: Conda environment mlflow-01ca5edb0c1af7ade26e5fc7cb9eeaa3decc557f already exists.\n",
      "2024/03/25 18:37:50 INFO mlflow.projects.utils: === Created directory /tmp/tmpjwqziwbm for downloading remote URIs passed to arguments of type 'path' ===\n",
      "2024/03/25 18:37:50 INFO mlflow.projects.backend.local: === Running command 'source /home/ciodaro/anaconda3/bin/../etc/profile.d/conda.sh && conda activate mlflow-01ca5edb0c1af7ade26e5fc7cb9eeaa3decc557f 1>&2 && python ml_wine.py 10 wine-ml-model' in run with ID 'bf079acebeb24f01a632c15aa2377a06' === \n"
     ]
    },
    {
     "name": "stdout",
     "output_type": "stream",
     "text": [
      "(5320, 14)\n",
      "                    Description            Value\n",
      "0                    Session id             5282\n",
      "1                        Target           target\n",
      "2                   Target type           Binary\n",
      "3           Original data shape       (5320, 14)\n",
      "4        Transformed data shape       (5320, 13)\n",
      "5   Transformed train set shape       (4256, 13)\n",
      "6    Transformed test set shape       (1064, 13)\n",
      "7               Ignore features                1\n",
      "8              Ordinal features                1\n",
      "9              Numeric features               11\n",
      "10         Categorical features                1\n",
      "11                   Preprocess             True\n",
      "12              Imputation type           simple\n",
      "13           Numeric imputation             mean\n",
      "14       Categorical imputation             mode\n",
      "15     Maximum one-hot encoding               25\n",
      "16              Encoding method             None\n",
      "17               Fold Generator  StratifiedKFold\n",
      "18                  Fold Number               10\n",
      "19                     CPU Jobs               -1\n",
      "20                      Use GPU            False\n",
      "21               Log Experiment     MlflowLogger\n",
      "22              Experiment Name    wine-ml-model\n",
      "23                          USI             56f6\n"
     ]
    },
    {
     "name": "stderr",
     "output_type": "stream",
     "text": [
      "                                                           "
     ]
    },
    {
     "name": "stdout",
     "output_type": "stream",
     "text": [
      "                       Model  Accuracy     AUC  Recall   Prec.      F1  \\\n",
      "rf  Random Forest Classifier    0.7594  0.8293  0.8394  0.7940  0.8156   \n",
      "lr       Logistic Regression    0.7474  0.8015  0.8472  0.7764  0.8098   \n",
      "dt  Decision Tree Classifier    0.6790  0.6539  0.7472  0.7474  0.7469   \n",
      "\n",
      "     Kappa     MCC  TT (Sec)  \n",
      "rf  0.4698  0.4727     0.156  \n",
      "lr  0.4357  0.4408     0.328  \n",
      "dt  0.3079  0.3085     0.023  \n",
      "=> Aplicando plot  auc\n",
      "=> Aplicando plot  confusion_matrix\n"
     ]
    },
    {
     "name": "stderr",
     "output_type": "stream",
     "text": [
      "2024/03/25 18:38:06 INFO mlflow.projects: === Run (ID 'bf079acebeb24f01a632c15aa2377a06') succeeded ===\n"
     ]
    },
    {
     "data": {
      "text/plain": [
       "<mlflow.projects.submitted_run.LocalSubmittedRun at 0x7f9bc59a7580>"
      ]
     },
     "execution_count": 31,
     "metadata": {},
     "output_type": "execute_result"
    }
   ],
   "source": [
    "import mlflow\n",
    "\n",
    "experiment_name = 'wine-ml-model'\n",
    "parameters = {\n",
    "    'seed': 10,\n",
    "    'experiment_name': experiment_name\n",
    "}\n",
    "\n",
    "\n",
    "mlflow.projects.run(uri = './', # path local ou projeto git\n",
    "                    entry_point='main', # comando a executar do projeto\n",
    "                    version=None, # Git branch ou commit para utilizar\n",
    "                    parameters=parameters, # dicionario com os parametros definidos em MLproject\n",
    "                    docker_args=None, # argumentos para implementacao docker\n",
    "                    experiment_name=experiment_name, # nome do experimento que vai ser realizado\n",
    "#                     experiment_id=None, # id do experimento\n",
    "                    backend='local', # rodar localmente ou no databricks\n",
    "                    backend_config=None, # configuracao do backend\n",
    "                    \n",
    ")\n"
   ]
  },
  {
   "cell_type": "code",
   "execution_count": null,
   "id": "d7721e88-a365-460d-8ca1-7c519894bab2",
   "metadata": {},
   "outputs": [],
   "source": [
    "# mlflow.end_run()\n",
    "# !mlflow ui\n",
    "# Para usar o sqlite como repositorio\n",
    "# mlflow ui --backend-store-uri sqlite:///mlruns.db"
   ]
  }
 ],
 "metadata": {
  "kernelspec": {
   "display_name": "Python 3 (ipykernel)",
   "language": "python",
   "name": "python3"
  },
  "language_info": {
   "codemirror_mode": {
    "name": "ipython",
    "version": 3
   },
   "file_extension": ".py",
   "mimetype": "text/x-python",
   "name": "python",
   "nbconvert_exporter": "python",
   "pygments_lexer": "ipython3",
   "version": "3.8.18"
  }
 },
 "nbformat": 4,
 "nbformat_minor": 5
}
