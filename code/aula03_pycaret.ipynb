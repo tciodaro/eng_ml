{
 "cells": [
  {
   "cell_type": "code",
   "execution_count": 1,
   "id": "488807a8-fc82-4c09-8576-40716e13392e",
   "metadata": {},
   "outputs": [
    {
     "data": {
      "text/plain": [
       "'3.2.0'"
      ]
     },
     "execution_count": 1,
     "metadata": {},
     "output_type": "execute_result"
    }
   ],
   "source": [
    "import matplotlib.pyplot as plt\n",
    "import pandas\n",
    "import numpy as np\n",
    "import pycaret.classification as pc\n",
    "from sklearn import metrics\n",
    "\n",
    "%matplotlib inline\n",
    "model_name = 'wine_model'\n",
    "\n",
    "from pycaret.utils import version\n",
    "version()"
   ]
  },
  {
   "cell_type": "markdown",
   "id": "8faf27f9-6e0b-40a3-a1ac-ef386bb0a049",
   "metadata": {
    "tags": []
   },
   "source": [
    "# Vinhos\n"
   ]
  },
  {
   "cell_type": "markdown",
   "id": "01cb7b41-d918-491c-9a31-595a011900d3",
   "metadata": {},
   "source": [
    "## Leitura da Base "
   ]
  },
  {
   "cell_type": "code",
   "execution_count": 2,
   "id": "cfdff72a-267c-41a0-a3b1-59dbd5f632fc",
   "metadata": {},
   "outputs": [
    {
     "name": "stdout",
     "output_type": "stream",
     "text": [
      "(5320, 14)\n"
     ]
    },
    {
     "data": {
      "text/html": [
       "<div>\n",
       "<style scoped>\n",
       "    .dataframe tbody tr th:only-of-type {\n",
       "        vertical-align: middle;\n",
       "    }\n",
       "\n",
       "    .dataframe tbody tr th {\n",
       "        vertical-align: top;\n",
       "    }\n",
       "\n",
       "    .dataframe thead th {\n",
       "        text-align: right;\n",
       "    }\n",
       "</style>\n",
       "<table border=\"1\" class=\"dataframe\">\n",
       "  <thead>\n",
       "    <tr style=\"text-align: right;\">\n",
       "      <th></th>\n",
       "      <th>fixed acidity</th>\n",
       "      <th>volatile acidity</th>\n",
       "      <th>citric acid</th>\n",
       "      <th>residual sugar</th>\n",
       "      <th>chlorides</th>\n",
       "      <th>free sulfur dioxide</th>\n",
       "      <th>total sulfur dioxide</th>\n",
       "      <th>density</th>\n",
       "      <th>pH</th>\n",
       "      <th>sulphates</th>\n",
       "      <th>alcohol</th>\n",
       "      <th>target</th>\n",
       "      <th>target_label</th>\n",
       "      <th>type</th>\n",
       "    </tr>\n",
       "  </thead>\n",
       "  <tbody>\n",
       "    <tr>\n",
       "      <th>0</th>\n",
       "      <td>7.4</td>\n",
       "      <td>0.70</td>\n",
       "      <td>0.00</td>\n",
       "      <td>1.9</td>\n",
       "      <td>0.076</td>\n",
       "      <td>11.0</td>\n",
       "      <td>34.0</td>\n",
       "      <td>0.9978</td>\n",
       "      <td>3.51</td>\n",
       "      <td>0.56</td>\n",
       "      <td>9.4</td>\n",
       "      <td>0</td>\n",
       "      <td>baixa qualidade</td>\n",
       "      <td>red</td>\n",
       "    </tr>\n",
       "    <tr>\n",
       "      <th>1</th>\n",
       "      <td>7.8</td>\n",
       "      <td>0.88</td>\n",
       "      <td>0.00</td>\n",
       "      <td>2.6</td>\n",
       "      <td>0.098</td>\n",
       "      <td>25.0</td>\n",
       "      <td>67.0</td>\n",
       "      <td>0.9968</td>\n",
       "      <td>3.20</td>\n",
       "      <td>0.68</td>\n",
       "      <td>9.8</td>\n",
       "      <td>0</td>\n",
       "      <td>baixa qualidade</td>\n",
       "      <td>red</td>\n",
       "    </tr>\n",
       "    <tr>\n",
       "      <th>2</th>\n",
       "      <td>7.8</td>\n",
       "      <td>0.76</td>\n",
       "      <td>0.04</td>\n",
       "      <td>2.3</td>\n",
       "      <td>0.092</td>\n",
       "      <td>15.0</td>\n",
       "      <td>54.0</td>\n",
       "      <td>0.9970</td>\n",
       "      <td>3.26</td>\n",
       "      <td>0.65</td>\n",
       "      <td>9.8</td>\n",
       "      <td>0</td>\n",
       "      <td>baixa qualidade</td>\n",
       "      <td>red</td>\n",
       "    </tr>\n",
       "    <tr>\n",
       "      <th>3</th>\n",
       "      <td>11.2</td>\n",
       "      <td>0.28</td>\n",
       "      <td>0.56</td>\n",
       "      <td>1.9</td>\n",
       "      <td>0.075</td>\n",
       "      <td>17.0</td>\n",
       "      <td>60.0</td>\n",
       "      <td>0.9980</td>\n",
       "      <td>3.16</td>\n",
       "      <td>0.58</td>\n",
       "      <td>9.8</td>\n",
       "      <td>1</td>\n",
       "      <td>alta qualidade</td>\n",
       "      <td>red</td>\n",
       "    </tr>\n",
       "    <tr>\n",
       "      <th>4</th>\n",
       "      <td>7.4</td>\n",
       "      <td>0.66</td>\n",
       "      <td>0.00</td>\n",
       "      <td>1.8</td>\n",
       "      <td>0.075</td>\n",
       "      <td>13.0</td>\n",
       "      <td>40.0</td>\n",
       "      <td>0.9978</td>\n",
       "      <td>3.51</td>\n",
       "      <td>0.56</td>\n",
       "      <td>9.4</td>\n",
       "      <td>0</td>\n",
       "      <td>baixa qualidade</td>\n",
       "      <td>red</td>\n",
       "    </tr>\n",
       "  </tbody>\n",
       "</table>\n",
       "</div>"
      ],
      "text/plain": [
       "   fixed acidity  volatile acidity  citric acid  residual sugar  chlorides  \\\n",
       "0            7.4              0.70         0.00             1.9      0.076   \n",
       "1            7.8              0.88         0.00             2.6      0.098   \n",
       "2            7.8              0.76         0.04             2.3      0.092   \n",
       "3           11.2              0.28         0.56             1.9      0.075   \n",
       "4            7.4              0.66         0.00             1.8      0.075   \n",
       "\n",
       "   free sulfur dioxide  total sulfur dioxide  density    pH  sulphates  \\\n",
       "0                 11.0                  34.0   0.9978  3.51       0.56   \n",
       "1                 25.0                  67.0   0.9968  3.20       0.68   \n",
       "2                 15.0                  54.0   0.9970  3.26       0.65   \n",
       "3                 17.0                  60.0   0.9980  3.16       0.58   \n",
       "4                 13.0                  40.0   0.9978  3.51       0.56   \n",
       "\n",
       "   alcohol  target     target_label type  \n",
       "0      9.4       0  baixa qualidade  red  \n",
       "1      9.8       0  baixa qualidade  red  \n",
       "2      9.8       0  baixa qualidade  red  \n",
       "3      9.8       1   alta qualidade  red  \n",
       "4      9.4       0  baixa qualidade  red  "
      ]
     },
     "execution_count": 2,
     "metadata": {},
     "output_type": "execute_result"
    }
   ],
   "source": [
    "df_wine = pandas.read_csv('../data/dataset_vinhos.csv',sep=';')\n",
    "wine_target_col = 'target'\n",
    "wine_label_map = df_wine[['target', 'target_label']].drop_duplicates()\n",
    "print(df_wine.shape)\n",
    "df_wine.head()"
   ]
  },
  {
   "cell_type": "markdown",
   "id": "1c85e0a0-e89e-4418-a6e4-4c6b701e6af9",
   "metadata": {},
   "source": [
    "## Configuração do PyCaret "
   ]
  },
  {
   "cell_type": "code",
   "execution_count": 3,
   "id": "e034e564-373b-49b8-907a-6b1987805198",
   "metadata": {},
   "outputs": [],
   "source": [
    "# pc.setup?"
   ]
  },
  {
   "cell_type": "code",
   "execution_count": 4,
   "id": "39bddd80-71d2-4e0d-8d1c-7fd06336f7aa",
   "metadata": {},
   "outputs": [
    {
     "data": {
      "text/html": [
       "<style type=\"text/css\">\n",
       "#T_61343_row11_col1, #T_61343_row17_col1, #T_61343_row19_col1, #T_61343_row21_col1 {\n",
       "  background-color: lightgreen;\n",
       "}\n",
       "</style>\n",
       "<table id=\"T_61343\">\n",
       "  <thead>\n",
       "    <tr>\n",
       "      <th class=\"blank level0\" >&nbsp;</th>\n",
       "      <th id=\"T_61343_level0_col0\" class=\"col_heading level0 col0\" >Description</th>\n",
       "      <th id=\"T_61343_level0_col1\" class=\"col_heading level0 col1\" >Value</th>\n",
       "    </tr>\n",
       "  </thead>\n",
       "  <tbody>\n",
       "    <tr>\n",
       "      <th id=\"T_61343_level0_row0\" class=\"row_heading level0 row0\" >0</th>\n",
       "      <td id=\"T_61343_row0_col0\" class=\"data row0 col0\" >Session id</td>\n",
       "      <td id=\"T_61343_row0_col1\" class=\"data row0 col1\" >123</td>\n",
       "    </tr>\n",
       "    <tr>\n",
       "      <th id=\"T_61343_level0_row1\" class=\"row_heading level0 row1\" >1</th>\n",
       "      <td id=\"T_61343_row1_col0\" class=\"data row1 col0\" >Target</td>\n",
       "      <td id=\"T_61343_row1_col1\" class=\"data row1 col1\" >target</td>\n",
       "    </tr>\n",
       "    <tr>\n",
       "      <th id=\"T_61343_level0_row2\" class=\"row_heading level0 row2\" >2</th>\n",
       "      <td id=\"T_61343_row2_col0\" class=\"data row2 col0\" >Target type</td>\n",
       "      <td id=\"T_61343_row2_col1\" class=\"data row2 col1\" >Binary</td>\n",
       "    </tr>\n",
       "    <tr>\n",
       "      <th id=\"T_61343_level0_row3\" class=\"row_heading level0 row3\" >3</th>\n",
       "      <td id=\"T_61343_row3_col0\" class=\"data row3 col0\" >Original data shape</td>\n",
       "      <td id=\"T_61343_row3_col1\" class=\"data row3 col1\" >(5320, 14)</td>\n",
       "    </tr>\n",
       "    <tr>\n",
       "      <th id=\"T_61343_level0_row4\" class=\"row_heading level0 row4\" >4</th>\n",
       "      <td id=\"T_61343_row4_col0\" class=\"data row4 col0\" >Transformed data shape</td>\n",
       "      <td id=\"T_61343_row4_col1\" class=\"data row4 col1\" >(5320, 13)</td>\n",
       "    </tr>\n",
       "    <tr>\n",
       "      <th id=\"T_61343_level0_row5\" class=\"row_heading level0 row5\" >5</th>\n",
       "      <td id=\"T_61343_row5_col0\" class=\"data row5 col0\" >Transformed train set shape</td>\n",
       "      <td id=\"T_61343_row5_col1\" class=\"data row5 col1\" >(3192, 13)</td>\n",
       "    </tr>\n",
       "    <tr>\n",
       "      <th id=\"T_61343_level0_row6\" class=\"row_heading level0 row6\" >6</th>\n",
       "      <td id=\"T_61343_row6_col0\" class=\"data row6 col0\" >Transformed test set shape</td>\n",
       "      <td id=\"T_61343_row6_col1\" class=\"data row6 col1\" >(2128, 13)</td>\n",
       "    </tr>\n",
       "    <tr>\n",
       "      <th id=\"T_61343_level0_row7\" class=\"row_heading level0 row7\" >7</th>\n",
       "      <td id=\"T_61343_row7_col0\" class=\"data row7 col0\" >Ignore features</td>\n",
       "      <td id=\"T_61343_row7_col1\" class=\"data row7 col1\" >1</td>\n",
       "    </tr>\n",
       "    <tr>\n",
       "      <th id=\"T_61343_level0_row8\" class=\"row_heading level0 row8\" >8</th>\n",
       "      <td id=\"T_61343_row8_col0\" class=\"data row8 col0\" >Ordinal features</td>\n",
       "      <td id=\"T_61343_row8_col1\" class=\"data row8 col1\" >1</td>\n",
       "    </tr>\n",
       "    <tr>\n",
       "      <th id=\"T_61343_level0_row9\" class=\"row_heading level0 row9\" >9</th>\n",
       "      <td id=\"T_61343_row9_col0\" class=\"data row9 col0\" >Numeric features</td>\n",
       "      <td id=\"T_61343_row9_col1\" class=\"data row9 col1\" >11</td>\n",
       "    </tr>\n",
       "    <tr>\n",
       "      <th id=\"T_61343_level0_row10\" class=\"row_heading level0 row10\" >10</th>\n",
       "      <td id=\"T_61343_row10_col0\" class=\"data row10 col0\" >Categorical features</td>\n",
       "      <td id=\"T_61343_row10_col1\" class=\"data row10 col1\" >1</td>\n",
       "    </tr>\n",
       "    <tr>\n",
       "      <th id=\"T_61343_level0_row11\" class=\"row_heading level0 row11\" >11</th>\n",
       "      <td id=\"T_61343_row11_col0\" class=\"data row11 col0\" >Preprocess</td>\n",
       "      <td id=\"T_61343_row11_col1\" class=\"data row11 col1\" >True</td>\n",
       "    </tr>\n",
       "    <tr>\n",
       "      <th id=\"T_61343_level0_row12\" class=\"row_heading level0 row12\" >12</th>\n",
       "      <td id=\"T_61343_row12_col0\" class=\"data row12 col0\" >Imputation type</td>\n",
       "      <td id=\"T_61343_row12_col1\" class=\"data row12 col1\" >simple</td>\n",
       "    </tr>\n",
       "    <tr>\n",
       "      <th id=\"T_61343_level0_row13\" class=\"row_heading level0 row13\" >13</th>\n",
       "      <td id=\"T_61343_row13_col0\" class=\"data row13 col0\" >Numeric imputation</td>\n",
       "      <td id=\"T_61343_row13_col1\" class=\"data row13 col1\" >mean</td>\n",
       "    </tr>\n",
       "    <tr>\n",
       "      <th id=\"T_61343_level0_row14\" class=\"row_heading level0 row14\" >14</th>\n",
       "      <td id=\"T_61343_row14_col0\" class=\"data row14 col0\" >Categorical imputation</td>\n",
       "      <td id=\"T_61343_row14_col1\" class=\"data row14 col1\" >mode</td>\n",
       "    </tr>\n",
       "    <tr>\n",
       "      <th id=\"T_61343_level0_row15\" class=\"row_heading level0 row15\" >15</th>\n",
       "      <td id=\"T_61343_row15_col0\" class=\"data row15 col0\" >Maximum one-hot encoding</td>\n",
       "      <td id=\"T_61343_row15_col1\" class=\"data row15 col1\" >25</td>\n",
       "    </tr>\n",
       "    <tr>\n",
       "      <th id=\"T_61343_level0_row16\" class=\"row_heading level0 row16\" >16</th>\n",
       "      <td id=\"T_61343_row16_col0\" class=\"data row16 col0\" >Encoding method</td>\n",
       "      <td id=\"T_61343_row16_col1\" class=\"data row16 col1\" >None</td>\n",
       "    </tr>\n",
       "    <tr>\n",
       "      <th id=\"T_61343_level0_row17\" class=\"row_heading level0 row17\" >17</th>\n",
       "      <td id=\"T_61343_row17_col0\" class=\"data row17 col0\" >Remove multicollinearity</td>\n",
       "      <td id=\"T_61343_row17_col1\" class=\"data row17 col1\" >True</td>\n",
       "    </tr>\n",
       "    <tr>\n",
       "      <th id=\"T_61343_level0_row18\" class=\"row_heading level0 row18\" >18</th>\n",
       "      <td id=\"T_61343_row18_col0\" class=\"data row18 col0\" >Multicollinearity threshold</td>\n",
       "      <td id=\"T_61343_row18_col1\" class=\"data row18 col1\" >0.950000</td>\n",
       "    </tr>\n",
       "    <tr>\n",
       "      <th id=\"T_61343_level0_row19\" class=\"row_heading level0 row19\" >19</th>\n",
       "      <td id=\"T_61343_row19_col0\" class=\"data row19 col0\" >Transformation</td>\n",
       "      <td id=\"T_61343_row19_col1\" class=\"data row19 col1\" >True</td>\n",
       "    </tr>\n",
       "    <tr>\n",
       "      <th id=\"T_61343_level0_row20\" class=\"row_heading level0 row20\" >20</th>\n",
       "      <td id=\"T_61343_row20_col0\" class=\"data row20 col0\" >Transformation method</td>\n",
       "      <td id=\"T_61343_row20_col1\" class=\"data row20 col1\" >yeo-johnson</td>\n",
       "    </tr>\n",
       "    <tr>\n",
       "      <th id=\"T_61343_level0_row21\" class=\"row_heading level0 row21\" >21</th>\n",
       "      <td id=\"T_61343_row21_col0\" class=\"data row21 col0\" >Normalize</td>\n",
       "      <td id=\"T_61343_row21_col1\" class=\"data row21 col1\" >True</td>\n",
       "    </tr>\n",
       "    <tr>\n",
       "      <th id=\"T_61343_level0_row22\" class=\"row_heading level0 row22\" >22</th>\n",
       "      <td id=\"T_61343_row22_col0\" class=\"data row22 col0\" >Normalize method</td>\n",
       "      <td id=\"T_61343_row22_col1\" class=\"data row22 col1\" >zscore</td>\n",
       "    </tr>\n",
       "    <tr>\n",
       "      <th id=\"T_61343_level0_row23\" class=\"row_heading level0 row23\" >23</th>\n",
       "      <td id=\"T_61343_row23_col0\" class=\"data row23 col0\" >Fold Generator</td>\n",
       "      <td id=\"T_61343_row23_col1\" class=\"data row23 col1\" >StratifiedKFold</td>\n",
       "    </tr>\n",
       "    <tr>\n",
       "      <th id=\"T_61343_level0_row24\" class=\"row_heading level0 row24\" >24</th>\n",
       "      <td id=\"T_61343_row24_col0\" class=\"data row24 col0\" >Fold Number</td>\n",
       "      <td id=\"T_61343_row24_col1\" class=\"data row24 col1\" >10</td>\n",
       "    </tr>\n",
       "    <tr>\n",
       "      <th id=\"T_61343_level0_row25\" class=\"row_heading level0 row25\" >25</th>\n",
       "      <td id=\"T_61343_row25_col0\" class=\"data row25 col0\" >CPU Jobs</td>\n",
       "      <td id=\"T_61343_row25_col1\" class=\"data row25 col1\" >-1</td>\n",
       "    </tr>\n",
       "    <tr>\n",
       "      <th id=\"T_61343_level0_row26\" class=\"row_heading level0 row26\" >26</th>\n",
       "      <td id=\"T_61343_row26_col0\" class=\"data row26 col0\" >Use GPU</td>\n",
       "      <td id=\"T_61343_row26_col1\" class=\"data row26 col1\" >False</td>\n",
       "    </tr>\n",
       "    <tr>\n",
       "      <th id=\"T_61343_level0_row27\" class=\"row_heading level0 row27\" >27</th>\n",
       "      <td id=\"T_61343_row27_col0\" class=\"data row27 col0\" >Log Experiment</td>\n",
       "      <td id=\"T_61343_row27_col1\" class=\"data row27 col1\" >False</td>\n",
       "    </tr>\n",
       "    <tr>\n",
       "      <th id=\"T_61343_level0_row28\" class=\"row_heading level0 row28\" >28</th>\n",
       "      <td id=\"T_61343_row28_col0\" class=\"data row28 col0\" >Experiment Name</td>\n",
       "      <td id=\"T_61343_row28_col1\" class=\"data row28 col1\" >wine-model</td>\n",
       "    </tr>\n",
       "    <tr>\n",
       "      <th id=\"T_61343_level0_row29\" class=\"row_heading level0 row29\" >29</th>\n",
       "      <td id=\"T_61343_row29_col0\" class=\"data row29 col0\" >USI</td>\n",
       "      <td id=\"T_61343_row29_col1\" class=\"data row29 col1\" >91f1</td>\n",
       "    </tr>\n",
       "  </tbody>\n",
       "</table>\n"
      ],
      "text/plain": [
       "<pandas.io.formats.style.Styler at 0x7fdf7c9b64f0>"
      ]
     },
     "metadata": {},
     "output_type": "display_data"
    }
   ],
   "source": [
    "experiment = pc.setup(session_id=123,\n",
    "                      data = df_wine, # Configurações de dados\n",
    "                      train_size=0.6,\n",
    "                      target = wine_target_col,\n",
    "                      profile = False, # Analise interativa de variaveis\n",
    "                      fold_strategy = 'stratifiedkfold', # Validação cruzada\n",
    "                      fold = 10,\n",
    "                      normalize = True,  # Normalização, transformação e remoção de variáveis\n",
    "                      transformation = True, \n",
    "                      remove_multicollinearity = True,\n",
    "                      multicollinearity_threshold = 0.95,\n",
    "                      bin_numeric_features = None, # Binarizacao de variaveis\n",
    "                      group_features = None, # Grupos de variáveis para combinar na engenharia de variaveis\n",
    "                      categorical_features = ['type'],\n",
    "                      ignore_features = ['target_label'],\n",
    "                      log_experiment = False, # Logging dos experimentos e afins\n",
    "                      experiment_name = 'wine-model',\n",
    "                      )"
   ]
  },
  {
   "cell_type": "markdown",
   "id": "d2c1c911-c281-449b-885e-48ae94d5d14a",
   "metadata": {},
   "source": [
    "## Seleção de Modelos"
   ]
  },
  {
   "cell_type": "code",
   "execution_count": 5,
   "id": "1ed3987a-37dc-45cc-a003-bfbaefb66880",
   "metadata": {},
   "outputs": [],
   "source": [
    "# pc.models()\n",
    "# pc.compare_models?"
   ]
  },
  {
   "cell_type": "code",
   "execution_count": 6,
   "id": "d593083f-f3bb-47d0-85cc-dbe5f62750d7",
   "metadata": {},
   "outputs": [],
   "source": [
    "# pc.models()"
   ]
  },
  {
   "cell_type": "code",
   "execution_count": 7,
   "id": "6983cfdc-27d4-4188-a072-ed0e09b90a8c",
   "metadata": {},
   "outputs": [
    {
     "data": {
      "text/html": [],
      "text/plain": [
       "<IPython.core.display.HTML object>"
      ]
     },
     "metadata": {},
     "output_type": "display_data"
    },
    {
     "data": {
      "text/html": [
       "<style type=\"text/css\">\n",
       "#T_591fb th {\n",
       "  text-align: left;\n",
       "}\n",
       "#T_591fb_row0_col0, #T_591fb_row1_col0, #T_591fb_row1_col1, #T_591fb_row1_col2, #T_591fb_row1_col3, #T_591fb_row1_col4, #T_591fb_row1_col5, #T_591fb_row1_col6, #T_591fb_row1_col7, #T_591fb_row2_col0, #T_591fb_row2_col1, #T_591fb_row2_col2, #T_591fb_row2_col3, #T_591fb_row2_col4, #T_591fb_row2_col5, #T_591fb_row2_col6, #T_591fb_row2_col7 {\n",
       "  text-align: left;\n",
       "}\n",
       "#T_591fb_row0_col1, #T_591fb_row0_col2, #T_591fb_row0_col3, #T_591fb_row0_col4, #T_591fb_row0_col5, #T_591fb_row0_col6, #T_591fb_row0_col7 {\n",
       "  text-align: left;\n",
       "  background-color: yellow;\n",
       "}\n",
       "#T_591fb_row0_col8, #T_591fb_row1_col8 {\n",
       "  text-align: left;\n",
       "  background-color: lightgrey;\n",
       "}\n",
       "#T_591fb_row2_col8 {\n",
       "  text-align: left;\n",
       "  background-color: yellow;\n",
       "  background-color: lightgrey;\n",
       "}\n",
       "</style>\n",
       "<table id=\"T_591fb\">\n",
       "  <thead>\n",
       "    <tr>\n",
       "      <th class=\"blank level0\" >&nbsp;</th>\n",
       "      <th id=\"T_591fb_level0_col0\" class=\"col_heading level0 col0\" >Model</th>\n",
       "      <th id=\"T_591fb_level0_col1\" class=\"col_heading level0 col1\" >Accuracy</th>\n",
       "      <th id=\"T_591fb_level0_col2\" class=\"col_heading level0 col2\" >AUC</th>\n",
       "      <th id=\"T_591fb_level0_col3\" class=\"col_heading level0 col3\" >Recall</th>\n",
       "      <th id=\"T_591fb_level0_col4\" class=\"col_heading level0 col4\" >Prec.</th>\n",
       "      <th id=\"T_591fb_level0_col5\" class=\"col_heading level0 col5\" >F1</th>\n",
       "      <th id=\"T_591fb_level0_col6\" class=\"col_heading level0 col6\" >Kappa</th>\n",
       "      <th id=\"T_591fb_level0_col7\" class=\"col_heading level0 col7\" >MCC</th>\n",
       "      <th id=\"T_591fb_level0_col8\" class=\"col_heading level0 col8\" >TT (Sec)</th>\n",
       "    </tr>\n",
       "  </thead>\n",
       "  <tbody>\n",
       "    <tr>\n",
       "      <th id=\"T_591fb_level0_row0\" class=\"row_heading level0 row0\" >rf</th>\n",
       "      <td id=\"T_591fb_row0_col0\" class=\"data row0 col0\" >Random Forest Classifier</td>\n",
       "      <td id=\"T_591fb_row0_col1\" class=\"data row0 col1\" >0.7754</td>\n",
       "      <td id=\"T_591fb_row0_col2\" class=\"data row0 col2\" >0.8327</td>\n",
       "      <td id=\"T_591fb_row0_col3\" class=\"data row0 col3\" >0.8494</td>\n",
       "      <td id=\"T_591fb_row0_col4\" class=\"data row0 col4\" >0.8033</td>\n",
       "      <td id=\"T_591fb_row0_col5\" class=\"data row0 col5\" >0.8257</td>\n",
       "      <td id=\"T_591fb_row0_col6\" class=\"data row0 col6\" >0.5107</td>\n",
       "      <td id=\"T_591fb_row0_col7\" class=\"data row0 col7\" >0.5124</td>\n",
       "      <td id=\"T_591fb_row0_col8\" class=\"data row0 col8\" >0.1470</td>\n",
       "    </tr>\n",
       "    <tr>\n",
       "      <th id=\"T_591fb_level0_row1\" class=\"row_heading level0 row1\" >lr</th>\n",
       "      <td id=\"T_591fb_row1_col0\" class=\"data row1 col0\" >Logistic Regression</td>\n",
       "      <td id=\"T_591fb_row1_col1\" class=\"data row1 col1\" >0.7447</td>\n",
       "      <td id=\"T_591fb_row1_col2\" class=\"data row1 col2\" >0.8130</td>\n",
       "      <td id=\"T_591fb_row1_col3\" class=\"data row1 col3\" >0.8339</td>\n",
       "      <td id=\"T_591fb_row1_col4\" class=\"data row1 col4\" >0.7760</td>\n",
       "      <td id=\"T_591fb_row1_col5\" class=\"data row1 col5\" >0.8036</td>\n",
       "      <td id=\"T_591fb_row1_col6\" class=\"data row1 col6\" >0.4400</td>\n",
       "      <td id=\"T_591fb_row1_col7\" class=\"data row1 col7\" >0.4431</td>\n",
       "      <td id=\"T_591fb_row1_col8\" class=\"data row1 col8\" >0.2660</td>\n",
       "    </tr>\n",
       "    <tr>\n",
       "      <th id=\"T_591fb_level0_row2\" class=\"row_heading level0 row2\" >dt</th>\n",
       "      <td id=\"T_591fb_row2_col0\" class=\"data row2 col0\" >Decision Tree Classifier</td>\n",
       "      <td id=\"T_591fb_row2_col1\" class=\"data row2 col1\" >0.6823</td>\n",
       "      <td id=\"T_591fb_row2_col2\" class=\"data row2 col2\" >0.6627</td>\n",
       "      <td id=\"T_591fb_row2_col3\" class=\"data row2 col3\" >0.7404</td>\n",
       "      <td id=\"T_591fb_row2_col4\" class=\"data row2 col4\" >0.7499</td>\n",
       "      <td id=\"T_591fb_row2_col5\" class=\"data row2 col5\" >0.7448</td>\n",
       "      <td id=\"T_591fb_row2_col6\" class=\"data row2 col6\" >0.3239</td>\n",
       "      <td id=\"T_591fb_row2_col7\" class=\"data row2 col7\" >0.3244</td>\n",
       "      <td id=\"T_591fb_row2_col8\" class=\"data row2 col8\" >0.0330</td>\n",
       "    </tr>\n",
       "  </tbody>\n",
       "</table>\n"
      ],
      "text/plain": [
       "<pandas.io.formats.style.Styler at 0x7fdf7ca901c0>"
      ]
     },
     "metadata": {},
     "output_type": "display_data"
    },
    {
     "data": {
      "text/html": [],
      "text/plain": [
       "<IPython.core.display.HTML object>"
      ]
     },
     "metadata": {},
     "output_type": "display_data"
    }
   ],
   "source": [
    "# O PyCaret treina os modelos com hiperparametros defaults, sem ajuste fino.\n",
    "model = pc.compare_models(n_select = 1, sort='Accuracy', include=['lr', 'dt', 'rf'])"
   ]
  },
  {
   "cell_type": "code",
   "execution_count": 8,
   "id": "b317bd60-f2e5-4355-8942-304f2e014a89",
   "metadata": {},
   "outputs": [
    {
     "data": {
      "text/html": [
       "<style>#sk-container-id-1 {color: black;background-color: white;}#sk-container-id-1 pre{padding: 0;}#sk-container-id-1 div.sk-toggleable {background-color: white;}#sk-container-id-1 label.sk-toggleable__label {cursor: pointer;display: block;width: 100%;margin-bottom: 0;padding: 0.3em;box-sizing: border-box;text-align: center;}#sk-container-id-1 label.sk-toggleable__label-arrow:before {content: \"▸\";float: left;margin-right: 0.25em;color: #696969;}#sk-container-id-1 label.sk-toggleable__label-arrow:hover:before {color: black;}#sk-container-id-1 div.sk-estimator:hover label.sk-toggleable__label-arrow:before {color: black;}#sk-container-id-1 div.sk-toggleable__content {max-height: 0;max-width: 0;overflow: hidden;text-align: left;background-color: #f0f8ff;}#sk-container-id-1 div.sk-toggleable__content pre {margin: 0.2em;color: black;border-radius: 0.25em;background-color: #f0f8ff;}#sk-container-id-1 input.sk-toggleable__control:checked~div.sk-toggleable__content {max-height: 200px;max-width: 100%;overflow: auto;}#sk-container-id-1 input.sk-toggleable__control:checked~label.sk-toggleable__label-arrow:before {content: \"▾\";}#sk-container-id-1 div.sk-estimator input.sk-toggleable__control:checked~label.sk-toggleable__label {background-color: #d4ebff;}#sk-container-id-1 div.sk-label input.sk-toggleable__control:checked~label.sk-toggleable__label {background-color: #d4ebff;}#sk-container-id-1 input.sk-hidden--visually {border: 0;clip: rect(1px 1px 1px 1px);clip: rect(1px, 1px, 1px, 1px);height: 1px;margin: -1px;overflow: hidden;padding: 0;position: absolute;width: 1px;}#sk-container-id-1 div.sk-estimator {font-family: monospace;background-color: #f0f8ff;border: 1px dotted black;border-radius: 0.25em;box-sizing: border-box;margin-bottom: 0.5em;}#sk-container-id-1 div.sk-estimator:hover {background-color: #d4ebff;}#sk-container-id-1 div.sk-parallel-item::after {content: \"\";width: 100%;border-bottom: 1px solid gray;flex-grow: 1;}#sk-container-id-1 div.sk-label:hover label.sk-toggleable__label {background-color: #d4ebff;}#sk-container-id-1 div.sk-serial::before {content: \"\";position: absolute;border-left: 1px solid gray;box-sizing: border-box;top: 0;bottom: 0;left: 50%;z-index: 0;}#sk-container-id-1 div.sk-serial {display: flex;flex-direction: column;align-items: center;background-color: white;padding-right: 0.2em;padding-left: 0.2em;position: relative;}#sk-container-id-1 div.sk-item {position: relative;z-index: 1;}#sk-container-id-1 div.sk-parallel {display: flex;align-items: stretch;justify-content: center;background-color: white;position: relative;}#sk-container-id-1 div.sk-item::before, #sk-container-id-1 div.sk-parallel-item::before {content: \"\";position: absolute;border-left: 1px solid gray;box-sizing: border-box;top: 0;bottom: 0;left: 50%;z-index: -1;}#sk-container-id-1 div.sk-parallel-item {display: flex;flex-direction: column;z-index: 1;position: relative;background-color: white;}#sk-container-id-1 div.sk-parallel-item:first-child::after {align-self: flex-end;width: 50%;}#sk-container-id-1 div.sk-parallel-item:last-child::after {align-self: flex-start;width: 50%;}#sk-container-id-1 div.sk-parallel-item:only-child::after {width: 0;}#sk-container-id-1 div.sk-dashed-wrapped {border: 1px dashed gray;margin: 0 0.4em 0.5em 0.4em;box-sizing: border-box;padding-bottom: 0.4em;background-color: white;}#sk-container-id-1 div.sk-label label {font-family: monospace;font-weight: bold;display: inline-block;line-height: 1.2em;}#sk-container-id-1 div.sk-label-container {text-align: center;}#sk-container-id-1 div.sk-container {/* jupyter's `normalize.less` sets `[hidden] { display: none; }` but bootstrap.min.css set `[hidden] { display: none !important; }` so we also need the `!important` here to be able to override the default hidden behavior on the sphinx rendered scikit-learn.org. See: https://github.com/scikit-learn/scikit-learn/issues/21755 */display: inline-block !important;position: relative;}#sk-container-id-1 div.sk-text-repr-fallback {display: none;}</style><div id=\"sk-container-id-1\" class=\"sk-top-container\"><div class=\"sk-text-repr-fallback\"><pre>RandomForestClassifier(bootstrap=True, ccp_alpha=0.0, class_weight=None,\n",
       "                       criterion=&#x27;gini&#x27;, max_depth=None, max_features=&#x27;sqrt&#x27;,\n",
       "                       max_leaf_nodes=None, max_samples=None,\n",
       "                       min_impurity_decrease=0.0, min_samples_leaf=1,\n",
       "                       min_samples_split=2, min_weight_fraction_leaf=0.0,\n",
       "                       n_estimators=100, n_jobs=-1, oob_score=False,\n",
       "                       random_state=123, verbose=0, warm_start=False)</pre><b>In a Jupyter environment, please rerun this cell to show the HTML representation or trust the notebook. <br />On GitHub, the HTML representation is unable to render, please try loading this page with nbviewer.org.</b></div><div class=\"sk-container\" hidden><div class=\"sk-item\"><div class=\"sk-estimator sk-toggleable\"><input class=\"sk-toggleable__control sk-hidden--visually\" id=\"sk-estimator-id-1\" type=\"checkbox\" checked><label for=\"sk-estimator-id-1\" class=\"sk-toggleable__label sk-toggleable__label-arrow\">RandomForestClassifier</label><div class=\"sk-toggleable__content\"><pre>RandomForestClassifier(bootstrap=True, ccp_alpha=0.0, class_weight=None,\n",
       "                       criterion=&#x27;gini&#x27;, max_depth=None, max_features=&#x27;sqrt&#x27;,\n",
       "                       max_leaf_nodes=None, max_samples=None,\n",
       "                       min_impurity_decrease=0.0, min_samples_leaf=1,\n",
       "                       min_samples_split=2, min_weight_fraction_leaf=0.0,\n",
       "                       n_estimators=100, n_jobs=-1, oob_score=False,\n",
       "                       random_state=123, verbose=0, warm_start=False)</pre></div></div></div></div></div>"
      ],
      "text/plain": [
       "RandomForestClassifier(bootstrap=True, ccp_alpha=0.0, class_weight=None,\n",
       "                       criterion='gini', max_depth=None, max_features='sqrt',\n",
       "                       max_leaf_nodes=None, max_samples=None,\n",
       "                       min_impurity_decrease=0.0, min_samples_leaf=1,\n",
       "                       min_samples_split=2, min_weight_fraction_leaf=0.0,\n",
       "                       n_estimators=100, n_jobs=-1, oob_score=False,\n",
       "                       random_state=123, verbose=0, warm_start=False)"
      ]
     },
     "execution_count": 8,
     "metadata": {},
     "output_type": "execute_result"
    }
   ],
   "source": [
    "model"
   ]
  },
  {
   "cell_type": "markdown",
   "id": "d1fb8655-248c-4b19-afc9-2208d49664b0",
   "metadata": {},
   "source": [
    "## Ajuste de Hiperparâmetros "
   ]
  },
  {
   "cell_type": "code",
   "execution_count": 9,
   "id": "25f407da-61e4-4076-8b7b-3efdb22af196",
   "metadata": {},
   "outputs": [],
   "source": [
    "# pc.tune_model?"
   ]
  },
  {
   "cell_type": "code",
   "execution_count": 10,
   "id": "f7dee424-fdc3-482e-929a-34b8beeac949",
   "metadata": {},
   "outputs": [
    {
     "data": {
      "text/html": [],
      "text/plain": [
       "<IPython.core.display.HTML object>"
      ]
     },
     "metadata": {},
     "output_type": "display_data"
    },
    {
     "data": {
      "text/html": [
       "<style type=\"text/css\">\n",
       "#T_ec02c_row10_col0, #T_ec02c_row10_col1, #T_ec02c_row10_col2, #T_ec02c_row10_col3, #T_ec02c_row10_col4, #T_ec02c_row10_col5, #T_ec02c_row10_col6 {\n",
       "  background: yellow;\n",
       "}\n",
       "</style>\n",
       "<table id=\"T_ec02c\">\n",
       "  <thead>\n",
       "    <tr>\n",
       "      <th class=\"blank level0\" >&nbsp;</th>\n",
       "      <th id=\"T_ec02c_level0_col0\" class=\"col_heading level0 col0\" >Accuracy</th>\n",
       "      <th id=\"T_ec02c_level0_col1\" class=\"col_heading level0 col1\" >AUC</th>\n",
       "      <th id=\"T_ec02c_level0_col2\" class=\"col_heading level0 col2\" >Recall</th>\n",
       "      <th id=\"T_ec02c_level0_col3\" class=\"col_heading level0 col3\" >Prec.</th>\n",
       "      <th id=\"T_ec02c_level0_col4\" class=\"col_heading level0 col4\" >F1</th>\n",
       "      <th id=\"T_ec02c_level0_col5\" class=\"col_heading level0 col5\" >Kappa</th>\n",
       "      <th id=\"T_ec02c_level0_col6\" class=\"col_heading level0 col6\" >MCC</th>\n",
       "    </tr>\n",
       "    <tr>\n",
       "      <th class=\"index_name level0\" >Fold</th>\n",
       "      <th class=\"blank col0\" >&nbsp;</th>\n",
       "      <th class=\"blank col1\" >&nbsp;</th>\n",
       "      <th class=\"blank col2\" >&nbsp;</th>\n",
       "      <th class=\"blank col3\" >&nbsp;</th>\n",
       "      <th class=\"blank col4\" >&nbsp;</th>\n",
       "      <th class=\"blank col5\" >&nbsp;</th>\n",
       "      <th class=\"blank col6\" >&nbsp;</th>\n",
       "    </tr>\n",
       "  </thead>\n",
       "  <tbody>\n",
       "    <tr>\n",
       "      <th id=\"T_ec02c_level0_row0\" class=\"row_heading level0 row0\" >0</th>\n",
       "      <td id=\"T_ec02c_row0_col0\" class=\"data row0 col0\" >0.7375</td>\n",
       "      <td id=\"T_ec02c_row0_col1\" class=\"data row0 col1\" >0.7784</td>\n",
       "      <td id=\"T_ec02c_row0_col2\" class=\"data row0 col2\" >0.8400</td>\n",
       "      <td id=\"T_ec02c_row0_col3\" class=\"data row0 col3\" >0.7636</td>\n",
       "      <td id=\"T_ec02c_row0_col4\" class=\"data row0 col4\" >0.8000</td>\n",
       "      <td id=\"T_ec02c_row0_col5\" class=\"data row0 col5\" >0.4207</td>\n",
       "      <td id=\"T_ec02c_row0_col6\" class=\"data row0 col6\" >0.4247</td>\n",
       "    </tr>\n",
       "    <tr>\n",
       "      <th id=\"T_ec02c_level0_row1\" class=\"row_heading level0 row1\" >1</th>\n",
       "      <td id=\"T_ec02c_row1_col0\" class=\"data row1 col0\" >0.7125</td>\n",
       "      <td id=\"T_ec02c_row1_col1\" class=\"data row1 col1\" >0.7870</td>\n",
       "      <td id=\"T_ec02c_row1_col2\" class=\"data row1 col2\" >0.7950</td>\n",
       "      <td id=\"T_ec02c_row1_col3\" class=\"data row1 col3\" >0.7571</td>\n",
       "      <td id=\"T_ec02c_row1_col4\" class=\"data row1 col4\" >0.7756</td>\n",
       "      <td id=\"T_ec02c_row1_col5\" class=\"data row1 col5\" >0.3763</td>\n",
       "      <td id=\"T_ec02c_row1_col6\" class=\"data row1 col6\" >0.3771</td>\n",
       "    </tr>\n",
       "    <tr>\n",
       "      <th id=\"T_ec02c_level0_row2\" class=\"row_heading level0 row2\" >2</th>\n",
       "      <td id=\"T_ec02c_row2_col0\" class=\"data row2 col0\" >0.7210</td>\n",
       "      <td id=\"T_ec02c_row2_col1\" class=\"data row2 col1\" >0.7505</td>\n",
       "      <td id=\"T_ec02c_row2_col2\" class=\"data row2 col2\" >0.8000</td>\n",
       "      <td id=\"T_ec02c_row2_col3\" class=\"data row2 col3\" >0.7656</td>\n",
       "      <td id=\"T_ec02c_row2_col4\" class=\"data row2 col4\" >0.7824</td>\n",
       "      <td id=\"T_ec02c_row2_col5\" class=\"data row2 col5\" >0.3943</td>\n",
       "      <td id=\"T_ec02c_row2_col6\" class=\"data row2 col6\" >0.3950</td>\n",
       "    </tr>\n",
       "    <tr>\n",
       "      <th id=\"T_ec02c_level0_row3\" class=\"row_heading level0 row3\" >3</th>\n",
       "      <td id=\"T_ec02c_row3_col0\" class=\"data row3 col0\" >0.7367</td>\n",
       "      <td id=\"T_ec02c_row3_col1\" class=\"data row3 col1\" >0.8008</td>\n",
       "      <td id=\"T_ec02c_row3_col2\" class=\"data row3 col2\" >0.7800</td>\n",
       "      <td id=\"T_ec02c_row3_col3\" class=\"data row3 col3\" >0.7959</td>\n",
       "      <td id=\"T_ec02c_row3_col4\" class=\"data row3 col4\" >0.7879</td>\n",
       "      <td id=\"T_ec02c_row3_col5\" class=\"data row3 col5\" >0.4409</td>\n",
       "      <td id=\"T_ec02c_row3_col6\" class=\"data row3 col6\" >0.4410</td>\n",
       "    </tr>\n",
       "    <tr>\n",
       "      <th id=\"T_ec02c_level0_row4\" class=\"row_heading level0 row4\" >4</th>\n",
       "      <td id=\"T_ec02c_row4_col0\" class=\"data row4 col0\" >0.7461</td>\n",
       "      <td id=\"T_ec02c_row4_col1\" class=\"data row4 col1\" >0.8158</td>\n",
       "      <td id=\"T_ec02c_row4_col2\" class=\"data row4 col2\" >0.8200</td>\n",
       "      <td id=\"T_ec02c_row4_col3\" class=\"data row4 col3\" >0.7847</td>\n",
       "      <td id=\"T_ec02c_row4_col4\" class=\"data row4 col4\" >0.8020</td>\n",
       "      <td id=\"T_ec02c_row4_col5\" class=\"data row4 col5\" >0.4487</td>\n",
       "      <td id=\"T_ec02c_row4_col6\" class=\"data row4 col6\" >0.4496</td>\n",
       "    </tr>\n",
       "    <tr>\n",
       "      <th id=\"T_ec02c_level0_row5\" class=\"row_heading level0 row5\" >5</th>\n",
       "      <td id=\"T_ec02c_row5_col0\" class=\"data row5 col0\" >0.7398</td>\n",
       "      <td id=\"T_ec02c_row5_col1\" class=\"data row5 col1\" >0.7992</td>\n",
       "      <td id=\"T_ec02c_row5_col2\" class=\"data row5 col2\" >0.7350</td>\n",
       "      <td id=\"T_ec02c_row5_col3\" class=\"data row5 col3\" >0.8305</td>\n",
       "      <td id=\"T_ec02c_row5_col4\" class=\"data row5 col4\" >0.7798</td>\n",
       "      <td id=\"T_ec02c_row5_col5\" class=\"data row5 col5\" >0.4647</td>\n",
       "      <td id=\"T_ec02c_row5_col6\" class=\"data row5 col6\" >0.4699</td>\n",
       "    </tr>\n",
       "    <tr>\n",
       "      <th id=\"T_ec02c_level0_row6\" class=\"row_heading level0 row6\" >6</th>\n",
       "      <td id=\"T_ec02c_row6_col0\" class=\"data row6 col0\" >0.7147</td>\n",
       "      <td id=\"T_ec02c_row6_col1\" class=\"data row6 col1\" >0.7697</td>\n",
       "      <td id=\"T_ec02c_row6_col2\" class=\"data row6 col2\" >0.8300</td>\n",
       "      <td id=\"T_ec02c_row6_col3\" class=\"data row6 col3\" >0.7444</td>\n",
       "      <td id=\"T_ec02c_row6_col4\" class=\"data row6 col4\" >0.7849</td>\n",
       "      <td id=\"T_ec02c_row6_col5\" class=\"data row6 col5\" >0.3653</td>\n",
       "      <td id=\"T_ec02c_row6_col6\" class=\"data row6 col6\" >0.3701</td>\n",
       "    </tr>\n",
       "    <tr>\n",
       "      <th id=\"T_ec02c_level0_row7\" class=\"row_heading level0 row7\" >7</th>\n",
       "      <td id=\"T_ec02c_row7_col0\" class=\"data row7 col0\" >0.7398</td>\n",
       "      <td id=\"T_ec02c_row7_col1\" class=\"data row7 col1\" >0.8066</td>\n",
       "      <td id=\"T_ec02c_row7_col2\" class=\"data row7 col2\" >0.8050</td>\n",
       "      <td id=\"T_ec02c_row7_col3\" class=\"data row7 col3\" >0.7854</td>\n",
       "      <td id=\"T_ec02c_row7_col4\" class=\"data row7 col4\" >0.7951</td>\n",
       "      <td id=\"T_ec02c_row7_col5\" class=\"data row7 col5\" >0.4390</td>\n",
       "      <td id=\"T_ec02c_row7_col6\" class=\"data row7 col6\" >0.4392</td>\n",
       "    </tr>\n",
       "    <tr>\n",
       "      <th id=\"T_ec02c_level0_row8\" class=\"row_heading level0 row8\" >8</th>\n",
       "      <td id=\"T_ec02c_row8_col0\" class=\"data row8 col0\" >0.7618</td>\n",
       "      <td id=\"T_ec02c_row8_col1\" class=\"data row8 col1\" >0.7992</td>\n",
       "      <td id=\"T_ec02c_row8_col2\" class=\"data row8 col2\" >0.7900</td>\n",
       "      <td id=\"T_ec02c_row8_col3\" class=\"data row8 col3\" >0.8229</td>\n",
       "      <td id=\"T_ec02c_row8_col4\" class=\"data row8 col4\" >0.8061</td>\n",
       "      <td id=\"T_ec02c_row8_col5\" class=\"data row8 col5\" >0.4975</td>\n",
       "      <td id=\"T_ec02c_row8_col6\" class=\"data row8 col6\" >0.4982</td>\n",
       "    </tr>\n",
       "    <tr>\n",
       "      <th id=\"T_ec02c_level0_row9\" class=\"row_heading level0 row9\" >9</th>\n",
       "      <td id=\"T_ec02c_row9_col0\" class=\"data row9 col0\" >0.7335</td>\n",
       "      <td id=\"T_ec02c_row9_col1\" class=\"data row9 col1\" >0.7685</td>\n",
       "      <td id=\"T_ec02c_row9_col2\" class=\"data row9 col2\" >0.7940</td>\n",
       "      <td id=\"T_ec02c_row9_col3\" class=\"data row9 col3\" >0.7822</td>\n",
       "      <td id=\"T_ec02c_row9_col4\" class=\"data row9 col4\" >0.7880</td>\n",
       "      <td id=\"T_ec02c_row9_col5\" class=\"data row9 col5\" >0.4294</td>\n",
       "      <td id=\"T_ec02c_row9_col6\" class=\"data row9 col6\" >0.4295</td>\n",
       "    </tr>\n",
       "    <tr>\n",
       "      <th id=\"T_ec02c_level0_row10\" class=\"row_heading level0 row10\" >Mean</th>\n",
       "      <td id=\"T_ec02c_row10_col0\" class=\"data row10 col0\" >0.7343</td>\n",
       "      <td id=\"T_ec02c_row10_col1\" class=\"data row10 col1\" >0.7876</td>\n",
       "      <td id=\"T_ec02c_row10_col2\" class=\"data row10 col2\" >0.7989</td>\n",
       "      <td id=\"T_ec02c_row10_col3\" class=\"data row10 col3\" >0.7832</td>\n",
       "      <td id=\"T_ec02c_row10_col4\" class=\"data row10 col4\" >0.7902</td>\n",
       "      <td id=\"T_ec02c_row10_col5\" class=\"data row10 col5\" >0.4277</td>\n",
       "      <td id=\"T_ec02c_row10_col6\" class=\"data row10 col6\" >0.4294</td>\n",
       "    </tr>\n",
       "    <tr>\n",
       "      <th id=\"T_ec02c_level0_row11\" class=\"row_heading level0 row11\" >Std</th>\n",
       "      <td id=\"T_ec02c_row11_col0\" class=\"data row11 col0\" >0.0142</td>\n",
       "      <td id=\"T_ec02c_row11_col1\" class=\"data row11 col1\" >0.0194</td>\n",
       "      <td id=\"T_ec02c_row11_col2\" class=\"data row11 col2\" >0.0277</td>\n",
       "      <td id=\"T_ec02c_row11_col3\" class=\"data row11 col3\" >0.0262</td>\n",
       "      <td id=\"T_ec02c_row11_col4\" class=\"data row11 col4\" >0.0096</td>\n",
       "      <td id=\"T_ec02c_row11_col5\" class=\"data row11 col5\" >0.0383</td>\n",
       "      <td id=\"T_ec02c_row11_col6\" class=\"data row11 col6\" >0.0380</td>\n",
       "    </tr>\n",
       "  </tbody>\n",
       "</table>\n"
      ],
      "text/plain": [
       "<pandas.io.formats.style.Styler at 0x7fdf7cb7e9a0>"
      ]
     },
     "metadata": {},
     "output_type": "display_data"
    },
    {
     "data": {
      "text/html": [],
      "text/plain": [
       "<IPython.core.display.HTML object>"
      ]
     },
     "metadata": {},
     "output_type": "display_data"
    },
    {
     "name": "stdout",
     "output_type": "stream",
     "text": [
      "Fitting 10 folds for each of 4 candidates, totalling 40 fits\n",
      "Original model was better than the tuned model, hence it will be returned. NOTE: The display metrics are for the tuned model (not the original one).\n"
     ]
    }
   ],
   "source": [
    "tuned_model = pc.tune_model(model,\n",
    "                            optimize = 'f1',\n",
    "                            search_library = 'scikit-learn',\n",
    "                            search_algorithm = 'random',\n",
    "                            n_iter = 4)\n"
   ]
  },
  {
   "cell_type": "markdown",
   "id": "64939d16-5de8-47e1-b87c-71ba54784722",
   "metadata": {},
   "source": [
    "## Avaliação do Modelo "
   ]
  },
  {
   "cell_type": "code",
   "execution_count": 11,
   "id": "1ddb11dc-1d5c-4d84-87ee-0cc826fc1045",
   "metadata": {},
   "outputs": [],
   "source": [
    "# pc.evaluate_model?\n",
    "# pc.plot_model?"
   ]
  },
  {
   "cell_type": "code",
   "execution_count": 12,
   "id": "ac1edf47-b6df-4dac-bf6b-22ba9da44dcb",
   "metadata": {},
   "outputs": [
    {
     "data": {
      "application/vnd.jupyter.widget-view+json": {
       "model_id": "d7e3dd1a2cfa43f6b0f8a92c26661e6b",
       "version_major": 2,
       "version_minor": 0
      },
      "text/plain": [
       "interactive(children=(ToggleButtons(description='Plot Type:', icons=('',), options=(('Pipeline Plot', 'pipelin…"
      ]
     },
     "metadata": {},
     "output_type": "display_data"
    }
   ],
   "source": [
    "pc.evaluate_model(tuned_model)"
   ]
  },
  {
   "cell_type": "markdown",
   "id": "734b0dc8-b8d1-4e0e-a63b-d19f6a11e41d",
   "metadata": {},
   "source": [
    "## Interpretação dos Resultados "
   ]
  },
  {
   "cell_type": "code",
   "execution_count": 13,
   "id": "a863c3ee-fb62-4609-bc0c-b15e3f7f5b85",
   "metadata": {},
   "outputs": [],
   "source": [
    "# pc.interpret_model?"
   ]
  },
  {
   "cell_type": "code",
   "execution_count": 14,
   "id": "737c5bb8-c6f7-4cc5-a49e-dc9dd1bcdbf6",
   "metadata": {},
   "outputs": [
    {
     "data": {
      "image/png": "[encoded data removed]",
      "text/plain": [
       "<Figure size 750x500 with 2 Axes>"
      ]
     },
     "metadata": {},
     "output_type": "display_data"
    }
   ],
   "source": [
    "pc.interpret_model(tuned_model, plot='correlation', feature='alcohol')"
   ]
  },
  {
   "cell_type": "markdown",
   "id": "f7069aad-5d23-4cdc-aa85-b1ca4c806f43",
   "metadata": {},
   "source": [
    "## Calibração de Modelos "
   ]
  },
  {
   "cell_type": "code",
   "execution_count": 15,
   "id": "795fceb4-79c5-449c-9f81-98df71a43b93",
   "metadata": {},
   "outputs": [],
   "source": [
    "# pc.calibrate_model?"
   ]
  },
  {
   "cell_type": "code",
   "execution_count": 16,
   "id": "cecd28d6-3bbd-46ca-9834-111fd1b0a142",
   "metadata": {},
   "outputs": [
    {
     "data": {
      "text/html": [],
      "text/plain": [
       "<IPython.core.display.HTML object>"
      ]
     },
     "metadata": {},
     "output_type": "display_data"
    },
    {
     "data": {
      "text/html": [
       "<style type=\"text/css\">\n",
       "#T_e0a74_row5_col0, #T_e0a74_row5_col1, #T_e0a74_row5_col2, #T_e0a74_row5_col3, #T_e0a74_row5_col4, #T_e0a74_row5_col5, #T_e0a74_row5_col6 {\n",
       "  background: yellow;\n",
       "}\n",
       "</style>\n",
       "<table id=\"T_e0a74\">\n",
       "  <thead>\n",
       "    <tr>\n",
       "      <th class=\"blank level0\" >&nbsp;</th>\n",
       "      <th id=\"T_e0a74_level0_col0\" class=\"col_heading level0 col0\" >Accuracy</th>\n",
       "      <th id=\"T_e0a74_level0_col1\" class=\"col_heading level0 col1\" >AUC</th>\n",
       "      <th id=\"T_e0a74_level0_col2\" class=\"col_heading level0 col2\" >Recall</th>\n",
       "      <th id=\"T_e0a74_level0_col3\" class=\"col_heading level0 col3\" >Prec.</th>\n",
       "      <th id=\"T_e0a74_level0_col4\" class=\"col_heading level0 col4\" >F1</th>\n",
       "      <th id=\"T_e0a74_level0_col5\" class=\"col_heading level0 col5\" >Kappa</th>\n",
       "      <th id=\"T_e0a74_level0_col6\" class=\"col_heading level0 col6\" >MCC</th>\n",
       "    </tr>\n",
       "    <tr>\n",
       "      <th class=\"index_name level0\" >Fold</th>\n",
       "      <th class=\"blank col0\" >&nbsp;</th>\n",
       "      <th class=\"blank col1\" >&nbsp;</th>\n",
       "      <th class=\"blank col2\" >&nbsp;</th>\n",
       "      <th class=\"blank col3\" >&nbsp;</th>\n",
       "      <th class=\"blank col4\" >&nbsp;</th>\n",
       "      <th class=\"blank col5\" >&nbsp;</th>\n",
       "      <th class=\"blank col6\" >&nbsp;</th>\n",
       "    </tr>\n",
       "  </thead>\n",
       "  <tbody>\n",
       "    <tr>\n",
       "      <th id=\"T_e0a74_level0_row0\" class=\"row_heading level0 row0\" >0</th>\n",
       "      <td id=\"T_e0a74_row0_col0\" class=\"data row0 col0\" >0.7621</td>\n",
       "      <td id=\"T_e0a74_row0_col1\" class=\"data row0 col1\" >0.8217</td>\n",
       "      <td id=\"T_e0a74_row0_col2\" class=\"data row0 col2\" >0.8425</td>\n",
       "      <td id=\"T_e0a74_row0_col3\" class=\"data row0 col3\" >0.7911</td>\n",
       "      <td id=\"T_e0a74_row0_col4\" class=\"data row0 col4\" >0.8160</td>\n",
       "      <td id=\"T_e0a74_row0_col5\" class=\"data row0 col5\" >0.4806</td>\n",
       "      <td id=\"T_e0a74_row0_col6\" class=\"data row0 col6\" >0.4825</td>\n",
       "    </tr>\n",
       "    <tr>\n",
       "      <th id=\"T_e0a74_level0_row1\" class=\"row_heading level0 row1\" >1</th>\n",
       "      <td id=\"T_e0a74_row1_col0\" class=\"data row1 col0\" >0.7653</td>\n",
       "      <td id=\"T_e0a74_row1_col1\" class=\"data row1 col1\" >0.8419</td>\n",
       "      <td id=\"T_e0a74_row1_col2\" class=\"data row1 col2\" >0.8400</td>\n",
       "      <td id=\"T_e0a74_row1_col3\" class=\"data row1 col3\" >0.7962</td>\n",
       "      <td id=\"T_e0a74_row1_col4\" class=\"data row1 col4\" >0.8175</td>\n",
       "      <td id=\"T_e0a74_row1_col5\" class=\"data row1 col5\" >0.4892</td>\n",
       "      <td id=\"T_e0a74_row1_col6\" class=\"data row1 col6\" >0.4906</td>\n",
       "    </tr>\n",
       "    <tr>\n",
       "      <th id=\"T_e0a74_level0_row2\" class=\"row_heading level0 row2\" >2</th>\n",
       "      <td id=\"T_e0a74_row2_col0\" class=\"data row2 col0\" >0.7900</td>\n",
       "      <td id=\"T_e0a74_row2_col1\" class=\"data row2 col1\" >0.8543</td>\n",
       "      <td id=\"T_e0a74_row2_col2\" class=\"data row2 col2\" >0.8675</td>\n",
       "      <td id=\"T_e0a74_row2_col3\" class=\"data row2 col3\" >0.8107</td>\n",
       "      <td id=\"T_e0a74_row2_col4\" class=\"data row2 col4\" >0.8382</td>\n",
       "      <td id=\"T_e0a74_row2_col5\" class=\"data row2 col5\" >0.5400</td>\n",
       "      <td id=\"T_e0a74_row2_col6\" class=\"data row2 col6\" >0.5425</td>\n",
       "    </tr>\n",
       "    <tr>\n",
       "      <th id=\"T_e0a74_level0_row3\" class=\"row_heading level0 row3\" >3</th>\n",
       "      <td id=\"T_e0a74_row3_col0\" class=\"data row3 col0\" >0.7508</td>\n",
       "      <td id=\"T_e0a74_row3_col1\" class=\"data row3 col1\" >0.8287</td>\n",
       "      <td id=\"T_e0a74_row3_col2\" class=\"data row3 col2\" >0.8550</td>\n",
       "      <td id=\"T_e0a74_row3_col3\" class=\"data row3 col3\" >0.7720</td>\n",
       "      <td id=\"T_e0a74_row3_col4\" class=\"data row3 col4\" >0.8114</td>\n",
       "      <td id=\"T_e0a74_row3_col5\" class=\"data row3 col5\" >0.4470</td>\n",
       "      <td id=\"T_e0a74_row3_col6\" class=\"data row3 col6\" >0.4521</td>\n",
       "    </tr>\n",
       "    <tr>\n",
       "      <th id=\"T_e0a74_level0_row4\" class=\"row_heading level0 row4\" >4</th>\n",
       "      <td id=\"T_e0a74_row4_col0\" class=\"data row4 col0\" >0.7743</td>\n",
       "      <td id=\"T_e0a74_row4_col1\" class=\"data row4 col1\" >0.8245</td>\n",
       "      <td id=\"T_e0a74_row4_col2\" class=\"data row4 col2\" >0.8546</td>\n",
       "      <td id=\"T_e0a74_row4_col3\" class=\"data row4 col3\" >0.7986</td>\n",
       "      <td id=\"T_e0a74_row4_col4\" class=\"data row4 col4\" >0.8257</td>\n",
       "      <td id=\"T_e0a74_row4_col5\" class=\"data row4 col5\" >0.5067</td>\n",
       "      <td id=\"T_e0a74_row4_col6\" class=\"data row4 col6\" >0.5091</td>\n",
       "    </tr>\n",
       "    <tr>\n",
       "      <th id=\"T_e0a74_level0_row5\" class=\"row_heading level0 row5\" >Mean</th>\n",
       "      <td id=\"T_e0a74_row5_col0\" class=\"data row5 col0\" >0.7685</td>\n",
       "      <td id=\"T_e0a74_row5_col1\" class=\"data row5 col1\" >0.8342</td>\n",
       "      <td id=\"T_e0a74_row5_col2\" class=\"data row5 col2\" >0.8519</td>\n",
       "      <td id=\"T_e0a74_row5_col3\" class=\"data row5 col3\" >0.7937</td>\n",
       "      <td id=\"T_e0a74_row5_col4\" class=\"data row5 col4\" >0.8217</td>\n",
       "      <td id=\"T_e0a74_row5_col5\" class=\"data row5 col5\" >0.4927</td>\n",
       "      <td id=\"T_e0a74_row5_col6\" class=\"data row5 col6\" >0.4954</td>\n",
       "    </tr>\n",
       "    <tr>\n",
       "      <th id=\"T_e0a74_level0_row6\" class=\"row_heading level0 row6\" >Std</th>\n",
       "      <td id=\"T_e0a74_row6_col0\" class=\"data row6 col0\" >0.0131</td>\n",
       "      <td id=\"T_e0a74_row6_col1\" class=\"data row6 col1\" >0.0122</td>\n",
       "      <td id=\"T_e0a74_row6_col2\" class=\"data row6 col2\" >0.0099</td>\n",
       "      <td id=\"T_e0a74_row6_col3\" class=\"data row6 col3\" >0.0126</td>\n",
       "      <td id=\"T_e0a74_row6_col4\" class=\"data row6 col4\" >0.0094</td>\n",
       "      <td id=\"T_e0a74_row6_col5\" class=\"data row6 col5\" >0.0306</td>\n",
       "      <td id=\"T_e0a74_row6_col6\" class=\"data row6 col6\" >0.0299</td>\n",
       "    </tr>\n",
       "  </tbody>\n",
       "</table>\n"
      ],
      "text/plain": [
       "<pandas.io.formats.style.Styler at 0x7fdf19f19430>"
      ]
     },
     "metadata": {},
     "output_type": "display_data"
    },
    {
     "data": {
      "text/html": [],
      "text/plain": [
       "<IPython.core.display.HTML object>"
      ]
     },
     "metadata": {},
     "output_type": "display_data"
    },
    {
     "data": {
      "text/html": [],
      "text/plain": [
       "<IPython.core.display.HTML object>"
      ]
     },
     "metadata": {},
     "output_type": "display_data"
    },
    {
     "data": {
      "image/png": "[encoded data removed]",
      "text/plain": [
       "<Figure size 700x600 with 1 Axes>"
      ]
     },
     "metadata": {},
     "output_type": "display_data"
    }
   ],
   "source": [
    "calibrated_model = pc.calibrate_model(tuned_model, method='sigmoid', calibrate_fold=5, fold=5)\n",
    "pc.plot_model(calibrated_model, plot='calibration')"
   ]
  },
  {
   "cell_type": "markdown",
   "id": "ed0e5672-3c0d-4414-a704-00ca0418a50f",
   "metadata": {},
   "source": [
    "## Optimização da Operação "
   ]
  },
  {
   "cell_type": "code",
   "execution_count": 17,
   "id": "52f257ac-4688-4d26-85e5-c9c5fd228032",
   "metadata": {
    "scrolled": true,
    "tags": []
   },
   "outputs": [],
   "source": [
    "# pc.optimize_threshold(calibrated_model, optimize = 'Precision');"
   ]
  },
  {
   "cell_type": "markdown",
   "id": "57a0f532-94e0-4d0f-954e-1747fc3685ac",
   "metadata": {},
   "source": [
    "## Avaliação do Teste "
   ]
  },
  {
   "cell_type": "code",
   "execution_count": 18,
   "id": "9cd46bf9-16c8-477d-863a-526dd437c07b",
   "metadata": {},
   "outputs": [],
   "source": [
    "# pc.predict_model?"
   ]
  },
  {
   "cell_type": "code",
   "execution_count": 19,
   "id": "920314c3-d18e-4af0-bce1-a3755c471569",
   "metadata": {},
   "outputs": [
    {
     "data": {
      "text/html": [
       "<style type=\"text/css\">\n",
       "</style>\n",
       "<table id=\"T_0e16b\">\n",
       "  <thead>\n",
       "    <tr>\n",
       "      <th class=\"blank level0\" >&nbsp;</th>\n",
       "      <th id=\"T_0e16b_level0_col0\" class=\"col_heading level0 col0\" >Model</th>\n",
       "      <th id=\"T_0e16b_level0_col1\" class=\"col_heading level0 col1\" >Accuracy</th>\n",
       "      <th id=\"T_0e16b_level0_col2\" class=\"col_heading level0 col2\" >AUC</th>\n",
       "      <th id=\"T_0e16b_level0_col3\" class=\"col_heading level0 col3\" >Recall</th>\n",
       "      <th id=\"T_0e16b_level0_col4\" class=\"col_heading level0 col4\" >Prec.</th>\n",
       "      <th id=\"T_0e16b_level0_col5\" class=\"col_heading level0 col5\" >F1</th>\n",
       "      <th id=\"T_0e16b_level0_col6\" class=\"col_heading level0 col6\" >Kappa</th>\n",
       "      <th id=\"T_0e16b_level0_col7\" class=\"col_heading level0 col7\" >MCC</th>\n",
       "    </tr>\n",
       "  </thead>\n",
       "  <tbody>\n",
       "    <tr>\n",
       "      <th id=\"T_0e16b_level0_row0\" class=\"row_heading level0 row0\" >0</th>\n",
       "      <td id=\"T_0e16b_row0_col0\" class=\"data row0 col0\" >Random Forest Classifier</td>\n",
       "      <td id=\"T_0e16b_row0_col1\" class=\"data row0 col1\" >0.7660</td>\n",
       "      <td id=\"T_0e16b_row0_col2\" class=\"data row0 col2\" >0.8301</td>\n",
       "      <td id=\"T_0e16b_row0_col3\" class=\"data row0 col3\" >0.8492</td>\n",
       "      <td id=\"T_0e16b_row0_col4\" class=\"data row0 col4\" >0.7922</td>\n",
       "      <td id=\"T_0e16b_row0_col5\" class=\"data row0 col5\" >0.8197</td>\n",
       "      <td id=\"T_0e16b_row0_col6\" class=\"data row0 col6\" >0.4875</td>\n",
       "      <td id=\"T_0e16b_row0_col7\" class=\"data row0 col7\" >0.4899</td>\n",
       "    </tr>\n",
       "  </tbody>\n",
       "</table>\n"
      ],
      "text/plain": [
       "<pandas.io.formats.style.Styler at 0x7fdf19c86d00>"
      ]
     },
     "metadata": {},
     "output_type": "display_data"
    }
   ],
   "source": [
    "pred_holdout = pc.predict_model(calibrated_model) # holdout set (test)"
   ]
  },
  {
   "cell_type": "code",
   "execution_count": 20,
   "id": "b99fb7f4-a6f0-4cba-a5a2-94abc5cc3c1e",
   "metadata": {},
   "outputs": [
    {
     "data": {
      "text/html": [
       "<div>\n",
       "<style scoped>\n",
       "    .dataframe tbody tr th:only-of-type {\n",
       "        vertical-align: middle;\n",
       "    }\n",
       "\n",
       "    .dataframe tbody tr th {\n",
       "        vertical-align: top;\n",
       "    }\n",
       "\n",
       "    .dataframe thead th {\n",
       "        text-align: right;\n",
       "    }\n",
       "</style>\n",
       "<table border=\"1\" class=\"dataframe\">\n",
       "  <thead>\n",
       "    <tr style=\"text-align: right;\">\n",
       "      <th></th>\n",
       "      <th>fixed acidity</th>\n",
       "      <th>volatile acidity</th>\n",
       "      <th>citric acid</th>\n",
       "      <th>residual sugar</th>\n",
       "      <th>chlorides</th>\n",
       "      <th>free sulfur dioxide</th>\n",
       "      <th>total sulfur dioxide</th>\n",
       "      <th>density</th>\n",
       "      <th>pH</th>\n",
       "      <th>sulphates</th>\n",
       "      <th>alcohol</th>\n",
       "      <th>type</th>\n",
       "      <th>target</th>\n",
       "      <th>prediction_label</th>\n",
       "      <th>prediction_score</th>\n",
       "    </tr>\n",
       "  </thead>\n",
       "  <tbody>\n",
       "    <tr>\n",
       "      <th>5319</th>\n",
       "      <td>6.0</td>\n",
       "      <td>0.21</td>\n",
       "      <td>0.38</td>\n",
       "      <td>0.8</td>\n",
       "      <td>0.020</td>\n",
       "      <td>22.0</td>\n",
       "      <td>98.0</td>\n",
       "      <td>0.98941</td>\n",
       "      <td>3.26</td>\n",
       "      <td>0.32</td>\n",
       "      <td>11.8</td>\n",
       "      <td>white</td>\n",
       "      <td>1</td>\n",
       "      <td>1</td>\n",
       "      <td>0.8955</td>\n",
       "    </tr>\n",
       "    <tr>\n",
       "      <th>1556</th>\n",
       "      <td>7.2</td>\n",
       "      <td>0.23</td>\n",
       "      <td>0.38</td>\n",
       "      <td>14.3</td>\n",
       "      <td>0.058</td>\n",
       "      <td>55.0</td>\n",
       "      <td>194.0</td>\n",
       "      <td>0.99790</td>\n",
       "      <td>3.09</td>\n",
       "      <td>0.44</td>\n",
       "      <td>9.0</td>\n",
       "      <td>white</td>\n",
       "      <td>1</td>\n",
       "      <td>1</td>\n",
       "      <td>0.7193</td>\n",
       "    </tr>\n",
       "    <tr>\n",
       "      <th>4739</th>\n",
       "      <td>7.0</td>\n",
       "      <td>0.22</td>\n",
       "      <td>0.30</td>\n",
       "      <td>1.4</td>\n",
       "      <td>0.040</td>\n",
       "      <td>14.0</td>\n",
       "      <td>63.0</td>\n",
       "      <td>0.98985</td>\n",
       "      <td>3.20</td>\n",
       "      <td>0.33</td>\n",
       "      <td>12.0</td>\n",
       "      <td>white</td>\n",
       "      <td>1</td>\n",
       "      <td>1</td>\n",
       "      <td>0.8745</td>\n",
       "    </tr>\n",
       "    <tr>\n",
       "      <th>1435</th>\n",
       "      <td>6.8</td>\n",
       "      <td>0.25</td>\n",
       "      <td>0.31</td>\n",
       "      <td>13.3</td>\n",
       "      <td>0.050</td>\n",
       "      <td>69.0</td>\n",
       "      <td>202.0</td>\n",
       "      <td>0.99720</td>\n",
       "      <td>3.22</td>\n",
       "      <td>0.48</td>\n",
       "      <td>9.7</td>\n",
       "      <td>white</td>\n",
       "      <td>1</td>\n",
       "      <td>1</td>\n",
       "      <td>0.5055</td>\n",
       "    </tr>\n",
       "    <tr>\n",
       "      <th>1976</th>\n",
       "      <td>6.2</td>\n",
       "      <td>0.25</td>\n",
       "      <td>0.48</td>\n",
       "      <td>10.0</td>\n",
       "      <td>0.044</td>\n",
       "      <td>78.0</td>\n",
       "      <td>240.0</td>\n",
       "      <td>0.99655</td>\n",
       "      <td>3.25</td>\n",
       "      <td>0.47</td>\n",
       "      <td>9.5</td>\n",
       "      <td>white</td>\n",
       "      <td>1</td>\n",
       "      <td>0</td>\n",
       "      <td>0.5911</td>\n",
       "    </tr>\n",
       "  </tbody>\n",
       "</table>\n",
       "</div>"
      ],
      "text/plain": [
       "      fixed acidity  volatile acidity  citric acid  residual sugar  chlorides  \\\n",
       "5319            6.0              0.21         0.38             0.8      0.020   \n",
       "1556            7.2              0.23         0.38            14.3      0.058   \n",
       "4739            7.0              0.22         0.30             1.4      0.040   \n",
       "1435            6.8              0.25         0.31            13.3      0.050   \n",
       "1976            6.2              0.25         0.48            10.0      0.044   \n",
       "\n",
       "      free sulfur dioxide  total sulfur dioxide  density    pH  sulphates  \\\n",
       "5319                 22.0                  98.0  0.98941  3.26       0.32   \n",
       "1556                 55.0                 194.0  0.99790  3.09       0.44   \n",
       "4739                 14.0                  63.0  0.98985  3.20       0.33   \n",
       "1435                 69.0                 202.0  0.99720  3.22       0.48   \n",
       "1976                 78.0                 240.0  0.99655  3.25       0.47   \n",
       "\n",
       "      alcohol   type  target  prediction_label  prediction_score  \n",
       "5319     11.8  white       1                 1            0.8955  \n",
       "1556      9.0  white       1                 1            0.7193  \n",
       "4739     12.0  white       1                 1            0.8745  \n",
       "1435      9.7  white       1                 1            0.5055  \n",
       "1976      9.5  white       1                 0            0.5911  "
      ]
     },
     "execution_count": 20,
     "metadata": {},
     "output_type": "execute_result"
    }
   ],
   "source": [
    "pred_holdout.head()"
   ]
  },
  {
   "cell_type": "markdown",
   "id": "4a2f1e48-eb9c-487f-ba44-486e51a858c7",
   "metadata": {},
   "source": [
    "## Finalização do Modelo para Produção"
   ]
  },
  {
   "cell_type": "code",
   "execution_count": 24,
   "id": "204c36bf-e8d4-4e31-a71c-3473181b5691",
   "metadata": {},
   "outputs": [],
   "source": [
    "# pc.finalize_model?"
   ]
  },
  {
   "cell_type": "code",
   "execution_count": 25,
   "id": "ec0327d1-46eb-412d-87a1-47b63ab38368",
   "metadata": {},
   "outputs": [
    {
     "data": {
      "text/html": [
       "<style type=\"text/css\">\n",
       "</style>\n",
       "<table id=\"T_61714\">\n",
       "  <thead>\n",
       "    <tr>\n",
       "      <th class=\"blank level0\" >&nbsp;</th>\n",
       "      <th id=\"T_61714_level0_col0\" class=\"col_heading level0 col0\" >Model</th>\n",
       "      <th id=\"T_61714_level0_col1\" class=\"col_heading level0 col1\" >Accuracy</th>\n",
       "      <th id=\"T_61714_level0_col2\" class=\"col_heading level0 col2\" >AUC</th>\n",
       "      <th id=\"T_61714_level0_col3\" class=\"col_heading level0 col3\" >Recall</th>\n",
       "      <th id=\"T_61714_level0_col4\" class=\"col_heading level0 col4\" >Prec.</th>\n",
       "      <th id=\"T_61714_level0_col5\" class=\"col_heading level0 col5\" >F1</th>\n",
       "      <th id=\"T_61714_level0_col6\" class=\"col_heading level0 col6\" >Kappa</th>\n",
       "      <th id=\"T_61714_level0_col7\" class=\"col_heading level0 col7\" >MCC</th>\n",
       "    </tr>\n",
       "  </thead>\n",
       "  <tbody>\n",
       "    <tr>\n",
       "      <th id=\"T_61714_level0_row0\" class=\"row_heading level0 row0\" >0</th>\n",
       "      <td id=\"T_61714_row0_col0\" class=\"data row0 col0\" >Random Forest Classifier</td>\n",
       "      <td id=\"T_61714_row0_col1\" class=\"data row0 col1\" >0.9958</td>\n",
       "      <td id=\"T_61714_row0_col2\" class=\"data row0 col2\" >0.9999</td>\n",
       "      <td id=\"T_61714_row0_col3\" class=\"data row0 col3\" >0.9977</td>\n",
       "      <td id=\"T_61714_row0_col4\" class=\"data row0 col4\" >0.9955</td>\n",
       "      <td id=\"T_61714_row0_col5\" class=\"data row0 col5\" >0.9966</td>\n",
       "      <td id=\"T_61714_row0_col6\" class=\"data row0 col6\" >0.9910</td>\n",
       "      <td id=\"T_61714_row0_col7\" class=\"data row0 col7\" >0.9910</td>\n",
       "    </tr>\n",
       "  </tbody>\n",
       "</table>\n"
      ],
      "text/plain": [
       "<pandas.io.formats.style.Styler at 0x7fdf7cb26e50>"
      ]
     },
     "metadata": {},
     "output_type": "display_data"
    }
   ],
   "source": [
    "final_model = pc.finalize_model(calibrated_model)\n",
    "pred_final = pc.predict_model(final_model) # holdout set (test)"
   ]
  },
  {
   "cell_type": "markdown",
   "id": "0f8b2a91-9b6b-494a-813e-3d4c58754193",
   "metadata": {},
   "source": [
    "## Exportação do Experimento "
   ]
  },
  {
   "cell_type": "code",
   "execution_count": null,
   "id": "c456f744-87df-4cbd-895b-df7c54befad7",
   "metadata": {},
   "outputs": [],
   "source": [
    "# pc.load_config?\n",
    "# pc.save_config?\n",
    "# pc.load_model?\n",
    "# pc.save_model?"
   ]
  },
  {
   "cell_type": "code",
   "execution_count": null,
   "id": "599ee757-4e2e-4afe-bca6-5480a3f0c49e",
   "metadata": {},
   "outputs": [],
   "source": [
    "pc.save_model(calibrated_model, model_name)"
   ]
  },
  {
   "cell_type": "code",
   "execution_count": null,
   "id": "bb1badb8-9a2e-43b3-9425-3d836f7200f6",
   "metadata": {},
   "outputs": [],
   "source": []
  },
  {
   "cell_type": "code",
   "execution_count": null,
   "id": "8b347d7a-b2f0-40e3-9bfc-c24bac011378",
   "metadata": {},
   "outputs": [],
   "source": []
  },
  {
   "cell_type": "code",
   "execution_count": null,
   "id": "02a3fc4e-e1f1-4ae5-9a62-a4951d8eaf46",
   "metadata": {},
   "outputs": [],
   "source": []
  },
  {
   "cell_type": "code",
   "execution_count": null,
   "id": "4a6b82df-ca5e-474f-a318-d643030031a1",
   "metadata": {},
   "outputs": [],
   "source": []
  },
  {
   "cell_type": "code",
   "execution_count": null,
   "id": "69e6a812-a271-4b26-b6a6-68385964d154",
   "metadata": {},
   "outputs": [],
   "source": []
  }
 ],
 "metadata": {
  "kernelspec": {
   "display_name": "Python 3 (ipykernel)",
   "language": "python",
   "name": "python3"
  },
  "language_info": {
   "codemirror_mode": {
    "name": "ipython",
    "version": 3
   },
   "file_extension": ".py",
   "mimetype": "text/x-python",
   "name": "python",
   "nbconvert_exporter": "python",
   "pygments_lexer": "ipython3",
   "version": "3.8.10"
  }
 },
 "nbformat": 4,
 "nbformat_minor": 5
}
